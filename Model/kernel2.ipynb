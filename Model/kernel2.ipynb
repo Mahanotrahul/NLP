{
  "nbformat": 4,
  "nbformat_minor": 0,
  "metadata": {
    "colab": {
      "name": "kernel1.ipynb",
      "version": "0.3.2",
      "provenance": []
    },
    "kernelspec": {
      "name": "python3",
      "display_name": "Python 3"
    },
    "accelerator": "TPU"
  },
  "cells": [
    {
      "metadata": {
        "_uuid": "6ab092a614aeaf674ef51af6c23badcfcadbac73",
        "id": "3o0yiA5Huu1W",
        "colab_type": "text"
      },
      "cell_type": "markdown",
      "source": [
        "This Notebook is a Sequence-to-Sequence Model for Text Summarization task using Attention Model"
      ]
    },
    {
      "metadata": {
        "_uuid": "850b9874d086f145a3d3dfeaeab4100e24bceb84",
        "id": "RZcjVq4Puu1X",
        "colab_type": "code",
        "colab": {}
      },
      "cell_type": "code",
      "source": [
        "import numpy as np\n",
        "from keras.models import Model\n",
        "from keras.layers import Dense, Input, Dropout, LSTM, Activation, Bidirectional, Concatenate, Permute, Dot, Multiply\n",
        "from keras.layers import RepeatVector, Lambda, TimeDistributed, merge, Reshape\n",
        "from keras.layers import multiply as mul\n",
        "from keras.layers.embeddings import Embedding\n",
        "from keras import optimizers\n",
        "from keras.utils import to_categorical\n",
        "from keras.initializers import glorot_uniform\n",
        "import matplotlib.pyplot as plt\n",
        "from utils import *\n",
        "import pandas as pd\n",
        "#from nltk.corpus import stopwords\n",
        "from pickle import dump, load\n",
        "import re\n",
        "from IPython.display import SVG\n",
        "from keras.utils.vis_utils import model_to_dot\n",
        "from keras.utils import plot_model\n",
        "#from attention import AttentionDecoder"
      ],
      "execution_count": 0,
      "outputs": []
    },
    {
      "metadata": {
        "_uuid": "248397c756765fcdf11ee47cb9844adfc5edfb08",
        "id": "QE6L4Tikuu1b",
        "colab_type": "code",
        "colab": {}
      },
      "cell_type": "code",
      "source": [
        "reviews = pd.read_csv(\"dataset/Reviews.csv\")"
      ],
      "execution_count": 0,
      "outputs": []
    },
    {
      "metadata": {
        "_uuid": "b1346c4221e5c02b619265d9788e9168086a4a30",
        "id": "VUPcEHGAuu1d",
        "colab_type": "code",
        "colab": {}
      },
      "cell_type": "code",
      "source": [
        "print(reviews.shape)\n",
        "print(reviews.head())\n",
        "print(reviews.isnull().sum())"
      ],
      "execution_count": 0,
      "outputs": []
    },
    {
      "metadata": {
        "_uuid": "78067bc72a29493f7fd7e7a8fa56fe8d4e552f22",
        "id": "4ZYednifuu1g",
        "colab_type": "code",
        "colab": {}
      },
      "cell_type": "code",
      "source": [
        "reviews = reviews.dropna()\n",
        "reviews = reviews.drop(['Id','ProductId','UserId','ProfileName','HelpfulnessNumerator','HelpfulnessDenominator', 'Score','Time'], 1)\n",
        "reviews = reviews.reset_index(drop=True) \n",
        "print(reviews.head())\n",
        "for i in range(5):\n",
        "    print(\"Review #\",i+1)\n",
        "    print(reviews.Summary[i])\n",
        "    print(reviews.Text[i])\n",
        "    print()\n",
        "    "
      ],
      "execution_count": 0,
      "outputs": []
    },
    {
      "metadata": {
        "_uuid": "db0331b9fa896a8bd10d3f2f317779336d63f3f6",
        "id": "2sr0QH8zuu1i",
        "colab_type": "code",
        "colab": {}
      },
      "cell_type": "code",
      "source": [
        "contractions = {\"ain't\": \"am not\",\n",
        "                \"aren't\": \"are not\",\n",
        "                \"can't\": \"cannot\",\n",
        "                \"can't've\": \"cannot have\",\n",
        "                \"'cause\": \"because\",\n",
        "                \"could've\": \"could have\",\n",
        "                \"couldn't\": \"could not\",\n",
        "                \"couldn't've\": \"could not have\",\n",
        "                \"didn't\": \"did not\",\n",
        "                \"doesn't\": \"does not\",\n",
        "                \"don't\": \"do not\",\n",
        "                \"hadn't\": \"had not\",\n",
        "                \"hadn't've\": \"had not have\",\n",
        "                \"hasn't\": \"has not\",\n",
        "                \"haven't\": \"have not\",\n",
        "                \"he'd\": \"he would\",\n",
        "                \"he'd've\": \"he would have\"}"
      ],
      "execution_count": 0,
      "outputs": []
    },
    {
      "metadata": {
        "_uuid": "26f764fa33ad7f5587361a8735dcae98729a73ac",
        "id": "PKljolX2uu1l",
        "colab_type": "code",
        "colab": {}
      },
      "cell_type": "code",
      "source": [
        "def clean_text(text, remove_stopwords = True):\n",
        "    # Convert words to lower case\n",
        "    text = text.lower()\n",
        "    if True:\n",
        "        text = text.split()\n",
        "        new_text = []\n",
        "        for word in text:\n",
        "            if word in contractions:\n",
        "                new_text.append(contractions[word])\n",
        "            else:\n",
        "                new_text.append(word)\n",
        "        text = \" \".join(new_text)\n",
        "        text = re.sub(r'https?:\\/\\/.*[\\r\\n]*', '', text, flags=re.MULTILINE)\n",
        "        text = re.sub(r'\\<a href', ' ', text)\n",
        "        text = re.sub(r'</code>&<code>', '', text)\n",
        "        text = re.sub(r'[_\"\\-;%()|+&=*%!?:#$@\\[\\]/]', ' ', text)\n",
        "        text = re.sub(r'</code><br /><code>', ' ', text)\n",
        "        text = re.sub(r'\\'', ' ', text)\n",
        "        if remove_stopwords:\n",
        "            text = text.split()\n",
        "            stops = set(stopwords.words(\"english\"))\n",
        "            text = [w for w in text if not w in stops]\n",
        "            text = \" \".join(text)\n",
        "        return text"
      ],
      "execution_count": 0,
      "outputs": []
    },
    {
      "metadata": {
        "_uuid": "414921f6201e0f11526be71e752ff832ffe8aee4",
        "id": "zin16tNquu1n",
        "colab_type": "code",
        "colab": {}
      },
      "cell_type": "code",
      "source": [
        "clean_summaries = []\n",
        "for summary in reviews.Summary:\n",
        "    clean_summaries.append(clean_text(summary, remove_stopwords=False))\n",
        "print(\"Summaries are complete.\")\n",
        "clean_texts = []\n",
        "for text in reviews.Text:\n",
        "    clean_texts.append(clean_text(text , remove_stopwords = False))\n",
        "print(\"Texts are complete.\")"
      ],
      "execution_count": 0,
      "outputs": []
    },
    {
      "metadata": {
        "_uuid": "2bdf20304debc5eb52457092c02813cba3e49fdd",
        "id": "KxYzuHl2uu1q",
        "colab_type": "code",
        "colab": {}
      },
      "cell_type": "code",
      "source": [
        "stories = list()\n",
        "for i, text in enumerate(clean_texts):\n",
        "    stories.append({'story': text, 'highlights': clean_summaries[i]})\n",
        "# save to file\n",
        "dump(stories, open('review_dataset2.pkl', 'wb'))"
      ],
      "execution_count": 0,
      "outputs": []
    },
    {
      "metadata": {
        "_uuid": "caccdd6968f4e9acf6a309f848881ad82abb02de",
        "id": "6_hJpgyIuu1t",
        "colab_type": "code",
        "colab": {},
        "outputId": "267002e3-9e87-4eae-bc06-882ecb27f4a7"
      },
      "cell_type": "code",
      "source": [
        "stories = load(open('review_dataset2.pkl', 'rb'))\n",
        "print('Loaded Stories %d' % len(stories))\n",
        "print(type(stories))\n",
        "print(stories[3])"
      ],
      "execution_count": 0,
      "outputs": [
        {
          "output_type": "stream",
          "text": [
            "Loaded Stories 568411\n",
            "<class 'list'>\n",
            "{'story': 'if you are looking for the secret ingredient in robitussin i believe i have found it. i got this in addition to the root beer extract i ordered  which was good  and made some cherry soda. the flavor is very medicinal.', 'highlights': 'cough medicine'}\n"
          ],
          "name": "stdout"
        }
      ]
    },
    {
      "metadata": {
        "_uuid": "73582ce9a5d32f177ad92225046ddb1f0d65bea0",
        "id": "MHNwwnlmuu10",
        "colab_type": "code",
        "colab": {}
      },
      "cell_type": "code",
      "source": [
        "batch_size = 64\n",
        "epochs = 110\n",
        "latent_dim = 256\n",
        "num_samples = 10000"
      ],
      "execution_count": 0,
      "outputs": []
    },
    {
      "metadata": {
        "_uuid": "e5446ec6699d41c3c776ec48ff1c95e430ba1a1f",
        "id": "2YOasTbvuu11",
        "colab_type": "code",
        "colab": {},
        "outputId": "dc3c08dd-b2f1-4990-fcf3-4d23006f97ad"
      },
      "cell_type": "code",
      "source": [
        "input_texts = []\n",
        "target_texts = []\n",
        "input_characters = set()\n",
        "target_characters = set()\n",
        "for story in stories[:50]:\n",
        "    input_text = story['story']\n",
        "    target_text = story['highlights']\n",
        "    # We use \"tab\" as the \"start sequence\" character\n",
        "    # for the targets, and \"\\n\" as \"end sequence\" character.\n",
        "    target_text = '\\t' + target_text + '\\n'\n",
        "    input_texts.append(input_text)\n",
        "    target_texts.append(target_text)\n",
        "    for char in input_text:\n",
        "        if char not in input_characters:\n",
        "            input_characters.add(char)\n",
        "    for char in target_text:\n",
        "        if char not in target_characters:\n",
        "            target_characters.add(char)\n",
        "input_characters = sorted(list(input_characters))\n",
        "target_characters = sorted(list(target_characters))\n",
        "num_encoder_tokens = len(input_characters)\n",
        "num_decoder_tokens = len(target_characters)\n",
        "max_encoder_seq_length = max([len(txt) for txt in input_texts])\n",
        "max_decoder_seq_length = max([len(txt) for txt in target_texts])\n",
        "print('Number of samples:', len(input_texts))\n",
        "print('Number of unique input tokens:', num_encoder_tokens)\n",
        "print('Number of unique output tokens:', num_decoder_tokens)\n",
        "print('Max sequence length for inputs:', max_encoder_seq_length)\n",
        "print('Max sequence length for outputs:', max_decoder_seq_length)\n",
        "print(len(input_texts))\n",
        "print(len(target_texts))"
      ],
      "execution_count": 0,
      "outputs": [
        {
          "output_type": "stream",
          "text": [
            "Number of samples: 50\n",
            "Number of unique input tokens: 41\n",
            "Number of unique output tokens: 31\n",
            "Max sequence length for inputs: 1221\n",
            "Max sequence length for outputs: 62\n",
            "50\n",
            "50\n"
          ],
          "name": "stdout"
        }
      ]
    },
    {
      "metadata": {
        "id": "DRfyAIiMuu15",
        "colab_type": "code",
        "colab": {}
      },
      "cell_type": "code",
      "source": [
        ""
      ],
      "execution_count": 0,
      "outputs": []
    },
    {
      "metadata": {
        "_uuid": "8d1f484667466453bf5152c3613e0c0863e81a14",
        "id": "Mj-WHaUWuu17",
        "colab_type": "code",
        "colab": {}
      },
      "cell_type": "code",
      "source": [
        "input_token_index = dict([(char, i) for i, char in enumerate(input_characters)])\n",
        "\n",
        "target_token_index = dict([(char, i) for i, char in enumerate(target_characters)])\n",
        "reverse_target_char_index = dict([(i, char) for i, char in enumerate(target_characters)])\n",
        "\n",
        "\n",
        "encoder_input_data = np.zeros((len(input_texts), max_encoder_seq_length, num_encoder_tokens), dtype='float32')\n",
        "\n",
        "decoder_input_data = np.zeros((len(input_texts), max_decoder_seq_length, num_decoder_tokens), dtype='float32')\n",
        "\n",
        "decoder_target_data = np.zeros((len(input_texts), max_decoder_seq_length, num_decoder_tokens), dtype='float32')\n",
        "\n",
        "\n",
        "\n",
        "for i, (input_text, target_text) in enumerate(zip(input_texts, target_texts)):\n",
        "    for t, char in enumerate(input_text):\n",
        "        encoder_input_data[i, t, input_token_index[char]] = 1.\n",
        "        \n",
        "    for t, char in enumerate(target_text):\n",
        "\n",
        "        # decoder_target_data is ahead of decoder_input_data by one timestep\n",
        "        decoder_input_data[i, t, target_token_index[char]] = 1.\n",
        "        if t > 0:\n",
        "            # decoder_target_data will be ahead by one timestep\n",
        "            # and will not include the start character.\n",
        "            decoder_target_data[i, t - 1, target_token_index[char]] = 1."
      ],
      "execution_count": 0,
      "outputs": []
    },
    {
      "metadata": {
        "id": "elxsCT1Wuu19",
        "colab_type": "code",
        "colab": {},
        "outputId": "dd89a476-fc11-4c71-cd8d-822c02246454"
      },
      "cell_type": "code",
      "source": [
        "print(encoder_input_data.shape)\n",
        "print(decoder_input_data.shape)\n",
        "print(decoder_target_data.shape)"
      ],
      "execution_count": 0,
      "outputs": [
        {
          "output_type": "stream",
          "text": [
            "(50, 1221, 41)\n",
            "(50, 62, 31)\n",
            "(50, 62, 31)\n"
          ],
          "name": "stdout"
        }
      ]
    },
    {
      "metadata": {
        "id": "lqkvzwOouu2A",
        "colab_type": "code",
        "colab": {}
      },
      "cell_type": "code",
      "source": [
        "repeator = RepeatVector(2297)\n",
        "concatenator = Concatenate(axis=-1)\n",
        "densor1 = Dense(10, activation = \"tanh\")\n",
        "densor2 = Dense(1, activation = \"relu\")\n",
        "activator = Activation(\"softmax\", name='attention_weights') # We are using a custom softmax(axis = 1) loaded in this notebook\n",
        "dotor = Dot(axes = 1)"
      ],
      "execution_count": 0,
      "outputs": []
    },
    {
      "metadata": {
        "_uuid": "ca2a387507631fcbda21570948fc77d10884c773",
        "id": "D-yO8Fijuu2D",
        "colab_type": "code",
        "colab": {}
      },
      "cell_type": "code",
      "source": [
        "def Character_Model(num_encoder_tokens, num_decoder_tokens, latent_dim):\n",
        "    # Define an input sequence and process it.\n",
        "\n",
        "    encoder_inputs = Input(shape=(None, num_encoder_tokens), name = \"encoder_input\")\n",
        "    #encoder_output = Bidirectional(LSTM(latent_dim,\n",
        "    #                                        return_sequences=True,\n",
        "    #                                        kernel_initializer = glorot_uniform(seed = 0),\n",
        "    #                                        bias_initializer ='zeros',\n",
        "    #                                        name = \"Bi-LSTM_output\"),\n",
        "    #                              name = \"Bidirectional\")(encoder_inputs)\n",
        "    \n",
        "    encoder_output,state_h, state_c = LSTM(256,\n",
        "                                            return_sequences=True,\n",
        "                                            return_state = True,\n",
        "                                            kernel_initializer = glorot_uniform(seed = 0),\n",
        "                                            bias_initializer ='zeros',\n",
        "                                            name = \"encoder_output\")(encoder_inputs)\n",
        "    \n",
        "    # We discard `encoder_outputs` and only keep the states.\n",
        "    encoder_states = [state_h, state_c]\n",
        "\n",
        "    # Set up the decoder, using `encoder_states` as initial state.\n",
        "    decoder_inputs = Input(shape=(None, num_decoder_tokens), name = \"decoder_input\")\n",
        "\n",
        "    # We set up our decoder to return full output sequences,\n",
        "    # and to return internal states as well. We don't use the\n",
        "    # return states in the training model, but we will use them in inference.1\n",
        "    decoder_outputs,_,_ = LSTM(256,return_sequences=True,return_state=True,\n",
        "                               kernel_initializer = glorot_uniform(seed = 0),\n",
        "                               bias_initializer ='zeros',\n",
        "                               name = \"decoder_LSTM_1\")(decoder_inputs,initial_state=encoder_states)\n",
        "    decoder_outputs = Dropout(0.8)(decoder_outputs)\n",
        "    \n",
        "    decoder_outputs,_,_ = LSTM(256,return_sequences=True,return_state=True,\n",
        "                               kernel_initializer = glorot_uniform(seed = 0),\n",
        "                               bias_initializer ='zeros',\n",
        "                               name = \"decoder_LSTM_2\")(decoder_outputs)\n",
        "    decoder_outputs = Dropout(0.8)(decoder_outputs)\n",
        "    \n",
        "    decoder_outputs = Dense(num_decoder_tokens, activation='softmax',\n",
        "    #                        kernel_initializer= glorot_uniform(seed = 0),\n",
        "    #                        bias_initializer='zeros',\n",
        "                            name = \"decoder_Dense_Output\")(decoder_outputs)\n",
        "\n",
        "    \n",
        "\n",
        "\n",
        "    # Define the model that will turn\n",
        "    # `encoder_input_data` & `decoder_input_data` into `decoder_target_data`\n",
        "    model = Model(inputs = [encoder_inputs, decoder_inputs], outputs = decoder_outputs)\n",
        "    \n",
        "    \n",
        "    # Encoder Model for Inference\n",
        "    encoder_model = Model(encoder_inputs, encoder_states)\n",
        "\n",
        "    \n",
        "    # Decoder Model for Inference\n",
        "    decoder_state_input_h = Input(shape=(latent_dim,), name = \"Inference_decoder_input_hidden_state\")\n",
        "    decoder_state_input_c = Input(shape=(latent_dim,), name = \"Inference_decoder_input_cell_state\")\n",
        "    decoder_states_inputs = [decoder_state_input_h, decoder_state_input_c]\n",
        "    \n",
        "    decoder_outputs_1, state_h, state_c = LSTM(latent_dim,\n",
        "                                               return_sequences=True, \n",
        "                                               return_state=True,\n",
        "                                               name = \"Inference_decoder_LSTM\")(decoder_inputs, initial_state=decoder_states_inputs)\n",
        "    \n",
        "    decoder_states = [state_h, state_c]\n",
        "    \n",
        "    decoder_outputs_1 = Dense(num_decoder_tokens, \n",
        "                              activation='softmax',\n",
        "                              kernel_initializer= glorot_uniform(seed = 0),\n",
        "                              bias_initializer='zeros',\n",
        "                              name = \"decoder_Dense_Output\")(decoder_outputs_1)\n",
        "    decoder_model = Model([decoder_inputs] + decoder_states_inputs,\n",
        "                          [decoder_outputs_1] + decoder_states)\n",
        "\n",
        "    return model, encoder_model, decoder_model"
      ],
      "execution_count": 0,
      "outputs": []
    },
    {
      "metadata": {
        "id": "2wqj6UzBuu2F",
        "colab_type": "code",
        "colab": {},
        "outputId": "1d013319-bc85-4d01-89de-5edcd03e78b8"
      },
      "cell_type": "code",
      "source": [
        "model, encoder_model, decoder_model = Character_Model(num_encoder_tokens, num_decoder_tokens, latent_dim)\n",
        "\n",
        "rmsprop = optimizers.RMSprop(lr=0.002)\n",
        "\n",
        "# Compile Model\n",
        "model.compile(optimizer=rmsprop, loss='categorical_crossentropy', metrics = ['accuracy'])\n",
        "# Print Model Summary\n",
        "print(model.summary())\n",
        "plot_model(model, to_file='Models/Character_Level_Model.png')\n",
        "SVG(model_to_dot(model).create(prog='dot', format='svg'))\n",
        "\n"
      ],
      "execution_count": 0,
      "outputs": [
        {
          "output_type": "stream",
          "text": [
            "__________________________________________________________________________________________________\n",
            "Layer (type)                    Output Shape         Param #     Connected to                     \n",
            "==================================================================================================\n",
            "encoder_input (InputLayer)      (None, None, 41)     0                                            \n",
            "__________________________________________________________________________________________________\n",
            "decoder_input (InputLayer)      (None, None, 31)     0                                            \n",
            "__________________________________________________________________________________________________\n",
            "encoder_output (LSTM)           [(None, None, 256),  305152      encoder_input[0][0]              \n",
            "__________________________________________________________________________________________________\n",
            "decoder_LSTM_1 (LSTM)           [(None, None, 256),  294912      decoder_input[0][0]              \n",
            "                                                                 encoder_output[0][1]             \n",
            "                                                                 encoder_output[0][2]             \n",
            "__________________________________________________________________________________________________\n",
            "dropout_29 (Dropout)            (None, None, 256)    0           decoder_LSTM_1[0][0]             \n",
            "__________________________________________________________________________________________________\n",
            "decoder_LSTM_2 (LSTM)           [(None, None, 256),  525312      dropout_29[0][0]                 \n",
            "__________________________________________________________________________________________________\n",
            "dropout_30 (Dropout)            (None, None, 256)    0           decoder_LSTM_2[0][0]             \n",
            "__________________________________________________________________________________________________\n",
            "decoder_Dense_Output (Dense)    (None, None, 31)     7967        dropout_30[0][0]                 \n",
            "==================================================================================================\n",
            "Total params: 1,133,343\n",
            "Trainable params: 1,133,343\n",
            "Non-trainable params: 0\n",
            "__________________________________________________________________________________________________\n",
            "None\n"
          ],
          "name": "stdout"
        },
        {
          "output_type": "execute_result",
          "data": {
            "image/svg+xml": "<svg height=\"483pt\" viewBox=\"0.00 0.00 347.50 483.00\" width=\"348pt\" xmlns=\"http://www.w3.org/2000/svg\" xmlns:xlink=\"http://www.w3.org/1999/xlink\">\n<g class=\"graph\" id=\"graph0\" transform=\"scale(1 1) rotate(0) translate(4 479)\">\n<title>G</title>\n<polygon fill=\"white\" points=\"-4,4 -4,-479 343.5,-479 343.5,4 -4,4\" stroke=\"none\"/>\n<!-- 1711854496904 -->\n<g class=\"node\" id=\"node1\"><title>1711854496904</title>\n<polygon fill=\"none\" points=\"0,-438.5 0,-474.5 164,-474.5 164,-438.5 0,-438.5\" stroke=\"black\"/>\n<text font-family=\"Times New Roman,serif\" font-size=\"14.00\" text-anchor=\"middle\" x=\"82\" y=\"-452.8\">encoder_input: InputLayer</text>\n</g>\n<!-- 1707788501288 -->\n<g class=\"node\" id=\"node3\"><title>1707788501288</title>\n<polygon fill=\"none\" points=\"7.5,-365.5 7.5,-401.5 156.5,-401.5 156.5,-365.5 7.5,-365.5\" stroke=\"black\"/>\n<text font-family=\"Times New Roman,serif\" font-size=\"14.00\" text-anchor=\"middle\" x=\"82\" y=\"-379.8\">encoder_output: LSTM</text>\n</g>\n<!-- 1711854496904&#45;&gt;1707788501288 -->\n<g class=\"edge\" id=\"edge1\"><title>1711854496904-&gt;1707788501288</title>\n<path d=\"M82,-438.313C82,-430.289 82,-420.547 82,-411.569\" fill=\"none\" stroke=\"black\"/>\n<polygon fill=\"black\" points=\"85.5001,-411.529 82,-401.529 78.5001,-411.529 85.5001,-411.529\" stroke=\"black\"/>\n</g>\n<!-- 1710419945624 -->\n<g class=\"node\" id=\"node2\"><title>1710419945624</title>\n<polygon fill=\"none\" points=\"174.5,-365.5 174.5,-401.5 339.5,-401.5 339.5,-365.5 174.5,-365.5\" stroke=\"black\"/>\n<text font-family=\"Times New Roman,serif\" font-size=\"14.00\" text-anchor=\"middle\" x=\"257\" y=\"-379.8\">decoder_input: InputLayer</text>\n</g>\n<!-- 1711853847776 -->\n<g class=\"node\" id=\"node4\"><title>1711853847776</title>\n<polygon fill=\"none\" points=\"86,-292.5 86,-328.5 252,-328.5 252,-292.5 86,-292.5\" stroke=\"black\"/>\n<text font-family=\"Times New Roman,serif\" font-size=\"14.00\" text-anchor=\"middle\" x=\"169\" y=\"-306.8\">decoder_LSTM_1: LSTM</text>\n</g>\n<!-- 1710419945624&#45;&gt;1711853847776 -->\n<g class=\"edge\" id=\"edge2\"><title>1710419945624-&gt;1711853847776</title>\n<path d=\"M235.698,-365.313C224.348,-356.156 210.224,-344.76 197.899,-334.816\" fill=\"none\" stroke=\"black\"/>\n<polygon fill=\"black\" points=\"200.087,-332.084 190.106,-328.529 195.691,-337.532 200.087,-332.084\" stroke=\"black\"/>\n</g>\n<!-- 1707788501288&#45;&gt;1711853847776 -->\n<g class=\"edge\" id=\"edge3\"><title>1707788501288-&gt;1711853847776</title>\n<path d=\"M103.06,-365.313C114.174,-356.243 127.979,-344.977 140.081,-335.1\" fill=\"none\" stroke=\"black\"/>\n<polygon fill=\"black\" points=\"142.599,-337.563 148.134,-328.529 138.173,-332.14 142.599,-337.563\" stroke=\"black\"/>\n</g>\n<!-- 1711854082032 -->\n<g class=\"node\" id=\"node5\"><title>1711854082032</title>\n<polygon fill=\"none\" points=\"100.5,-219.5 100.5,-255.5 237.5,-255.5 237.5,-219.5 100.5,-219.5\" stroke=\"black\"/>\n<text font-family=\"Times New Roman,serif\" font-size=\"14.00\" text-anchor=\"middle\" x=\"169\" y=\"-233.8\">dropout_29: Dropout</text>\n</g>\n<!-- 1711853847776&#45;&gt;1711854082032 -->\n<g class=\"edge\" id=\"edge5\"><title>1711853847776-&gt;1711854082032</title>\n<path d=\"M169,-292.313C169,-284.289 169,-274.547 169,-265.569\" fill=\"none\" stroke=\"black\"/>\n<polygon fill=\"black\" points=\"172.5,-265.529 169,-255.529 165.5,-265.529 172.5,-265.529\" stroke=\"black\"/>\n</g>\n<!-- 1711854308656 -->\n<g class=\"node\" id=\"node6\"><title>1711854308656</title>\n<polygon fill=\"none\" points=\"86,-146.5 86,-182.5 252,-182.5 252,-146.5 86,-146.5\" stroke=\"black\"/>\n<text font-family=\"Times New Roman,serif\" font-size=\"14.00\" text-anchor=\"middle\" x=\"169\" y=\"-160.8\">decoder_LSTM_2: LSTM</text>\n</g>\n<!-- 1711854082032&#45;&gt;1711854308656 -->\n<g class=\"edge\" id=\"edge6\"><title>1711854082032-&gt;1711854308656</title>\n<path d=\"M169,-219.313C169,-211.289 169,-201.547 169,-192.569\" fill=\"none\" stroke=\"black\"/>\n<polygon fill=\"black\" points=\"172.5,-192.529 169,-182.529 165.5,-192.529 172.5,-192.529\" stroke=\"black\"/>\n</g>\n<!-- 1707791781672 -->\n<g class=\"node\" id=\"node7\"><title>1707791781672</title>\n<polygon fill=\"none\" points=\"100.5,-73.5 100.5,-109.5 237.5,-109.5 237.5,-73.5 100.5,-73.5\" stroke=\"black\"/>\n<text font-family=\"Times New Roman,serif\" font-size=\"14.00\" text-anchor=\"middle\" x=\"169\" y=\"-87.8\">dropout_30: Dropout</text>\n</g>\n<!-- 1711854308656&#45;&gt;1707791781672 -->\n<g class=\"edge\" id=\"edge7\"><title>1711854308656-&gt;1707791781672</title>\n<path d=\"M169,-146.313C169,-138.289 169,-128.547 169,-119.569\" fill=\"none\" stroke=\"black\"/>\n<polygon fill=\"black\" points=\"172.5,-119.529 169,-109.529 165.5,-119.529 172.5,-119.529\" stroke=\"black\"/>\n</g>\n<!-- 1707791779096 -->\n<g class=\"node\" id=\"node8\"><title>1707791779096</title>\n<polygon fill=\"none\" points=\"73,-0.5 73,-36.5 265,-36.5 265,-0.5 73,-0.5\" stroke=\"black\"/>\n<text font-family=\"Times New Roman,serif\" font-size=\"14.00\" text-anchor=\"middle\" x=\"169\" y=\"-14.8\">decoder_Dense_Output: Dense</text>\n</g>\n<!-- 1707791781672&#45;&gt;1707791779096 -->\n<g class=\"edge\" id=\"edge8\"><title>1707791781672-&gt;1707791779096</title>\n<path d=\"M169,-73.3129C169,-65.2895 169,-55.5475 169,-46.5691\" fill=\"none\" stroke=\"black\"/>\n<polygon fill=\"black\" points=\"172.5,-46.5288 169,-36.5288 165.5,-46.5289 172.5,-46.5288\" stroke=\"black\"/>\n</g>\n</g>\n</svg>",
            "text/plain": [
              "<IPython.core.display.SVG object>"
            ]
          },
          "metadata": {
            "tags": []
          },
          "execution_count": 224
        }
      ]
    },
    {
      "metadata": {
        "scrolled": true,
        "id": "NRovJtYYuu2K",
        "colab_type": "code",
        "colab": {},
        "outputId": "be4b7d32-b0ae-458d-d995-6bcbedb85c55"
      },
      "cell_type": "code",
      "source": [
        "print()\n",
        "print(\"Encoder Model\")\n",
        "plot_model(encoder_model, to_file='Models/Inference_Encoder_Character_Level_Model.png')\n",
        "SVG(model_to_dot(encoder_model).create(prog='dot', format='svg'))"
      ],
      "execution_count": 0,
      "outputs": [
        {
          "output_type": "stream",
          "text": [
            "\n",
            "Encoder Model\n"
          ],
          "name": "stdout"
        },
        {
          "output_type": "execute_result",
          "data": {
            "image/svg+xml": "<svg height=\"118pt\" viewBox=\"0.00 0.00 172.00 118.00\" width=\"172pt\" xmlns=\"http://www.w3.org/2000/svg\" xmlns:xlink=\"http://www.w3.org/1999/xlink\">\n<g class=\"graph\" id=\"graph0\" transform=\"scale(1 1) rotate(0) translate(4 114)\">\n<title>G</title>\n<polygon fill=\"white\" points=\"-4,4 -4,-114 168,-114 168,4 -4,4\" stroke=\"none\"/>\n<!-- 1707971282200 -->\n<g class=\"node\" id=\"node1\"><title>1707971282200</title>\n<polygon fill=\"none\" points=\"0,-73.5 0,-109.5 164,-109.5 164,-73.5 0,-73.5\" stroke=\"black\"/>\n<text font-family=\"Times New Roman,serif\" font-size=\"14.00\" text-anchor=\"middle\" x=\"82\" y=\"-87.8\">encoder_input: InputLayer</text>\n</g>\n<!-- 1707971257288 -->\n<g class=\"node\" id=\"node2\"><title>1707971257288</title>\n<polygon fill=\"none\" points=\"7.5,-0.5 7.5,-36.5 156.5,-36.5 156.5,-0.5 7.5,-0.5\" stroke=\"black\"/>\n<text font-family=\"Times New Roman,serif\" font-size=\"14.00\" text-anchor=\"middle\" x=\"82\" y=\"-14.8\">encoder_output: LSTM</text>\n</g>\n<!-- 1707971282200&#45;&gt;1707971257288 -->\n<g class=\"edge\" id=\"edge1\"><title>1707971282200-&gt;1707971257288</title>\n<path d=\"M82,-73.3129C82,-65.2895 82,-55.5475 82,-46.5691\" fill=\"none\" stroke=\"black\"/>\n<polygon fill=\"black\" points=\"85.5001,-46.5288 82,-36.5288 78.5001,-46.5289 85.5001,-46.5288\" stroke=\"black\"/>\n</g>\n</g>\n</svg>",
            "text/plain": [
              "<IPython.core.display.SVG object>"
            ]
          },
          "metadata": {
            "tags": []
          },
          "execution_count": 213
        }
      ]
    },
    {
      "metadata": {
        "id": "mMBZuLLluu2N",
        "colab_type": "code",
        "colab": {},
        "outputId": "70b8068b-a15e-452f-e362-9d4c76bae0a6"
      },
      "cell_type": "code",
      "source": [
        "print()\n",
        "print(\"Decoder Model\")\n",
        "plot_model(decoder_model, to_file='Models/Inference_Decoder_Character_Level_Model.png')\n",
        "SVG(model_to_dot(decoder_model).create(prog='dot', format='svg'))"
      ],
      "execution_count": 0,
      "outputs": [
        {
          "output_type": "stream",
          "text": [
            "\n",
            "Decoder Model\n"
          ],
          "name": "stdout"
        },
        {
          "output_type": "execute_result",
          "data": {
            "image/svg+xml": "<svg height=\"191pt\" viewBox=\"0.00 0.00 795.50 191.00\" width=\"796pt\" xmlns=\"http://www.w3.org/2000/svg\" xmlns:xlink=\"http://www.w3.org/1999/xlink\">\n<g class=\"graph\" id=\"graph0\" transform=\"scale(1 1) rotate(0) translate(4 187)\">\n<title>G</title>\n<polygon fill=\"white\" points=\"-4,4 -4,-187 791.5,-187 791.5,4 -4,4\" stroke=\"none\"/>\n<!-- 1707971257568 -->\n<g class=\"node\" id=\"node1\"><title>1707971257568</title>\n<polygon fill=\"none\" points=\"0,-146.5 0,-182.5 165,-182.5 165,-146.5 0,-146.5\" stroke=\"black\"/>\n<text font-family=\"Times New Roman,serif\" font-size=\"14.00\" text-anchor=\"middle\" x=\"82.5\" y=\"-160.8\">decoder_input: InputLayer</text>\n</g>\n<!-- 1707938444736 -->\n<g class=\"node\" id=\"node4\"><title>1707938444736</title>\n<polygon fill=\"none\" points=\"229,-73.5 229,-109.5 440,-109.5 440,-73.5 229,-73.5\" stroke=\"black\"/>\n<text font-family=\"Times New Roman,serif\" font-size=\"14.00\" text-anchor=\"middle\" x=\"334.5\" y=\"-87.8\">Inference_decoder_LSTM: LSTM</text>\n</g>\n<!-- 1707971257568&#45;&gt;1707938444736 -->\n<g class=\"edge\" id=\"edge1\"><title>1707971257568-&gt;1707938444736</title>\n<path d=\"M142.86,-146.494C179.217,-136.25 225.69,-123.157 263.766,-112.429\" fill=\"none\" stroke=\"black\"/>\n<polygon fill=\"black\" points=\"265.083,-115.694 273.759,-109.614 263.184,-108.957 265.083,-115.694\" stroke=\"black\"/>\n</g>\n<!-- 1712455688320 -->\n<g class=\"node\" id=\"node2\"><title>1712455688320</title>\n<polygon fill=\"none\" points=\"183.5,-146.5 183.5,-182.5 485.5,-182.5 485.5,-146.5 183.5,-146.5\" stroke=\"black\"/>\n<text font-family=\"Times New Roman,serif\" font-size=\"14.00\" text-anchor=\"middle\" x=\"334.5\" y=\"-160.8\">Inference_decoder_input_hidden_state: InputLayer</text>\n</g>\n<!-- 1712455688320&#45;&gt;1707938444736 -->\n<g class=\"edge\" id=\"edge2\"><title>1712455688320-&gt;1707938444736</title>\n<path d=\"M334.5,-146.313C334.5,-138.289 334.5,-128.547 334.5,-119.569\" fill=\"none\" stroke=\"black\"/>\n<polygon fill=\"black\" points=\"338,-119.529 334.5,-109.529 331,-119.529 338,-119.529\" stroke=\"black\"/>\n</g>\n<!-- 1707938446976 -->\n<g class=\"node\" id=\"node3\"><title>1707938446976</title>\n<polygon fill=\"none\" points=\"503.5,-146.5 503.5,-182.5 787.5,-182.5 787.5,-146.5 503.5,-146.5\" stroke=\"black\"/>\n<text font-family=\"Times New Roman,serif\" font-size=\"14.00\" text-anchor=\"middle\" x=\"645.5\" y=\"-160.8\">Inference_decoder_input_cell_state: InputLayer</text>\n</g>\n<!-- 1707938446976&#45;&gt;1707938444736 -->\n<g class=\"edge\" id=\"edge3\"><title>1707938446976-&gt;1707938444736</title>\n<path d=\"M571.008,-146.494C525.291,-136.057 466.614,-122.661 419.143,-111.824\" fill=\"none\" stroke=\"black\"/>\n<polygon fill=\"black\" points=\"419.721,-108.366 409.192,-109.552 418.163,-115.19 419.721,-108.366\" stroke=\"black\"/>\n</g>\n<!-- 1707938444064 -->\n<g class=\"node\" id=\"node5\"><title>1707938444064</title>\n<polygon fill=\"none\" points=\"238.5,-0.5 238.5,-36.5 430.5,-36.5 430.5,-0.5 238.5,-0.5\" stroke=\"black\"/>\n<text font-family=\"Times New Roman,serif\" font-size=\"14.00\" text-anchor=\"middle\" x=\"334.5\" y=\"-14.8\">decoder_Dense_Output: Dense</text>\n</g>\n<!-- 1707938444736&#45;&gt;1707938444064 -->\n<g class=\"edge\" id=\"edge4\"><title>1707938444736-&gt;1707938444064</title>\n<path d=\"M334.5,-73.3129C334.5,-65.2895 334.5,-55.5475 334.5,-46.5691\" fill=\"none\" stroke=\"black\"/>\n<polygon fill=\"black\" points=\"338,-46.5288 334.5,-36.5288 331,-46.5289 338,-46.5288\" stroke=\"black\"/>\n</g>\n</g>\n</svg>",
            "text/plain": [
              "<IPython.core.display.SVG object>"
            ]
          },
          "metadata": {
            "tags": []
          },
          "execution_count": 214
        }
      ]
    },
    {
      "metadata": {
        "id": "ZdYKq7RDuu2Q",
        "colab_type": "code",
        "colab": {},
        "outputId": "42ed7d9a-ed84-4f00-d63b-67db69139856"
      },
      "cell_type": "code",
      "source": [
        "history = model.fit([encoder_input_data, decoder_input_data], decoder_target_data,\n",
        "                    batch_size=16,\n",
        "                    epochs=10,\n",
        "                    validation_split=0.01)\n",
        "\n",
        "# Save model\n",
        "model.save('s2s.h5')"
      ],
      "execution_count": 0,
      "outputs": [
        {
          "output_type": "stream",
          "text": [
            "Train on 49 samples, validate on 1 samples\n",
            "Epoch 1/10\n",
            "49/49 [==============================] - ETA: 13s - loss: 1.3563 - acc: 0.04 - ETA: 5s - loss: 1.3344 - acc: 0.0393 - ETA: 0s - loss: 1.3245 - acc: 0.035 - 17s 357ms/step - loss: 1.3096 - acc: 0.0346 - val_loss: 0.5845 - val_acc: 0.0161\n",
            "Epoch 2/10\n",
            "49/49 [==============================] - ETA: 6s - loss: 1.0620 - acc: 0.025 - ETA: 3s - loss: 1.1545 - acc: 0.035 - ETA: 0s - loss: 1.1839 - acc: 0.040 - 15s 303ms/step - loss: 1.1716 - acc: 0.0392 - val_loss: 0.5399 - val_acc: 0.0161\n",
            "Epoch 3/10\n",
            "49/49 [==============================] - ETA: 6s - loss: 1.2283 - acc: 0.037 - ETA: 3s - loss: 1.2739 - acc: 0.042 - ETA: 0s - loss: 1.1645 - acc: 0.042 - 15s 306ms/step - loss: 1.1715 - acc: 0.0428 - val_loss: 0.5360 - val_acc: 0.0161\n",
            "Epoch 4/10\n",
            "49/49 [==============================] - ETA: 6s - loss: 1.3453 - acc: 0.055 - ETA: 3s - loss: 1.1443 - acc: 0.043 - ETA: 0s - loss: 1.1511 - acc: 0.040 - 14s 287ms/step - loss: 1.1403 - acc: 0.0395 - val_loss: 0.5387 - val_acc: 0.0161\n",
            "Epoch 5/10\n",
            "49/49 [==============================] - ETA: 5s - loss: 1.3772 - acc: 0.061 - ETA: 3s - loss: 1.1202 - acc: 0.044 - ETA: 0s - loss: 1.1342 - acc: 0.043 - 14s 285ms/step - loss: 1.1356 - acc: 0.0434 - val_loss: 0.5436 - val_acc: 0.0161\n",
            "Epoch 6/10\n",
            "49/49 [==============================] - ETA: 6s - loss: 1.2838 - acc: 0.054 - ETA: 3s - loss: 1.1818 - acc: 0.052 - ETA: 0s - loss: 1.1336 - acc: 0.047 - 14s 289ms/step - loss: 1.1214 - acc: 0.0464 - val_loss: 0.5412 - val_acc: 0.0161\n",
            "Epoch 7/10\n",
            "49/49 [==============================] - ETA: 6s - loss: 0.9798 - acc: 0.035 - ETA: 3s - loss: 1.0573 - acc: 0.044 - ETA: 0s - loss: 1.1235 - acc: 0.046 - 15s 296ms/step - loss: 1.1154 - acc: 0.0458 - val_loss: 0.5350 - val_acc: 0.0161\n",
            "Epoch 8/10\n",
            "49/49 [==============================] - ETA: 5s - loss: 1.3515 - acc: 0.056 - ETA: 3s - loss: 1.1634 - acc: 0.049 - ETA: 0s - loss: 1.1057 - acc: 0.046 - 14s 280ms/step - loss: 1.1150 - acc: 0.0471 - val_loss: 0.5449 - val_acc: 0.0161\n",
            "Epoch 9/10\n",
            "49/49 [==============================] - ETA: 5s - loss: 0.9822 - acc: 0.043 - ETA: 3s - loss: 1.0266 - acc: 0.044 - ETA: 0s - loss: 1.1038 - acc: 0.048 - 14s 285ms/step - loss: 1.1135 - acc: 0.0490 - val_loss: 0.5337 - val_acc: 0.0161\n",
            "Epoch 10/10\n",
            "49/49 [==============================] - ETA: 6s - loss: 1.1538 - acc: 0.053 - ETA: 3s - loss: 1.0867 - acc: 0.051 - ETA: 0s - loss: 1.0954 - acc: 0.053 - 14s 295ms/step - loss: 1.1030 - acc: 0.0540 - val_loss: 0.5593 - val_acc: 0.0161\n"
          ],
          "name": "stdout"
        },
        {
          "output_type": "stream",
          "text": [
            "c:\\python36\\lib\\site-packages\\keras\\engine\\network.py:888: UserWarning: Layer decoder_LSTM_1 was passed non-serializable keyword arguments: {'initial_state': [<tf.Tensor 'encoder_output_32/while/Exit_2:0' shape=(?, 256) dtype=float32>, <tf.Tensor 'encoder_output_32/while/Exit_3:0' shape=(?, 256) dtype=float32>]}. They will not be included in the serialized model (and thus will be missing at deserialization time).\n",
            "  '. They will not be included '\n"
          ],
          "name": "stderr"
        }
      ]
    },
    {
      "metadata": {
        "id": "FSMjlRNouu2T",
        "colab_type": "code",
        "colab": {},
        "outputId": "666468b5-e73f-4812-de2e-588a677d5c0f"
      },
      "cell_type": "code",
      "source": [
        "while True:\n",
        "    try:\n",
        "        run_again = int(input(\"Do you want to run the Model again for 1 epoch more? (1 - Yes | 0 - No) : \"))\n",
        "        if run_again == 1:\n",
        "            model.fit([encoder_input_data, decoder_input_data], decoder_target_data,\n",
        "                    batch_size=16,\n",
        "                    epochs=100,\n",
        "                    validation_split=0.2)\n",
        "        else:\n",
        "            break\n",
        "    except Exception as e:\n",
        "        break"
      ],
      "execution_count": 0,
      "outputs": [
        {
          "output_type": "stream",
          "text": [
            "Do you want to run the Model again for 1 epoch more? (1 - Yes | 0 - No) : 1\n",
            "Train on 40 samples, validate on 10 samples\n",
            "Epoch 1/100\n",
            "40/40 [==============================] - ETA: 4s - loss: 1.2780 - acc: 0.060 - ETA: 1s - loss: 1.1554 - acc: 0.052 - 22s 543ms/step - loss: 1.0949 - acc: 0.0500 - val_loss: 1.1057 - val_acc: 0.0565\n",
            "Epoch 2/100\n",
            "40/40 [==============================] - ETA: 4s - loss: 1.1453 - acc: 0.052 - ETA: 1s - loss: 1.1272 - acc: 0.052 - 21s 526ms/step - loss: 1.0781 - acc: 0.0484 - val_loss: 1.1000 - val_acc: 0.0597\n",
            "Epoch 3/100\n",
            "40/40 [==============================] - ETA: 4s - loss: 1.0062 - acc: 0.048 - ETA: 1s - loss: 1.0850 - acc: 0.050 - 21s 514ms/step - loss: 1.0817 - acc: 0.0516 - val_loss: 1.1030 - val_acc: 0.0597\n",
            "Epoch 4/100\n",
            "40/40 [==============================] - ETA: 4s - loss: 1.1486 - acc: 0.056 - ETA: 1s - loss: 1.1219 - acc: 0.052 - 21s 524ms/step - loss: 1.0769 - acc: 0.0512 - val_loss: 1.0993 - val_acc: 0.0613\n",
            "Epoch 5/100\n",
            "40/40 [==============================] - ETA: 4s - loss: 1.0720 - acc: 0.059 - ETA: 1s - loss: 1.1125 - acc: 0.057 - 23s 577ms/step - loss: 1.0713 - acc: 0.0532 - val_loss: 1.0972 - val_acc: 0.0613\n",
            "Epoch 6/100\n",
            "40/40 [==============================] - ETA: 5s - loss: 1.0198 - acc: 0.053 - ETA: 1s - loss: 1.0940 - acc: 0.048 - 23s 579ms/step - loss: 1.0752 - acc: 0.0468 - val_loss: 1.1133 - val_acc: 0.0597\n",
            "Epoch 7/100\n",
            "40/40 [==============================] - ETA: 4s - loss: 0.9202 - acc: 0.048 - ETA: 1s - loss: 1.0464 - acc: 0.053 - 21s 524ms/step - loss: 1.0594 - acc: 0.0560 - val_loss: 1.0994 - val_acc: 0.0613\n",
            "Epoch 8/100\n",
            "40/40 [==============================] - ETA: 4s - loss: 1.0475 - acc: 0.050 - ETA: 1s - loss: 1.0749 - acc: 0.057 - 21s 520ms/step - loss: 1.0618 - acc: 0.0560 - val_loss: 1.1104 - val_acc: 0.0645\n",
            "Epoch 9/100\n",
            "40/40 [==============================] - ETA: 4s - loss: 1.0784 - acc: 0.047 - ETA: 1s - loss: 1.0832 - acc: 0.051 - 21s 521ms/step - loss: 1.0670 - acc: 0.0540 - val_loss: 1.0994 - val_acc: 0.0597\n",
            "Epoch 10/100\n",
            "40/40 [==============================] - ETA: 4s - loss: 0.8304 - acc: 0.037 - ETA: 1s - loss: 1.0200 - acc: 0.053 - 21s 521ms/step - loss: 1.0542 - acc: 0.0565 - val_loss: 1.0956 - val_acc: 0.0613\n",
            "Epoch 11/100\n",
            "40/40 [==============================] - ETA: 5s - loss: 1.1257 - acc: 0.063 - ETA: 1s - loss: 1.1140 - acc: 0.061 - 21s 526ms/step - loss: 1.0625 - acc: 0.0552 - val_loss: 1.1066 - val_acc: 0.0581\n",
            "Epoch 12/100\n",
            "40/40 [==============================] - ETA: 4s - loss: 1.0439 - acc: 0.057 - ETA: 1s - loss: 1.0351 - acc: 0.057 - 21s 519ms/step - loss: 1.0588 - acc: 0.0569 - val_loss: 1.0924 - val_acc: 0.0613\n",
            "Epoch 13/100\n",
            "40/40 [==============================] - ETA: 4s - loss: 0.8995 - acc: 0.038 - ETA: 1s - loss: 1.0216 - acc: 0.049 - 21s 520ms/step - loss: 1.0510 - acc: 0.0536 - val_loss: 1.1146 - val_acc: 0.0565\n",
            "Epoch 14/100\n",
            "40/40 [==============================] - ETA: 7s - loss: 1.2273 - acc: 0.071 - ETA: 2s - loss: 1.0604 - acc: 0.058 - 25s 636ms/step - loss: 1.0544 - acc: 0.0581 - val_loss: 1.0871 - val_acc: 0.0645\n",
            "Epoch 15/100\n",
            "40/40 [==============================] - ETA: 4s - loss: 1.0836 - acc: 0.075 - ETA: 1s - loss: 1.0950 - acc: 0.065 - 22s 562ms/step - loss: 1.0393 - acc: 0.0706 - val_loss: 1.1367 - val_acc: 0.1565\n",
            "Epoch 16/100\n",
            "40/40 [==============================] - ETA: 5s - loss: 0.9787 - acc: 0.242 - ETA: 1s - loss: 1.0298 - acc: 0.149 - 27s 675ms/step - loss: 1.0577 - acc: 0.1315 - val_loss: 1.0879 - val_acc: 0.0629\n",
            "Epoch 17/100\n",
            "40/40 [==============================] - ETA: 6s - loss: 1.0998 - acc: 0.062 - ETA: 1s - loss: 1.0620 - acc: 0.058 - 24s 602ms/step - loss: 1.0520 - acc: 0.0581 - val_loss: 1.0901 - val_acc: 0.0629\n",
            "Epoch 18/100\n",
            "40/40 [==============================] - ETA: 5s - loss: 1.1525 - acc: 0.071 - ETA: 1s - loss: 1.0525 - acc: 0.061 - 26s 645ms/step - loss: 1.0354 - acc: 0.0629 - val_loss: 1.0911 - val_acc: 0.0645\n",
            "Epoch 19/100\n",
            "40/40 [==============================] - ETA: 5s - loss: 1.0061 - acc: 0.062 - ETA: 1s - loss: 1.0737 - acc: 0.064 - 25s 629ms/step - loss: 1.0302 - acc: 0.0597 - val_loss: 1.1175 - val_acc: 0.0629\n",
            "Epoch 20/100\n",
            "40/40 [==============================] - ETA: 5s - loss: 1.1880 - acc: 0.068 - ETA: 1s - loss: 1.0475 - acc: 0.054 - 24s 590ms/step - loss: 1.0459 - acc: 0.0556 - val_loss: 1.0891 - val_acc: 0.0645\n",
            "Epoch 21/100\n",
            "40/40 [==============================] - ETA: 5s - loss: 1.0130 - acc: 0.052 - ETA: 1s - loss: 1.0451 - acc: 0.063 - 23s 563ms/step - loss: 1.0281 - acc: 0.0617 - val_loss: 1.0848 - val_acc: 0.0661\n",
            "Epoch 22/100\n",
            "40/40 [==============================] - ETA: 4s - loss: 1.0104 - acc: 0.056 - ETA: 1s - loss: 0.9509 - acc: 0.054 - 22s 542ms/step - loss: 1.0242 - acc: 0.0605 - val_loss: 1.1161 - val_acc: 0.0532\n",
            "Epoch 23/100\n",
            "40/40 [==============================] - ETA: 5s - loss: 0.8425 - acc: 0.051 - ETA: 1s - loss: 0.9861 - acc: 0.055 - 24s 610ms/step - loss: 1.0143 - acc: 0.0597 - val_loss: 1.0842 - val_acc: 0.0613\n",
            "Epoch 24/100\n",
            "40/40 [==============================] - ETA: 5s - loss: 1.1893 - acc: 0.076 - ETA: 1s - loss: 1.0344 - acc: 0.068 - 24s 603ms/step - loss: 1.0165 - acc: 0.0698 - val_loss: 1.1141 - val_acc: 0.0613\n",
            "Epoch 25/100\n",
            "40/40 [==============================] - ETA: 5s - loss: 1.0179 - acc: 0.057 - ETA: 1s - loss: 1.0172 - acc: 0.065 - 26s 644ms/step - loss: 1.0091 - acc: 0.0637 - val_loss: 1.1570 - val_acc: 0.0532\n",
            "Epoch 26/100\n",
            "40/40 [==============================] - ETA: 5s - loss: 0.8783 - acc: 0.058 - ETA: 1s - loss: 0.9665 - acc: 0.064 - 27s 663ms/step - loss: 1.0111 - acc: 0.0694 - val_loss: 1.0951 - val_acc: 0.0597\n",
            "Epoch 27/100\n",
            "40/40 [==============================] - ETA: 6s - loss: 1.0247 - acc: 0.064 - ETA: 2s - loss: 1.0524 - acc: 0.073 - 27s 663ms/step - loss: 0.9958 - acc: 0.0669 - val_loss: 1.1209 - val_acc: 0.0548\n",
            "Epoch 28/100\n",
            "40/40 [==============================] - ETA: 4s - loss: 0.9750 - acc: 0.069 - ETA: 1s - loss: 0.9760 - acc: 0.067 - 24s 612ms/step - loss: 0.9901 - acc: 0.0702 - val_loss: 1.0957 - val_acc: 0.0565\n",
            "Epoch 29/100\n",
            "40/40 [==============================] - ETA: 5s - loss: 1.1899 - acc: 0.082 - ETA: 1s - loss: 1.0435 - acc: 0.068 - 22s 543ms/step - loss: 1.0076 - acc: 0.0637 - val_loss: 1.0818 - val_acc: 0.0645\n",
            "Epoch 30/100\n",
            "40/40 [==============================] - ETA: 4s - loss: 1.0928 - acc: 0.080 - ETA: 1s - loss: 1.0308 - acc: 0.076 - 22s 558ms/step - loss: 0.9873 - acc: 0.0730 - val_loss: 1.0892 - val_acc: 0.0565\n",
            "Epoch 31/100\n",
            "40/40 [==============================] - ETA: 5s - loss: 1.0015 - acc: 0.084 - ETA: 1s - loss: 0.9313 - acc: 0.068 - 23s 579ms/step - loss: 0.9717 - acc: 0.0734 - val_loss: 1.3976 - val_acc: 0.0484\n",
            "Epoch 32/100\n",
            "40/40 [==============================] - ETA: 4s - loss: 0.9758 - acc: 0.058 - ETA: 1s - loss: 1.0165 - acc: 0.068 - 23s 583ms/step - loss: 1.0275 - acc: 0.0661 - val_loss: 1.0649 - val_acc: 0.0677\n",
            "Epoch 33/100\n",
            "40/40 [==============================] - ETA: 5s - loss: 1.0474 - acc: 0.077 - ETA: 1s - loss: 0.9715 - acc: 0.071 - 26s 644ms/step - loss: 0.9804 - acc: 0.0762 - val_loss: 1.0723 - val_acc: 0.0710\n",
            "Epoch 34/100\n",
            "40/40 [==============================] - ETA: 5s - loss: 0.9508 - acc: 0.069 - ETA: 1s - loss: 0.9060 - acc: 0.066 - 25s 613ms/step - loss: 0.9696 - acc: 0.0726 - val_loss: 1.0707 - val_acc: 0.0629\n",
            "Epoch 35/100\n",
            "40/40 [==============================] - ETA: 5s - loss: 0.9547 - acc: 0.081 - ETA: 1s - loss: 0.9908 - acc: 0.082 - 25s 627ms/step - loss: 0.9592 - acc: 0.0778 - val_loss: 1.0724 - val_acc: 0.0661\n",
            "Epoch 36/100\n",
            "40/40 [==============================] - ETA: 5s - loss: 0.9317 - acc: 0.068 - ETA: 1s - loss: 0.9956 - acc: 0.073 - 26s 640ms/step - loss: 0.9733 - acc: 0.0706 - val_loss: 1.0671 - val_acc: 0.0677\n",
            "Epoch 37/100\n",
            "40/40 [==============================] - ETA: 5s - loss: 1.0081 - acc: 0.086 - ETA: 1s - loss: 0.9630 - acc: 0.084 - 26s 655ms/step - loss: 0.9458 - acc: 0.0815 - val_loss: 1.0999 - val_acc: 0.0629\n",
            "Epoch 38/100\n",
            "40/40 [==============================] - ETA: 6s - loss: 0.9046 - acc: 0.069 - ETA: 2s - loss: 0.9510 - acc: 0.074 - 29s 715ms/step - loss: 0.9512 - acc: 0.0726 - val_loss: 1.0789 - val_acc: 0.0613\n",
            "Epoch 39/100\n"
          ],
          "name": "stdout"
        },
        {
          "output_type": "stream",
          "text": [
            "40/40 [==============================] - ETA: 5s - loss: 0.9976 - acc: 0.101 - ETA: 1s - loss: 0.9589 - acc: 0.086 - 24s 597ms/step - loss: 0.9329 - acc: 0.0831 - val_loss: 1.0877 - val_acc: 0.0694\n",
            "Epoch 40/100\n",
            "40/40 [==============================] - ETA: 5s - loss: 0.8890 - acc: 0.080 - ETA: 1s - loss: 0.9412 - acc: 0.081 - 24s 593ms/step - loss: 0.9343 - acc: 0.0770 - val_loss: 1.0806 - val_acc: 0.0597\n",
            "Epoch 41/100\n",
            "40/40 [==============================] - ETA: 5s - loss: 0.8885 - acc: 0.069 - ETA: 1s - loss: 0.9356 - acc: 0.077 - 28s 706ms/step - loss: 0.9511 - acc: 0.0794 - val_loss: 1.0674 - val_acc: 0.0694\n",
            "Epoch 42/100\n",
            "40/40 [==============================] - ETA: 6s - loss: 0.9107 - acc: 0.083 - ETA: 2s - loss: 0.9024 - acc: 0.078 - 28s 708ms/step - loss: 0.9271 - acc: 0.0815 - val_loss: 1.0687 - val_acc: 0.0726\n",
            "Epoch 43/100\n",
            "40/40 [==============================] - ETA: 7s - loss: 0.8367 - acc: 0.079 - ETA: 2s - loss: 0.9290 - acc: 0.090 - 30s 754ms/step - loss: 0.9229 - acc: 0.0847 - val_loss: 1.1017 - val_acc: 0.0710\n",
            "Epoch 44/100\n",
            "40/40 [==============================] - ETA: 6s - loss: 1.0757 - acc: 0.102 - ETA: 2s - loss: 0.9823 - acc: 0.091 - 27s 671ms/step - loss: 0.9116 - acc: 0.0883 - val_loss: 1.1110 - val_acc: 0.0758\n",
            "Epoch 45/100\n",
            "40/40 [==============================] - ETA: 5s - loss: 0.8437 - acc: 0.089 - ETA: 1s - loss: 0.9085 - acc: 0.090 - 24s 589ms/step - loss: 0.9072 - acc: 0.0855 - val_loss: 1.0807 - val_acc: 0.0710\n",
            "Epoch 46/100\n",
            "40/40 [==============================] - ETA: 4s - loss: 0.8457 - acc: 0.071 - ETA: 1s - loss: 0.9618 - acc: 0.086 - 22s 559ms/step - loss: 0.9207 - acc: 0.0847 - val_loss: 1.0881 - val_acc: 0.0694\n",
            "Epoch 47/100\n",
            "40/40 [==============================] - ETA: 4s - loss: 1.0994 - acc: 0.101 - ETA: 1s - loss: 0.9555 - acc: 0.085 - 24s 609ms/step - loss: 0.9118 - acc: 0.0871 - val_loss: 1.0677 - val_acc: 0.0855\n",
            "Epoch 48/100\n",
            "40/40 [==============================] - ETA: 5s - loss: 0.9335 - acc: 0.084 - ETA: 1s - loss: 0.9218 - acc: 0.090 - 27s 666ms/step - loss: 0.8897 - acc: 0.0952 - val_loss: 1.1006 - val_acc: 0.0661\n",
            "Epoch 49/100\n",
            "40/40 [==============================] - ETA: 7s - loss: 0.6869 - acc: 0.075 - ETA: 2s - loss: 0.8239 - acc: 0.083 - 28s 698ms/step - loss: 0.8992 - acc: 0.0952 - val_loss: 1.1290 - val_acc: 0.0742\n",
            "Epoch 50/100\n",
            "40/40 [==============================] - ETA: 5s - loss: 0.8636 - acc: 0.074 - ETA: 1s - loss: 0.8650 - acc: 0.087 - 26s 658ms/step - loss: 0.9006 - acc: 0.0895 - val_loss: 1.1087 - val_acc: 0.0758\n",
            "Epoch 51/100\n",
            "40/40 [==============================] - ETA: 5s - loss: 0.8847 - acc: 0.090 - ETA: 1s - loss: 0.8746 - acc: 0.095 - 23s 576ms/step - loss: 0.8787 - acc: 0.0952 - val_loss: 1.1603 - val_acc: 0.0613\n",
            "Epoch 52/100\n",
            "40/40 [==============================] - ETA: 5s - loss: 0.9145 - acc: 0.086 - ETA: 1s - loss: 0.8821 - acc: 0.092 - 25s 622ms/step - loss: 0.8912 - acc: 0.0952 - val_loss: 1.0769 - val_acc: 0.0758\n",
            "Epoch 53/100\n",
            "40/40 [==============================] - ETA: 6s - loss: 0.8383 - acc: 0.094 - ETA: 1s - loss: 0.8880 - acc: 0.101 - 26s 653ms/step - loss: 0.8765 - acc: 0.1000 - val_loss: 1.1680 - val_acc: 0.0823\n",
            "Epoch 54/100\n",
            "40/40 [==============================] - ETA: 5s - loss: 0.8623 - acc: 0.088 - ETA: 1s - loss: 0.8501 - acc: 0.090 - 23s 582ms/step - loss: 0.8808 - acc: 0.0956 - val_loss: 1.1574 - val_acc: 0.0806\n",
            "Epoch 55/100\n",
            "40/40 [==============================] - ETA: 5s - loss: 0.8426 - acc: 0.103 - ETA: 1s - loss: 0.8743 - acc: 0.108 - 27s 680ms/step - loss: 0.8577 - acc: 0.1040 - val_loss: 1.1747 - val_acc: 0.0806\n",
            "Epoch 56/100\n",
            "40/40 [==============================] - ETA: 6s - loss: 0.7789 - acc: 0.098 - ETA: 1s - loss: 0.8376 - acc: 0.104 - 24s 594ms/step - loss: 0.8546 - acc: 0.1048 - val_loss: 1.0676 - val_acc: 0.0823\n",
            "Epoch 57/100\n",
            "40/40 [==============================] - ETA: 5s - loss: 1.0624 - acc: 0.121 - ETA: 1s - loss: 0.9005 - acc: 0.107 - 24s 589ms/step - loss: 0.8603 - acc: 0.1060 - val_loss: 1.0848 - val_acc: 0.0823\n",
            "Epoch 58/100\n",
            "40/40 [==============================] - ETA: 4s - loss: 0.9985 - acc: 0.110 - ETA: 1s - loss: 0.8769 - acc: 0.102 - 24s 612ms/step - loss: 0.8547 - acc: 0.0980 - val_loss: 1.0606 - val_acc: 0.0871\n",
            "Epoch 59/100\n",
            "40/40 [==============================] - ETA: 5s - loss: 0.8453 - acc: 0.095 - ETA: 1s - loss: 0.8543 - acc: 0.098 - 30s 744ms/step - loss: 0.8563 - acc: 0.1016 - val_loss: 1.0989 - val_acc: 0.0871\n",
            "Epoch 60/100\n",
            "40/40 [==============================] - ETA: 6s - loss: 0.8290 - acc: 0.107 - ETA: 2s - loss: 0.8167 - acc: 0.100 - 32s 796ms/step - loss: 0.8537 - acc: 0.0984 - val_loss: 1.0709 - val_acc: 0.0758\n",
            "Epoch 61/100\n",
            "40/40 [==============================] - ETA: 6s - loss: 0.9177 - acc: 0.110 - ETA: 2s - loss: 0.8501 - acc: 0.108 - 31s 787ms/step - loss: 0.8449 - acc: 0.1113 - val_loss: 1.1382 - val_acc: 0.0806\n",
            "Epoch 62/100\n",
            "40/40 [==============================] - ETA: 5s - loss: 0.7608 - acc: 0.093 - ETA: 1s - loss: 0.8211 - acc: 0.106 - 28s 711ms/step - loss: 0.8326 - acc: 0.1085 - val_loss: 1.1227 - val_acc: 0.0758\n",
            "Epoch 63/100\n",
            "40/40 [==============================] - ETA: 6s - loss: 0.8281 - acc: 0.086 - ETA: 2s - loss: 0.8639 - acc: 0.100 - 26s 645ms/step - loss: 0.8398 - acc: 0.1012 - val_loss: 1.0797 - val_acc: 0.0774\n",
            "Epoch 64/100\n",
            "40/40 [==============================] - ETA: 5s - loss: 0.9456 - acc: 0.131 - ETA: 1s - loss: 0.8808 - acc: 0.120 - 25s 621ms/step - loss: 0.8161 - acc: 0.1113 - val_loss: 1.1862 - val_acc: 0.0806\n",
            "Epoch 65/100\n",
            "40/40 [==============================] - ETA: 5s - loss: 0.7658 - acc: 0.107 - ETA: 1s - loss: 0.7776 - acc: 0.099 - 25s 634ms/step - loss: 0.8363 - acc: 0.1089 - val_loss: 1.0567 - val_acc: 0.0887\n",
            "Epoch 66/100\n",
            "40/40 [==============================] - ETA: 5s - loss: 0.7115 - acc: 0.098 - ETA: 1s - loss: 0.7850 - acc: 0.101 - 25s 623ms/step - loss: 0.8310 - acc: 0.1060 - val_loss: 1.1208 - val_acc: 0.0806\n",
            "Epoch 67/100\n",
            "40/40 [==============================] - ETA: 5s - loss: 0.9010 - acc: 0.132 - ETA: 1s - loss: 0.8975 - acc: 0.123 - 28s 688ms/step - loss: 0.8179 - acc: 0.1077 - val_loss: 1.1070 - val_acc: 0.0806\n",
            "Epoch 68/100\n",
            "40/40 [==============================] - ETA: 5s - loss: 0.9054 - acc: 0.119 - ETA: 1s - loss: 0.8515 - acc: 0.115 - 24s 590ms/step - loss: 0.8157 - acc: 0.1137 - val_loss: 1.0977 - val_acc: 0.0790\n",
            "Epoch 69/100\n",
            "40/40 [==============================] - ETA: 6s - loss: 0.8290 - acc: 0.119 - ETA: 2s - loss: 0.7940 - acc: 0.111 - 42s 1s/step - loss: 0.8236 - acc: 0.1073 - val_loss: 1.1513 - val_acc: 0.0823\n",
            "Epoch 70/100\n",
            "40/40 [==============================] - ETA: 8s - loss: 0.9538 - acc: 0.128 - ETA: 2s - loss: 0.8198 - acc: 0.114 - 42s 1s/step - loss: 0.8092 - acc: 0.1085 - val_loss: 1.1831 - val_acc: 0.0790\n",
            "Epoch 71/100\n",
            "40/40 [==============================] - ETA: 8s - loss: 0.8963 - acc: 0.125 - ETA: 2s - loss: 0.8530 - acc: 0.107 - 42s 1s/step - loss: 0.8206 - acc: 0.1065 - val_loss: 1.1266 - val_acc: 0.0790\n",
            "Epoch 72/100\n",
            "40/40 [==============================] - ETA: 8s - loss: 0.6770 - acc: 0.115 - ETA: 2s - loss: 0.7450 - acc: 0.121 - 42s 1s/step - loss: 0.7868 - acc: 0.1234 - val_loss: 1.2232 - val_acc: 0.0871\n",
            "Epoch 73/100\n",
            "40/40 [==============================] - ETA: 8s - loss: 0.6949 - acc: 0.100 - ETA: 2s - loss: 0.8640 - acc: 0.118 - 40s 1s/step - loss: 0.8181 - acc: 0.1105 - val_loss: 1.0936 - val_acc: 0.0774\n",
            "Epoch 74/100\n",
            "40/40 [==============================] - ETA: 8s - loss: 0.7563 - acc: 0.126 - ETA: 2s - loss: 0.7511 - acc: 0.119 - 41s 1s/step - loss: 0.7986 - acc: 0.1230 - val_loss: 1.1242 - val_acc: 0.0839\n",
            "Epoch 75/100\n",
            "40/40 [==============================] - ETA: 8s - loss: 0.7274 - acc: 0.125 - ETA: 2s - loss: 0.7323 - acc: 0.116 - 42s 1s/step - loss: 0.7758 - acc: 0.1226 - val_loss: 1.2076 - val_acc: 0.0823\n",
            "Epoch 76/100\n",
            "40/40 [==============================] - ETA: 9s - loss: 0.7936 - acc: 0.124 - ETA: 3s - loss: 0.7897 - acc: 0.119 - 47s 1s/step - loss: 0.7884 - acc: 0.1165 - val_loss: 1.1289 - val_acc: 0.0871\n",
            "Epoch 77/100\n",
            "40/40 [==============================] - ETA: 8s - loss: 0.9690 - acc: 0.156 - ETA: 2s - loss: 0.7909 - acc: 0.127 - 42s 1s/step - loss: 0.7811 - acc: 0.1198 - val_loss: 1.1061 - val_acc: 0.0823\n"
          ],
          "name": "stdout"
        },
        {
          "output_type": "stream",
          "text": [
            "Epoch 78/100\n",
            "40/40 [==============================] - ETA: 8s - loss: 0.6342 - acc: 0.100 - ETA: 2s - loss: 0.7486 - acc: 0.127 - 39s 964ms/step - loss: 0.7679 - acc: 0.1290 - val_loss: 1.2029 - val_acc: 0.0855\n",
            "Epoch 79/100\n",
            "40/40 [==============================] - ETA: 3s - loss: 0.9333 - acc: 0.132 - ETA: 1s - loss: 0.8372 - acc: 0.119 - 17s 417ms/step - loss: 0.7861 - acc: 0.1157 - val_loss: 1.1570 - val_acc: 0.0839\n",
            "Epoch 80/100\n",
            "40/40 [==============================] - ETA: 3s - loss: 0.6976 - acc: 0.109 - ETA: 1s - loss: 0.7609 - acc: 0.129 - 17s 418ms/step - loss: 0.7674 - acc: 0.1246 - val_loss: 1.2365 - val_acc: 0.0742\n",
            "Epoch 81/100\n",
            "40/40 [==============================] - ETA: 3s - loss: 0.9802 - acc: 0.155 - ETA: 1s - loss: 0.8128 - acc: 0.141 - 16s 392ms/step - loss: 0.7736 - acc: 0.1379 - val_loss: 1.1507 - val_acc: 0.0790\n",
            "Epoch 82/100\n",
            "40/40 [==============================] - ETA: 3s - loss: 0.9531 - acc: 0.133 - ETA: 1s - loss: 0.7869 - acc: 0.107 - 16s 408ms/step - loss: 0.7950 - acc: 0.1161 - val_loss: 1.1875 - val_acc: 0.0806\n",
            "Epoch 83/100\n",
            "40/40 [==============================] - ETA: 3s - loss: 0.8016 - acc: 0.137 - ETA: 1s - loss: 0.7603 - acc: 0.126 - 16s 404ms/step - loss: 0.7651 - acc: 0.1246 - val_loss: 1.2491 - val_acc: 0.0839\n",
            "Epoch 84/100\n",
            "40/40 [==============================] - ETA: 3s - loss: 0.8968 - acc: 0.142 - ETA: 1s - loss: 0.8367 - acc: 0.132 - 16s 400ms/step - loss: 0.7689 - acc: 0.1226 - val_loss: 1.0888 - val_acc: 0.0919\n",
            "Epoch 85/100\n",
            "40/40 [==============================] - ETA: 3s - loss: 0.6898 - acc: 0.110 - ETA: 1s - loss: 0.7783 - acc: 0.127 - 16s 403ms/step - loss: 0.7753 - acc: 0.1278 - val_loss: 1.0824 - val_acc: 0.0790\n",
            "Epoch 86/100\n",
            "40/40 [==============================] - ETA: 2s - loss: 0.8196 - acc: 0.143 - ETA: 1s - loss: 0.7814 - acc: 0.121 - 17s 430ms/step - loss: 0.7562 - acc: 0.1250 - val_loss: 1.1481 - val_acc: 0.0871\n",
            "Epoch 87/100\n",
            "40/40 [==============================] - ETA: 3s - loss: 0.7311 - acc: 0.129 - ETA: 1s - loss: 0.7200 - acc: 0.114 - 17s 430ms/step - loss: 0.7585 - acc: 0.1262 - val_loss: 1.0886 - val_acc: 0.0790\n",
            "Epoch 88/100\n",
            "40/40 [==============================] - ETA: 3s - loss: 0.6046 - acc: 0.121 - ETA: 1s - loss: 0.6906 - acc: 0.137 - 17s 418ms/step - loss: 0.7332 - acc: 0.1403 - val_loss: 1.1215 - val_acc: 0.0871\n",
            "Epoch 89/100\n",
            "40/40 [==============================] - ETA: 3s - loss: 0.6265 - acc: 0.132 - ETA: 1s - loss: 0.6840 - acc: 0.125 - 18s 441ms/step - loss: 0.7377 - acc: 0.1419 - val_loss: 1.1347 - val_acc: 0.0919\n",
            "Epoch 90/100\n",
            "40/40 [==============================] - ETA: 3s - loss: 0.7426 - acc: 0.122 - ETA: 1s - loss: 0.7675 - acc: 0.133 - 17s 436ms/step - loss: 0.7442 - acc: 0.1290 - val_loss: 1.1208 - val_acc: 0.0871\n",
            "Epoch 91/100\n",
            "40/40 [==============================] - ETA: 3s - loss: 0.8120 - acc: 0.155 - ETA: 1s - loss: 0.7627 - acc: 0.144 - 18s 444ms/step - loss: 0.7201 - acc: 0.1371 - val_loss: 1.1171 - val_acc: 0.0871\n",
            "Epoch 92/100\n",
            "40/40 [==============================] - ETA: 3s - loss: 0.8341 - acc: 0.175 - ETA: 1s - loss: 0.7451 - acc: 0.142 - 18s 447ms/step - loss: 0.7220 - acc: 0.1411 - val_loss: 1.1126 - val_acc: 0.0871\n",
            "Epoch 93/100\n",
            "40/40 [==============================] - ETA: 3s - loss: 0.7311 - acc: 0.126 - ETA: 1s - loss: 0.7361 - acc: 0.143 - 19s 480ms/step - loss: 0.7225 - acc: 0.1411 - val_loss: 1.1166 - val_acc: 0.0774\n",
            "Epoch 94/100\n",
            "40/40 [==============================] - ETA: 3s - loss: 0.6113 - acc: 0.132 - ETA: 1s - loss: 0.7145 - acc: 0.145 - 18s 460ms/step - loss: 0.7057 - acc: 0.1448 - val_loss: 1.1618 - val_acc: 0.0823\n",
            "Epoch 95/100\n",
            "40/40 [==============================] - ETA: 3s - loss: 0.7398 - acc: 0.138 - ETA: 1s - loss: 0.7152 - acc: 0.135 - 18s 455ms/step - loss: 0.7178 - acc: 0.1407 - val_loss: 1.1403 - val_acc: 0.0903\n",
            "Epoch 96/100\n",
            "40/40 [==============================] - ETA: 3s - loss: 0.6907 - acc: 0.152 - ETA: 1s - loss: 0.6802 - acc: 0.146 - 20s 497ms/step - loss: 0.6825 - acc: 0.1500 - val_loss: 1.1852 - val_acc: 0.0855\n",
            "Epoch 97/100\n",
            "40/40 [==============================] - ETA: 3s - loss: 0.6301 - acc: 0.129 - ETA: 1s - loss: 0.7403 - acc: 0.156 - 18s 459ms/step - loss: 0.6953 - acc: 0.1423 - val_loss: 1.1584 - val_acc: 0.0823\n",
            "Epoch 98/100\n",
            "40/40 [==============================] - ETA: 3s - loss: 0.6073 - acc: 0.106 - ETA: 1s - loss: 0.7132 - acc: 0.129 - 17s 436ms/step - loss: 0.7238 - acc: 0.1367 - val_loss: 1.1646 - val_acc: 0.0823\n",
            "Epoch 99/100\n",
            "40/40 [==============================] - ETA: 4s - loss: 0.8455 - acc: 0.150 - ETA: 1s - loss: 0.7248 - acc: 0.136 - 19s 478ms/step - loss: 0.7139 - acc: 0.1359 - val_loss: 1.2297 - val_acc: 0.0806\n",
            "Epoch 100/100\n",
            "40/40 [==============================] - ETA: 3s - loss: 0.6654 - acc: 0.141 - ETA: 1s - loss: 0.6824 - acc: 0.152 - 18s 461ms/step - loss: 0.6901 - acc: 0.1500 - val_loss: 1.1145 - val_acc: 0.0935\n",
            "Do you want to run the Model again for 1 epoch more? (1 - Yes | 0 - No) : 0\n"
          ],
          "name": "stdout"
        }
      ]
    },
    {
      "metadata": {
        "id": "Lo5XVENIuu2X",
        "colab_type": "code",
        "colab": {},
        "outputId": "0981b7c5-a653-4dfa-85b2-c9d97419e8f1"
      },
      "cell_type": "code",
      "source": [
        "while True:\n",
        "    try:\n",
        "        run_again = int(input(\"Do you want to run the Model again for 1 epoch more? (1 - Yes | 0 - No) : \"))\n",
        "        if run_again == 1:\n",
        "            history = model.fit([encoder_input_data, decoder_input_data], decoder_target_data,\n",
        "                    batch_size=16,\n",
        "                    epochs=1000,\n",
        "                    validation_split=0.2)\n",
        "        else:\n",
        "            break\n",
        "    except Exception as e:\n",
        "        break"
      ],
      "execution_count": 0,
      "outputs": [
        {
          "output_type": "stream",
          "text": [
            "Do you want to run the Model again for 1 epoch more? (1 - Yes | 0 - No) : 1\n",
            "Train on 40 samples, validate on 10 samples\n",
            "Epoch 1/1000\n",
            "40/40 [==============================] - ETA: 3s - loss: 0.6921 - acc: 0.122 - ETA: 1s - loss: 0.6983 - acc: 0.151 - 20s 494ms/step - loss: 0.6957 - acc: 0.1452 - val_loss: 1.1281 - val_acc: 0.0790\n",
            "Epoch 2/1000\n",
            "40/40 [==============================] - ETA: 3s - loss: 0.7279 - acc: 0.129 - ETA: 1s - loss: 0.6723 - acc: 0.139 - 17s 420ms/step - loss: 0.6947 - acc: 0.1427 - val_loss: 1.2058 - val_acc: 0.0855\n",
            "Epoch 3/1000\n",
            "40/40 [==============================] - ETA: 3s - loss: 0.7233 - acc: 0.148 - ETA: 1s - loss: 0.6817 - acc: 0.146 - 16s 409ms/step - loss: 0.6864 - acc: 0.1496 - val_loss: 1.1574 - val_acc: 0.0887\n",
            "Epoch 4/1000\n",
            "40/40 [==============================] - ETA: 3s - loss: 0.5748 - acc: 0.128 - ETA: 1s - loss: 0.6294 - acc: 0.128 - 16s 394ms/step - loss: 0.7106 - acc: 0.1347 - val_loss: 1.1828 - val_acc: 0.0839\n",
            "Epoch 5/1000\n",
            "40/40 [==============================] - ETA: 3s - loss: 0.8630 - acc: 0.191 - ETA: 1s - loss: 0.7354 - acc: 0.164 - 17s 413ms/step - loss: 0.7011 - acc: 0.1492 - val_loss: 1.1130 - val_acc: 0.0952\n",
            "Epoch 6/1000\n",
            "40/40 [==============================] - ETA: 2s - loss: 0.6416 - acc: 0.145 - ETA: 1s - loss: 0.6914 - acc: 0.153 - 17s 413ms/step - loss: 0.6762 - acc: 0.1460 - val_loss: 1.1974 - val_acc: 0.0919\n",
            "Epoch 7/1000\n",
            "40/40 [==============================] - ETA: 3s - loss: 0.7043 - acc: 0.161 - ETA: 1s - loss: 0.7176 - acc: 0.149 - 16s 393ms/step - loss: 0.6781 - acc: 0.1444 - val_loss: 1.1404 - val_acc: 0.0871\n",
            "Epoch 8/1000\n",
            "40/40 [==============================] - ETA: 3s - loss: 0.6783 - acc: 0.158 - ETA: 1s - loss: 0.6896 - acc: 0.146 - 18s 442ms/step - loss: 0.6780 - acc: 0.1452 - val_loss: 1.1934 - val_acc: 0.0790\n",
            "Epoch 9/1000\n",
            "40/40 [==============================] - ETA: 3s - loss: 0.6120 - acc: 0.141 - ETA: 1s - loss: 0.6849 - acc: 0.167 - 15s 384ms/step - loss: 0.6570 - acc: 0.1565 - val_loss: 1.1805 - val_acc: 0.0855\n",
            "Epoch 10/1000\n",
            "40/40 [==============================] - ETA: 3s - loss: 0.6820 - acc: 0.170 - ETA: 1s - loss: 0.6722 - acc: 0.157 - 15s 382ms/step - loss: 0.6393 - acc: 0.1585 - val_loss: 1.1781 - val_acc: 0.0887\n",
            "Epoch 11/1000\n",
            "40/40 [==============================] - ETA: 3s - loss: 0.6197 - acc: 0.149 - ETA: 1s - loss: 0.6308 - acc: 0.160 - 15s 387ms/step - loss: 0.6411 - acc: 0.1577 - val_loss: 1.2438 - val_acc: 0.0887\n",
            "Epoch 12/1000\n",
            "40/40 [==============================] - ETA: 3s - loss: 0.6418 - acc: 0.156 - ETA: 1s - loss: 0.6410 - acc: 0.148 - 16s 400ms/step - loss: 0.6632 - acc: 0.1496 - val_loss: 1.1728 - val_acc: 0.0919\n",
            "Epoch 13/1000\n",
            "40/40 [==============================] - ETA: 2s - loss: 0.6679 - acc: 0.176 - ETA: 1s - loss: 0.6665 - acc: 0.159 - 16s 401ms/step - loss: 0.6583 - acc: 0.1552 - val_loss: 1.1781 - val_acc: 0.0871\n",
            "Epoch 14/1000\n",
            "40/40 [==============================] - ETA: 3s - loss: 0.7544 - acc: 0.198 - ETA: 1s - loss: 0.6295 - acc: 0.170 - 15s 380ms/step - loss: 0.6314 - acc: 0.1625 - val_loss: 1.1431 - val_acc: 0.0887\n",
            "Epoch 15/1000\n",
            "40/40 [==============================] - ETA: 3s - loss: 0.5956 - acc: 0.154 - ETA: 1s - loss: 0.6382 - acc: 0.161 - 16s 396ms/step - loss: 0.6252 - acc: 0.1601 - val_loss: 1.2064 - val_acc: 0.0919\n",
            "Epoch 16/1000\n",
            "40/40 [==============================] - ETA: 3s - loss: 0.6958 - acc: 0.163 - ETA: 1s - loss: 0.6783 - acc: 0.176 - 15s 385ms/step - loss: 0.6245 - acc: 0.1581 - val_loss: 1.1940 - val_acc: 0.0855\n",
            "Epoch 17/1000\n",
            "40/40 [==============================] - ETA: 3s - loss: 0.6654 - acc: 0.194 - ETA: 1s - loss: 0.6487 - acc: 0.159 - 16s 402ms/step - loss: 0.6300 - acc: 0.1681 - val_loss: 1.2452 - val_acc: 0.0871\n",
            "Epoch 18/1000\n",
            "40/40 [==============================] - ETA: 3s - loss: 0.5929 - acc: 0.189 - ETA: 1s - loss: 0.5804 - acc: 0.166 - 16s 395ms/step - loss: 0.6242 - acc: 0.1657 - val_loss: 1.1646 - val_acc: 0.0935\n",
            "Epoch 19/1000\n",
            "40/40 [==============================] - ETA: 3s - loss: 0.5849 - acc: 0.140 - ETA: 1s - loss: 0.6096 - acc: 0.152 - 16s 388ms/step - loss: 0.6269 - acc: 0.1621 - val_loss: 1.2031 - val_acc: 0.0839\n",
            "Epoch 20/1000\n",
            "40/40 [==============================] - ETA: 3s - loss: 0.6982 - acc: 0.186 - ETA: 1s - loss: 0.6730 - acc: 0.180 - 16s 390ms/step - loss: 0.6185 - acc: 0.1621 - val_loss: 1.1814 - val_acc: 0.0903\n",
            "Epoch 21/1000\n",
            "40/40 [==============================] - ETA: 3s - loss: 0.5845 - acc: 0.157 - ETA: 1s - loss: 0.5926 - acc: 0.172 - 15s 386ms/step - loss: 0.6002 - acc: 0.1770 - val_loss: 1.3427 - val_acc: 0.0871\n",
            "Epoch 22/1000\n",
            "40/40 [==============================] - ETA: 3s - loss: 0.6694 - acc: 0.183 - ETA: 1s - loss: 0.6132 - acc: 0.171 - 16s 395ms/step - loss: 0.6185 - acc: 0.1685 - val_loss: 1.1788 - val_acc: 0.0887\n",
            "Epoch 23/1000\n",
            "40/40 [==============================] - ETA: 3s - loss: 0.5510 - acc: 0.161 - ETA: 1s - loss: 0.6324 - acc: 0.180 - 15s 385ms/step - loss: 0.6019 - acc: 0.1706 - val_loss: 1.1720 - val_acc: 0.0984\n",
            "Epoch 24/1000\n",
            "40/40 [==============================] - ETA: 3s - loss: 0.5939 - acc: 0.153 - ETA: 1s - loss: 0.6008 - acc: 0.161 - 16s 392ms/step - loss: 0.6135 - acc: 0.1710 - val_loss: 1.3072 - val_acc: 0.0919\n",
            "Epoch 25/1000\n",
            "40/40 [==============================] - ETA: 3s - loss: 0.6225 - acc: 0.181 - ETA: 1s - loss: 0.6071 - acc: 0.172 - 16s 406ms/step - loss: 0.6073 - acc: 0.1706 - val_loss: 1.2252 - val_acc: 0.0952\n",
            "Epoch 26/1000\n",
            "40/40 [==============================] - ETA: 3s - loss: 0.6469 - acc: 0.146 - ETA: 1s - loss: 0.6185 - acc: 0.160 - 16s 399ms/step - loss: 0.5999 - acc: 0.1669 - val_loss: 1.4097 - val_acc: 0.0823\n",
            "Epoch 27/1000\n",
            "40/40 [==============================] - ETA: 2s - loss: 0.5441 - acc: 0.148 - ETA: 0s - loss: 0.5609 - acc: 0.167 - 15s 387ms/step - loss: 0.5931 - acc: 0.1754 - val_loss: 1.2304 - val_acc: 0.1000\n",
            "Epoch 28/1000\n",
            "40/40 [==============================] - ETA: 3s - loss: 0.5412 - acc: 0.175 - ETA: 1s - loss: 0.6175 - acc: 0.191 - 15s 387ms/step - loss: 0.5959 - acc: 0.1746 - val_loss: 1.2082 - val_acc: 0.1016\n",
            "Epoch 29/1000\n",
            "40/40 [==============================] - ETA: 3s - loss: 0.5538 - acc: 0.168 - ETA: 1s - loss: 0.5728 - acc: 0.168 - 15s 385ms/step - loss: 0.5889 - acc: 0.1750 - val_loss: 1.2580 - val_acc: 0.0952\n",
            "Epoch 30/1000\n",
            "40/40 [==============================] - ETA: 3s - loss: 0.5756 - acc: 0.179 - ETA: 1s - loss: 0.5837 - acc: 0.176 - 15s 382ms/step - loss: 0.5786 - acc: 0.1766 - val_loss: 1.2704 - val_acc: 0.0919\n",
            "Epoch 31/1000\n",
            "40/40 [==============================] - ETA: 3s - loss: 0.5247 - acc: 0.177 - ETA: 1s - loss: 0.5850 - acc: 0.189 - 16s 389ms/step - loss: 0.5762 - acc: 0.1879 - val_loss: 1.2031 - val_acc: 0.0823\n",
            "Epoch 32/1000\n",
            "40/40 [==============================] - ETA: 2s - loss: 0.6040 - acc: 0.214 - ETA: 1s - loss: 0.5704 - acc: 0.191 - 15s 384ms/step - loss: 0.5752 - acc: 0.1847 - val_loss: 1.2125 - val_acc: 0.1000\n",
            "Epoch 33/1000\n",
            "40/40 [==============================] - ETA: 3s - loss: 0.5612 - acc: 0.172 - ETA: 1s - loss: 0.5610 - acc: 0.177 - 16s 395ms/step - loss: 0.5647 - acc: 0.1839 - val_loss: 1.2535 - val_acc: 0.0968\n",
            "Epoch 34/1000\n",
            "40/40 [==============================] - ETA: 3s - loss: 0.6000 - acc: 0.205 - ETA: 1s - loss: 0.5777 - acc: 0.187 - 16s 391ms/step - loss: 0.5598 - acc: 0.1802 - val_loss: 1.1902 - val_acc: 0.0984\n",
            "Epoch 35/1000\n",
            "40/40 [==============================] - ETA: 3s - loss: 0.4948 - acc: 0.166 - ETA: 1s - loss: 0.5556 - acc: 0.188 - 16s 388ms/step - loss: 0.5588 - acc: 0.1903 - val_loss: 1.3249 - val_acc: 0.0984\n",
            "Epoch 36/1000\n",
            "40/40 [==============================] - ETA: 3s - loss: 0.5520 - acc: 0.177 - ETA: 1s - loss: 0.5243 - acc: 0.162 - 16s 399ms/step - loss: 0.5483 - acc: 0.1806 - val_loss: 1.3234 - val_acc: 0.0855\n",
            "Epoch 37/1000\n",
            "40/40 [==============================] - ETA: 2s - loss: 0.5659 - acc: 0.166 - ETA: 1s - loss: 0.5689 - acc: 0.179 - 16s 389ms/step - loss: 0.5686 - acc: 0.1782 - val_loss: 1.2534 - val_acc: 0.0903\n",
            "Epoch 38/1000\n",
            "40/40 [==============================] - ETA: 3s - loss: 0.6135 - acc: 0.196 - ETA: 1s - loss: 0.5693 - acc: 0.176 - 16s 391ms/step - loss: 0.5601 - acc: 0.1831 - val_loss: 1.2661 - val_acc: 0.0968\n",
            "Epoch 39/1000\n"
          ],
          "name": "stdout"
        },
        {
          "output_type": "stream",
          "text": [
            "40/40 [==============================] - ETA: 2s - loss: 0.6393 - acc: 0.226 - ETA: 0s - loss: 0.5662 - acc: 0.186 - 16s 389ms/step - loss: 0.5562 - acc: 0.1859 - val_loss: 1.2161 - val_acc: 0.1000\n",
            "Epoch 40/1000\n",
            "40/40 [==============================] - ETA: 3s - loss: 0.5451 - acc: 0.164 - ETA: 1s - loss: 0.5739 - acc: 0.179 - 16s 398ms/step - loss: 0.5654 - acc: 0.1823 - val_loss: 1.2972 - val_acc: 0.0984\n",
            "Epoch 41/1000\n",
            "40/40 [==============================] - ETA: 3s - loss: 0.5797 - acc: 0.206 - ETA: 1s - loss: 0.5846 - acc: 0.205 - 15s 386ms/step - loss: 0.5464 - acc: 0.1871 - val_loss: 1.2656 - val_acc: 0.1000\n",
            "Epoch 42/1000\n",
            "40/40 [==============================] - ETA: 2s - loss: 0.4163 - acc: 0.126 - ETA: 1s - loss: 0.5370 - acc: 0.174 - 16s 398ms/step - loss: 0.5418 - acc: 0.1859 - val_loss: 1.3117 - val_acc: 0.1000\n",
            "Epoch 43/1000\n",
            "40/40 [==============================] - ETA: 3s - loss: 0.5192 - acc: 0.157 - ETA: 1s - loss: 0.5322 - acc: 0.183 - 15s 385ms/step - loss: 0.5379 - acc: 0.1911 - val_loss: 1.1888 - val_acc: 0.1000\n",
            "Epoch 44/1000\n",
            "40/40 [==============================] - ETA: 3s - loss: 0.5596 - acc: 0.212 - ETA: 1s - loss: 0.5333 - acc: 0.186 - 16s 394ms/step - loss: 0.5462 - acc: 0.1847 - val_loss: 1.3012 - val_acc: 0.0903\n",
            "Epoch 45/1000\n",
            "40/40 [==============================] - ETA: 3s - loss: 0.6110 - acc: 0.208 - ETA: 1s - loss: 0.5319 - acc: 0.182 - 15s 387ms/step - loss: 0.5347 - acc: 0.1948 - val_loss: 1.2234 - val_acc: 0.0952\n",
            "Epoch 46/1000\n",
            "40/40 [==============================] - ETA: 3s - loss: 0.4695 - acc: 0.153 - ETA: 1s - loss: 0.4941 - acc: 0.185 - 15s 382ms/step - loss: 0.5322 - acc: 0.1919 - val_loss: 1.2259 - val_acc: 0.0968\n",
            "Epoch 47/1000\n",
            "40/40 [==============================] - ETA: 3s - loss: 0.5996 - acc: 0.245 - ETA: 0s - loss: 0.5163 - acc: 0.204 - 15s 381ms/step - loss: 0.5208 - acc: 0.1948 - val_loss: 1.1962 - val_acc: 0.0968\n",
            "Epoch 48/1000\n",
            "40/40 [==============================] - ETA: 3s - loss: 0.4557 - acc: 0.174 - ETA: 1s - loss: 0.4722 - acc: 0.185 - 16s 396ms/step - loss: 0.5048 - acc: 0.2036 - val_loss: 1.3305 - val_acc: 0.0806\n",
            "Epoch 49/1000\n",
            "40/40 [==============================] - ETA: 3s - loss: 0.6351 - acc: 0.201 - ETA: 1s - loss: 0.5384 - acc: 0.180 - 16s 397ms/step - loss: 0.5293 - acc: 0.1960 - val_loss: 1.1967 - val_acc: 0.0871\n",
            "Epoch 50/1000\n",
            "40/40 [==============================] - ETA: 3s - loss: 0.5626 - acc: 0.178 - ETA: 1s - loss: 0.5121 - acc: 0.189 - 16s 392ms/step - loss: 0.5107 - acc: 0.1976 - val_loss: 1.2352 - val_acc: 0.0984\n",
            "Epoch 51/1000\n",
            "40/40 [==============================] - ETA: 2s - loss: 0.4947 - acc: 0.190 - ETA: 0s - loss: 0.4900 - acc: 0.191 - 15s 387ms/step - loss: 0.4982 - acc: 0.2004 - val_loss: 1.1842 - val_acc: 0.0968\n",
            "Epoch 52/1000\n",
            "40/40 [==============================] - ETA: 2s - loss: 0.6079 - acc: 0.226 - ETA: 1s - loss: 0.5420 - acc: 0.197 - 15s 386ms/step - loss: 0.5234 - acc: 0.1895 - val_loss: 1.2689 - val_acc: 0.0919\n",
            "Epoch 53/1000\n",
            "40/40 [==============================] - ETA: 2s - loss: 0.4691 - acc: 0.165 - ETA: 0s - loss: 0.5153 - acc: 0.191 - 16s 389ms/step - loss: 0.5000 - acc: 0.1964 - val_loss: 1.3086 - val_acc: 0.0887\n",
            "Epoch 54/1000\n",
            "40/40 [==============================] - ETA: 3s - loss: 0.5539 - acc: 0.209 - ETA: 0s - loss: 0.5310 - acc: 0.193 - 15s 386ms/step - loss: 0.5157 - acc: 0.1984 - val_loss: 1.3213 - val_acc: 0.0855\n",
            "Epoch 55/1000\n",
            "40/40 [==============================] - ETA: 3s - loss: 0.5073 - acc: 0.199 - ETA: 0s - loss: 0.5059 - acc: 0.200 - 16s 389ms/step - loss: 0.4978 - acc: 0.1992 - val_loss: 1.3313 - val_acc: 0.0903\n",
            "Epoch 56/1000\n",
            "40/40 [==============================] - ETA: 3s - loss: 0.4720 - acc: 0.170 - ETA: 0s - loss: 0.5018 - acc: 0.202 - 15s 387ms/step - loss: 0.4976 - acc: 0.1952 - val_loss: 1.1833 - val_acc: 0.0984\n",
            "Epoch 57/1000\n",
            "40/40 [==============================] - ETA: 2s - loss: 0.4930 - acc: 0.225 - ETA: 0s - loss: 0.4770 - acc: 0.202 - 16s 391ms/step - loss: 0.4926 - acc: 0.2081 - val_loss: 1.2149 - val_acc: 0.1000\n",
            "Epoch 58/1000\n",
            "40/40 [==============================] - ETA: 3s - loss: 0.4804 - acc: 0.196 - ETA: 1s - loss: 0.5087 - acc: 0.217 - 15s 385ms/step - loss: 0.4902 - acc: 0.2077 - val_loss: 1.3169 - val_acc: 0.0903\n",
            "Epoch 59/1000\n",
            "40/40 [==============================] - ETA: 2s - loss: 0.3883 - acc: 0.143 - ETA: 0s - loss: 0.4737 - acc: 0.206 - 16s 389ms/step - loss: 0.4793 - acc: 0.2069 - val_loss: 1.2679 - val_acc: 0.0968\n",
            "Epoch 60/1000\n",
            "40/40 [==============================] - ETA: 2s - loss: 0.5120 - acc: 0.242 - ETA: 0s - loss: 0.4443 - acc: 0.208 - 15s 384ms/step - loss: 0.4630 - acc: 0.2161 - val_loss: 1.2892 - val_acc: 0.0952\n",
            "Epoch 61/1000\n",
            "40/40 [==============================] - ETA: 3s - loss: 0.4327 - acc: 0.169 - ETA: 1s - loss: 0.4460 - acc: 0.195 - 16s 401ms/step - loss: 0.4646 - acc: 0.2125 - val_loss: 1.2625 - val_acc: 0.0887\n",
            "Epoch 62/1000\n",
            "40/40 [==============================] - ETA: 3s - loss: 0.5113 - acc: 0.198 - ETA: 1s - loss: 0.5579 - acc: 0.200 - 15s 385ms/step - loss: 0.5162 - acc: 0.1964 - val_loss: 1.2484 - val_acc: 0.1048\n",
            "Epoch 63/1000\n",
            "40/40 [==============================] - ETA: 2s - loss: 0.3816 - acc: 0.220 - ETA: 1s - loss: 0.4200 - acc: 0.208 - 16s 394ms/step - loss: 0.4569 - acc: 0.2169 - val_loss: 1.3828 - val_acc: 0.0984\n",
            "Epoch 64/1000\n",
            "40/40 [==============================] - ETA: 3s - loss: 0.5119 - acc: 0.251 - ETA: 1s - loss: 0.4691 - acc: 0.218 - 16s 393ms/step - loss: 0.4670 - acc: 0.2173 - val_loss: 1.2755 - val_acc: 0.0952\n",
            "Epoch 65/1000\n",
            "40/40 [==============================] - ETA: 3s - loss: 0.5610 - acc: 0.244 - ETA: 1s - loss: 0.5071 - acc: 0.215 - 16s 395ms/step - loss: 0.4773 - acc: 0.2121 - val_loss: 1.2501 - val_acc: 0.1048\n",
            "Epoch 66/1000\n",
            "40/40 [==============================] - ETA: 3s - loss: 0.5314 - acc: 0.246 - ETA: 1s - loss: 0.4804 - acc: 0.211 - 15s 384ms/step - loss: 0.4725 - acc: 0.2113 - val_loss: 1.3526 - val_acc: 0.1016\n",
            "Epoch 67/1000\n",
            "40/40 [==============================] - ETA: 3s - loss: 0.3849 - acc: 0.176 - ETA: 1s - loss: 0.4413 - acc: 0.211 - 15s 380ms/step - loss: 0.4450 - acc: 0.2165 - val_loss: 1.3369 - val_acc: 0.0935\n",
            "Epoch 68/1000\n",
            "40/40 [==============================] - ETA: 2s - loss: 0.4191 - acc: 0.231 - ETA: 0s - loss: 0.4512 - acc: 0.225 - 15s 383ms/step - loss: 0.4379 - acc: 0.2226 - val_loss: 1.2737 - val_acc: 0.1065\n",
            "Epoch 69/1000\n",
            "40/40 [==============================] - ETA: 3s - loss: 0.4538 - acc: 0.190 - ETA: 0s - loss: 0.4855 - acc: 0.226 - 15s 379ms/step - loss: 0.4617 - acc: 0.2137 - val_loss: 1.5000 - val_acc: 0.0903\n",
            "Epoch 70/1000\n",
            "40/40 [==============================] - ETA: 3s - loss: 0.4762 - acc: 0.195 - ETA: 1s - loss: 0.5050 - acc: 0.227 - 16s 392ms/step - loss: 0.4782 - acc: 0.2097 - val_loss: 1.2782 - val_acc: 0.0968\n",
            "Epoch 71/1000\n",
            "40/40 [==============================] - ETA: 2s - loss: 0.3815 - acc: 0.234 - ETA: 1s - loss: 0.4267 - acc: 0.213 - 16s 388ms/step - loss: 0.4346 - acc: 0.2210 - val_loss: 1.3523 - val_acc: 0.1000\n",
            "Epoch 72/1000\n",
            "40/40 [==============================] - ETA: 3s - loss: 0.4826 - acc: 0.197 - ETA: 1s - loss: 0.4773 - acc: 0.214 - 16s 390ms/step - loss: 0.4655 - acc: 0.2141 - val_loss: 1.3278 - val_acc: 0.0984\n",
            "Epoch 73/1000\n",
            "40/40 [==============================] - ETA: 2s - loss: 0.4392 - acc: 0.178 - ETA: 1s - loss: 0.4669 - acc: 0.218 - 16s 394ms/step - loss: 0.4444 - acc: 0.2141 - val_loss: 1.3135 - val_acc: 0.0968\n",
            "Epoch 74/1000\n",
            "40/40 [==============================] - ETA: 3s - loss: 0.4263 - acc: 0.228 - ETA: 1s - loss: 0.4197 - acc: 0.219 - 16s 401ms/step - loss: 0.4273 - acc: 0.2198 - val_loss: 1.3890 - val_acc: 0.0984\n",
            "Epoch 75/1000\n",
            "40/40 [==============================] - ETA: 3s - loss: 0.4528 - acc: 0.191 - ETA: 1s - loss: 0.4843 - acc: 0.221 - 15s 386ms/step - loss: 0.4539 - acc: 0.2129 - val_loss: 1.3641 - val_acc: 0.1000\n",
            "Epoch 76/1000\n",
            "40/40 [==============================] - ETA: 3s - loss: 0.3722 - acc: 0.213 - ETA: 1s - loss: 0.4352 - acc: 0.232 - 16s 393ms/step - loss: 0.4360 - acc: 0.2266 - val_loss: 1.3314 - val_acc: 0.0952\n",
            "Epoch 77/1000\n",
            "40/40 [==============================] - ETA: 3s - loss: 0.4267 - acc: 0.229 - ETA: 1s - loss: 0.4269 - acc: 0.236 - 16s 393ms/step - loss: 0.4237 - acc: 0.2262 - val_loss: 1.3890 - val_acc: 0.0887\n"
          ],
          "name": "stdout"
        },
        {
          "output_type": "stream",
          "text": [
            "Epoch 78/1000\n",
            "40/40 [==============================] - ETA: 3s - loss: 0.3761 - acc: 0.179 - ETA: 0s - loss: 0.4224 - acc: 0.208 - 15s 386ms/step - loss: 0.4361 - acc: 0.2226 - val_loss: 1.3255 - val_acc: 0.1000\n",
            "Epoch 79/1000\n",
            "40/40 [==============================] - ETA: 3s - loss: 0.3423 - acc: 0.180 - ETA: 1s - loss: 0.4039 - acc: 0.221 - 16s 389ms/step - loss: 0.4154 - acc: 0.2290 - val_loss: 1.3037 - val_acc: 0.1000\n",
            "Epoch 80/1000\n",
            "40/40 [==============================] - ETA: 3s - loss: 0.4296 - acc: 0.227 - ETA: 1s - loss: 0.4079 - acc: 0.240 - 15s 386ms/step - loss: 0.4011 - acc: 0.2347 - val_loss: 1.3582 - val_acc: 0.1000\n",
            "Epoch 81/1000\n",
            "40/40 [==============================] - ETA: 2s - loss: 0.3997 - acc: 0.207 - ETA: 0s - loss: 0.3967 - acc: 0.229 - 16s 392ms/step - loss: 0.4180 - acc: 0.2262 - val_loss: 1.3810 - val_acc: 0.1032\n",
            "Epoch 82/1000\n",
            "40/40 [==============================] - ETA: 3s - loss: 0.4688 - acc: 0.262 - ETA: 1s - loss: 0.4191 - acc: 0.238 - 16s 398ms/step - loss: 0.4110 - acc: 0.2278 - val_loss: 1.3224 - val_acc: 0.1000\n",
            "Epoch 83/1000\n",
            "40/40 [==============================] - ETA: 3s - loss: 0.3592 - acc: 0.246 - ETA: 1s - loss: 0.3846 - acc: 0.216 - 16s 392ms/step - loss: 0.4075 - acc: 0.2298 - val_loss: 1.4088 - val_acc: 0.0935\n",
            "Epoch 84/1000\n",
            "40/40 [==============================] - ETA: 3s - loss: 0.5173 - acc: 0.245 - ETA: 1s - loss: 0.4383 - acc: 0.230 - 15s 386ms/step - loss: 0.4144 - acc: 0.2242 - val_loss: 1.3709 - val_acc: 0.0968\n",
            "Epoch 85/1000\n",
            "40/40 [==============================] - ETA: 3s - loss: 0.4228 - acc: 0.222 - ETA: 1s - loss: 0.3987 - acc: 0.225 - 16s 391ms/step - loss: 0.4137 - acc: 0.2290 - val_loss: 1.3263 - val_acc: 0.0984\n",
            "Epoch 86/1000\n",
            "40/40 [==============================] - ETA: 3s - loss: 0.3835 - acc: 0.192 - ETA: 1s - loss: 0.3653 - acc: 0.214 - 16s 390ms/step - loss: 0.3981 - acc: 0.2355 - val_loss: 1.3576 - val_acc: 0.1032\n",
            "Epoch 87/1000\n",
            "40/40 [==============================] - ETA: 2s - loss: 0.4781 - acc: 0.246 - ETA: 0s - loss: 0.3833 - acc: 0.219 - 16s 392ms/step - loss: 0.3934 - acc: 0.2383 - val_loss: 1.3953 - val_acc: 0.0968\n",
            "Epoch 88/1000\n",
            "40/40 [==============================] - ETA: 3s - loss: 0.3508 - acc: 0.214 - ETA: 1s - loss: 0.3709 - acc: 0.239 - 16s 411ms/step - loss: 0.3852 - acc: 0.2339 - val_loss: 1.3128 - val_acc: 0.0984\n",
            "Epoch 89/1000\n",
            "40/40 [==============================] - ETA: 3s - loss: 0.4019 - acc: 0.244 - ETA: 1s - loss: 0.3866 - acc: 0.224 - 15s 387ms/step - loss: 0.4012 - acc: 0.2359 - val_loss: 1.3075 - val_acc: 0.0968\n",
            "Epoch 90/1000\n",
            "40/40 [==============================] - ETA: 2s - loss: 0.3621 - acc: 0.181 - ETA: 1s - loss: 0.3949 - acc: 0.221 - 16s 398ms/step - loss: 0.3934 - acc: 0.2351 - val_loss: 1.2737 - val_acc: 0.1081\n",
            "Epoch 91/1000\n",
            "40/40 [==============================] - ETA: 3s - loss: 0.3851 - acc: 0.224 - ETA: 1s - loss: 0.3600 - acc: 0.222 - 16s 400ms/step - loss: 0.3925 - acc: 0.2331 - val_loss: 1.3542 - val_acc: 0.1016\n",
            "Epoch 92/1000\n",
            "40/40 [==============================] - ETA: 3s - loss: 0.3905 - acc: 0.259 - ETA: 1s - loss: 0.3818 - acc: 0.257 - 15s 384ms/step - loss: 0.3711 - acc: 0.2448 - val_loss: 1.3083 - val_acc: 0.1016\n",
            "Epoch 93/1000\n",
            "40/40 [==============================] - ETA: 2s - loss: 0.3019 - acc: 0.216 - ETA: 1s - loss: 0.3531 - acc: 0.251 - 16s 394ms/step - loss: 0.3610 - acc: 0.2480 - val_loss: 1.3419 - val_acc: 0.1016\n",
            "Epoch 94/1000\n",
            "40/40 [==============================] - ETA: 3s - loss: 0.3992 - acc: 0.202 - ETA: 1s - loss: 0.4186 - acc: 0.246 - 16s 398ms/step - loss: 0.4075 - acc: 0.2290 - val_loss: 1.4155 - val_acc: 0.0935\n",
            "Epoch 95/1000\n",
            "40/40 [==============================] - ETA: 3s - loss: 0.4142 - acc: 0.224 - ETA: 1s - loss: 0.3828 - acc: 0.235 - 16s 393ms/step - loss: 0.3841 - acc: 0.2347 - val_loss: 1.3273 - val_acc: 0.1032\n",
            "Epoch 96/1000\n",
            "40/40 [==============================] - ETA: 3s - loss: 0.3583 - acc: 0.189 - ETA: 1s - loss: 0.3909 - acc: 0.239 - 16s 396ms/step - loss: 0.3747 - acc: 0.2435 - val_loss: 1.3827 - val_acc: 0.1032\n",
            "Epoch 97/1000\n",
            "40/40 [==============================] - ETA: 3s - loss: 0.3563 - acc: 0.207 - ETA: 1s - loss: 0.3380 - acc: 0.232 - 15s 385ms/step - loss: 0.3551 - acc: 0.2468 - val_loss: 1.3141 - val_acc: 0.1065\n",
            "Epoch 98/1000\n",
            "40/40 [==============================] - ETA: 3s - loss: 0.4112 - acc: 0.257 - ETA: 1s - loss: 0.3854 - acc: 0.238 - 16s 394ms/step - loss: 0.3800 - acc: 0.2363 - val_loss: 1.3630 - val_acc: 0.1000\n",
            "Epoch 99/1000\n",
            "40/40 [==============================] - ETA: 3s - loss: 0.4053 - acc: 0.210 - ETA: 1s - loss: 0.3638 - acc: 0.226 - 15s 377ms/step - loss: 0.3803 - acc: 0.2383 - val_loss: 1.4425 - val_acc: 0.1032\n",
            "Epoch 100/1000\n",
            "40/40 [==============================] - ETA: 3s - loss: 0.3412 - acc: 0.251 - ETA: 0s - loss: 0.3515 - acc: 0.252 - 15s 381ms/step - loss: 0.3683 - acc: 0.2492 - val_loss: 1.3548 - val_acc: 0.1081\n",
            "Epoch 101/1000\n",
            "40/40 [==============================] - ETA: 2s - loss: 0.4275 - acc: 0.284 - ETA: 0s - loss: 0.3784 - acc: 0.260 - 15s 374ms/step - loss: 0.3613 - acc: 0.2492 - val_loss: 1.3596 - val_acc: 0.1000\n",
            "Epoch 102/1000\n",
            "40/40 [==============================] - ETA: 2s - loss: 0.3965 - acc: 0.302 - ETA: 1s - loss: 0.3508 - acc: 0.248 - 16s 390ms/step - loss: 0.3501 - acc: 0.2440 - val_loss: 1.4665 - val_acc: 0.0968\n",
            "Epoch 103/1000\n",
            "40/40 [==============================] - ETA: 2s - loss: 0.3544 - acc: 0.231 - ETA: 1s - loss: 0.3670 - acc: 0.246 - 15s 387ms/step - loss: 0.3613 - acc: 0.2427 - val_loss: 1.3756 - val_acc: 0.0968\n",
            "Epoch 104/1000\n",
            "40/40 [==============================] - ETA: 2s - loss: 0.3868 - acc: 0.274 - ETA: 1s - loss: 0.3561 - acc: 0.252 - 15s 380ms/step - loss: 0.3584 - acc: 0.2464 - val_loss: 1.4237 - val_acc: 0.0919\n",
            "Epoch 105/1000\n",
            "40/40 [==============================] - ETA: 2s - loss: 0.3556 - acc: 0.255 - ETA: 0s - loss: 0.3681 - acc: 0.255 - 15s 378ms/step - loss: 0.3540 - acc: 0.2468 - val_loss: 1.3926 - val_acc: 0.1016\n",
            "Epoch 106/1000\n",
            "40/40 [==============================] - ETA: 2s - loss: 0.3305 - acc: 0.209 - ETA: 0s - loss: 0.3344 - acc: 0.242 - 15s 381ms/step - loss: 0.3590 - acc: 0.2540 - val_loss: 1.2927 - val_acc: 0.0952\n",
            "Epoch 107/1000\n",
            "40/40 [==============================] - ETA: 3s - loss: 0.3969 - acc: 0.259 - ETA: 1s - loss: 0.3855 - acc: 0.272 - 15s 384ms/step - loss: 0.3620 - acc: 0.2472 - val_loss: 1.3359 - val_acc: 0.0952\n",
            "Epoch 108/1000\n",
            "40/40 [==============================] - ETA: 2s - loss: 0.3599 - acc: 0.255 - ETA: 1s - loss: 0.3479 - acc: 0.250 - 15s 385ms/step - loss: 0.3437 - acc: 0.2532 - val_loss: 1.3763 - val_acc: 0.1048\n",
            "Epoch 109/1000\n",
            "40/40 [==============================] - ETA: 2s - loss: 0.2770 - acc: 0.216 - ETA: 0s - loss: 0.3103 - acc: 0.225 - 15s 384ms/step - loss: 0.3418 - acc: 0.2536 - val_loss: 1.3085 - val_acc: 0.1032\n",
            "Epoch 110/1000\n",
            "40/40 [==============================] - ETA: 3s - loss: 0.3405 - acc: 0.195 - ETA: 1s - loss: 0.3465 - acc: 0.236 - 16s 401ms/step - loss: 0.3491 - acc: 0.2476 - val_loss: 1.3597 - val_acc: 0.0984\n",
            "Epoch 111/1000\n",
            "40/40 [==============================] - ETA: 3s - loss: 0.3647 - acc: 0.270 - ETA: 0s - loss: 0.3545 - acc: 0.263 - 16s 391ms/step - loss: 0.3446 - acc: 0.2472 - val_loss: 1.3829 - val_acc: 0.1016\n",
            "Epoch 112/1000\n",
            "40/40 [==============================] - ETA: 2s - loss: 0.3287 - acc: 0.259 - ETA: 0s - loss: 0.3318 - acc: 0.266 - 16s 388ms/step - loss: 0.3281 - acc: 0.2556 - val_loss: 1.4885 - val_acc: 0.0968\n",
            "Epoch 113/1000\n",
            "40/40 [==============================] - ETA: 2s - loss: 0.3204 - acc: 0.226 - ETA: 0s - loss: 0.3243 - acc: 0.231 - 15s 386ms/step - loss: 0.3369 - acc: 0.2468 - val_loss: 1.3671 - val_acc: 0.0984\n",
            "Epoch 114/1000\n",
            "40/40 [==============================] - ETA: 3s - loss: 0.3645 - acc: 0.255 - ETA: 1s - loss: 0.3364 - acc: 0.242 - 15s 386ms/step - loss: 0.3475 - acc: 0.2472 - val_loss: 1.4022 - val_acc: 0.0968\n",
            "Epoch 115/1000\n",
            "40/40 [==============================] - ETA: 2s - loss: 0.3217 - acc: 0.211 - ETA: 1s - loss: 0.3347 - acc: 0.265 - 15s 385ms/step - loss: 0.3222 - acc: 0.2528 - val_loss: 1.3920 - val_acc: 0.0903\n",
            "Epoch 116/1000\n"
          ],
          "name": "stdout"
        },
        {
          "output_type": "stream",
          "text": [
            "40/40 [==============================] - ETA: 2s - loss: 0.3494 - acc: 0.279 - ETA: 0s - loss: 0.3305 - acc: 0.265 - 15s 378ms/step - loss: 0.3211 - acc: 0.2597 - val_loss: 1.3437 - val_acc: 0.1097\n",
            "Epoch 117/1000\n",
            "40/40 [==============================] - ETA: 3s - loss: 0.3404 - acc: 0.282 - ETA: 0s - loss: 0.3252 - acc: 0.274 - 16s 389ms/step - loss: 0.3134 - acc: 0.2597 - val_loss: 1.3924 - val_acc: 0.1048\n",
            "Epoch 118/1000\n",
            "40/40 [==============================] - ETA: 2s - loss: 0.2658 - acc: 0.263 - ETA: 0s - loss: 0.2876 - acc: 0.258 - 16s 390ms/step - loss: 0.3146 - acc: 0.2629 - val_loss: 1.3417 - val_acc: 0.0952\n",
            "Epoch 119/1000\n",
            "40/40 [==============================] - ETA: 2s - loss: 0.3319 - acc: 0.255 - ETA: 0s - loss: 0.3330 - acc: 0.249 - 15s 387ms/step - loss: 0.3439 - acc: 0.2488 - val_loss: 1.4393 - val_acc: 0.0887\n",
            "Epoch 120/1000\n",
            "40/40 [==============================] - ETA: 3s - loss: 0.3870 - acc: 0.285 - ETA: 1s - loss: 0.3443 - acc: 0.260 - 15s 381ms/step - loss: 0.3274 - acc: 0.2512 - val_loss: 1.4381 - val_acc: 0.0984\n",
            "Epoch 121/1000\n",
            "40/40 [==============================] - ETA: 3s - loss: 0.2983 - acc: 0.274 - ETA: 1s - loss: 0.3065 - acc: 0.275 - 16s 400ms/step - loss: 0.3028 - acc: 0.2645 - val_loss: 1.4434 - val_acc: 0.0935\n",
            "Epoch 122/1000\n",
            "40/40 [==============================] - ETA: 3s - loss: 0.2760 - acc: 0.257 - ETA: 0s - loss: 0.3098 - acc: 0.269 - 15s 387ms/step - loss: 0.3158 - acc: 0.2597 - val_loss: 1.4196 - val_acc: 0.0968\n",
            "Epoch 123/1000\n",
            "40/40 [==============================] - ETA: 2s - loss: 0.3543 - acc: 0.267 - ETA: 1s - loss: 0.3161 - acc: 0.245 - 16s 391ms/step - loss: 0.3248 - acc: 0.2637 - val_loss: 1.5684 - val_acc: 0.0935\n",
            "Epoch 124/1000\n",
            "40/40 [==============================] - ETA: 2s - loss: 0.2911 - acc: 0.295 - ETA: 1s - loss: 0.2858 - acc: 0.267 - 16s 391ms/step - loss: 0.2983 - acc: 0.2677 - val_loss: 1.4911 - val_acc: 0.0952\n",
            "Epoch 125/1000\n",
            "40/40 [==============================] - ETA: 3s - loss: 0.2994 - acc: 0.238 - ETA: 1s - loss: 0.3141 - acc: 0.247 - 16s 396ms/step - loss: 0.3300 - acc: 0.2484 - val_loss: 1.3959 - val_acc: 0.1000\n",
            "Epoch 126/1000\n",
            "40/40 [==============================] - ETA: 3s - loss: 0.3254 - acc: 0.259 - ETA: 1s - loss: 0.3403 - acc: 0.273 - 16s 404ms/step - loss: 0.3248 - acc: 0.2605 - val_loss: 1.4624 - val_acc: 0.0919\n",
            "Epoch 127/1000\n",
            "40/40 [==============================] - ETA: 3s - loss: 0.2800 - acc: 0.236 - ETA: 1s - loss: 0.3057 - acc: 0.251 - 15s 385ms/step - loss: 0.3080 - acc: 0.2589 - val_loss: 1.5288 - val_acc: 0.0919\n",
            "Epoch 128/1000\n",
            "40/40 [==============================] - ETA: 2s - loss: 0.3111 - acc: 0.270 - ETA: 0s - loss: 0.2903 - acc: 0.290 - 16s 394ms/step - loss: 0.2842 - acc: 0.2710 - val_loss: 1.4470 - val_acc: 0.0919\n",
            "Epoch 129/1000\n",
            "40/40 [==============================] - ETA: 3s - loss: 0.2709 - acc: 0.248 - ETA: 1s - loss: 0.2898 - acc: 0.264 - 16s 388ms/step - loss: 0.3014 - acc: 0.2653 - val_loss: 1.4561 - val_acc: 0.0919\n",
            "Epoch 130/1000\n",
            "40/40 [==============================] - ETA: 3s - loss: 0.3254 - acc: 0.277 - ETA: 1s - loss: 0.3180 - acc: 0.248 - 15s 387ms/step - loss: 0.3207 - acc: 0.2589 - val_loss: 1.4627 - val_acc: 0.1000\n",
            "Epoch 131/1000\n",
            "40/40 [==============================] - ETA: 2s - loss: 0.3116 - acc: 0.223 - ETA: 0s - loss: 0.3111 - acc: 0.234 - 16s 390ms/step - loss: 0.3122 - acc: 0.2556 - val_loss: 1.4800 - val_acc: 0.0968\n",
            "Epoch 132/1000\n",
            "40/40 [==============================] - ETA: 2s - loss: 0.3139 - acc: 0.283 - ETA: 1s - loss: 0.2832 - acc: 0.257 - 15s 377ms/step - loss: 0.2987 - acc: 0.2649 - val_loss: 1.4563 - val_acc: 0.1016\n",
            "Epoch 133/1000\n",
            "40/40 [==============================] - ETA: 2s - loss: 0.2535 - acc: 0.274 - ETA: 0s - loss: 0.2798 - acc: 0.284 - 15s 376ms/step - loss: 0.2881 - acc: 0.2649 - val_loss: 1.3569 - val_acc: 0.0887\n",
            "Epoch 134/1000\n",
            "40/40 [==============================] - ETA: 2s - loss: 0.3048 - acc: 0.293 - ETA: 1s - loss: 0.3161 - acc: 0.280 - 15s 381ms/step - loss: 0.3142 - acc: 0.2645 - val_loss: 1.4715 - val_acc: 0.0871\n",
            "Epoch 135/1000\n",
            "40/40 [==============================] - ETA: 2s - loss: 0.2956 - acc: 0.203 - ETA: 1s - loss: 0.2939 - acc: 0.250 - 15s 381ms/step - loss: 0.2992 - acc: 0.2577 - val_loss: 1.4533 - val_acc: 0.0839\n",
            "Epoch 136/1000\n",
            "40/40 [==============================] - ETA: 2s - loss: 0.3257 - acc: 0.344 - ETA: 0s - loss: 0.2827 - acc: 0.261 - 15s 377ms/step - loss: 0.2893 - acc: 0.2673 - val_loss: 1.4686 - val_acc: 0.0919\n",
            "Epoch 137/1000\n",
            "40/40 [==============================] - ETA: 2s - loss: 0.3153 - acc: 0.266 - ETA: 0s - loss: 0.2995 - acc: 0.255 - 15s 378ms/step - loss: 0.3046 - acc: 0.2577 - val_loss: 1.4731 - val_acc: 0.0984\n",
            "Epoch 138/1000\n",
            "40/40 [==============================] - ETA: 3s - loss: 0.2873 - acc: 0.309 - ETA: 1s - loss: 0.2742 - acc: 0.261 - 16s 393ms/step - loss: 0.2802 - acc: 0.2726 - val_loss: 1.4231 - val_acc: 0.1032\n",
            "Epoch 139/1000\n",
            "40/40 [==============================] - ETA: 2s - loss: 0.2855 - acc: 0.310 - ETA: 0s - loss: 0.2617 - acc: 0.265 - 15s 386ms/step - loss: 0.2682 - acc: 0.2742 - val_loss: 1.4936 - val_acc: 0.0919\n",
            "Epoch 140/1000\n",
            "40/40 [==============================] - ETA: 2s - loss: 0.3125 - acc: 0.309 - ETA: 1s - loss: 0.2905 - acc: 0.278 - 15s 383ms/step - loss: 0.2869 - acc: 0.2706 - val_loss: 1.5074 - val_acc: 0.1048\n",
            "Epoch 141/1000\n",
            "40/40 [==============================] - ETA: 2s - loss: 0.2679 - acc: 0.264 - ETA: 0s - loss: 0.2598 - acc: 0.263 - 15s 379ms/step - loss: 0.2740 - acc: 0.2754 - val_loss: 1.4749 - val_acc: 0.0903\n",
            "Epoch 142/1000\n",
            "40/40 [==============================] - ETA: 2s - loss: 0.3434 - acc: 0.278 - ETA: 1s - loss: 0.3064 - acc: 0.269 - 15s 386ms/step - loss: 0.3110 - acc: 0.2649 - val_loss: 1.4700 - val_acc: 0.0968\n",
            "Epoch 143/1000\n",
            "40/40 [==============================] - ETA: 2s - loss: 0.3049 - acc: 0.285 - ETA: 0s - loss: 0.2831 - acc: 0.283 - 15s 376ms/step - loss: 0.2790 - acc: 0.2706 - val_loss: 1.5809 - val_acc: 0.0871\n",
            "Epoch 144/1000\n",
            "40/40 [==============================] - ETA: 2s - loss: 0.2585 - acc: 0.206 - ETA: 1s - loss: 0.2918 - acc: 0.254 - 15s 386ms/step - loss: 0.2834 - acc: 0.2673 - val_loss: 1.5932 - val_acc: 0.0903\n",
            "Epoch 145/1000\n",
            "40/40 [==============================] - ETA: 3s - loss: 0.2612 - acc: 0.239 - ETA: 1s - loss: 0.2735 - acc: 0.274 - 15s 375ms/step - loss: 0.2762 - acc: 0.2754 - val_loss: 1.5089 - val_acc: 0.1048\n",
            "Epoch 146/1000\n",
            "40/40 [==============================] - ETA: 2s - loss: 0.2695 - acc: 0.327 - ETA: 1s - loss: 0.2650 - acc: 0.270 - 15s 387ms/step - loss: 0.2775 - acc: 0.2754 - val_loss: 1.5449 - val_acc: 0.0968\n",
            "Epoch 147/1000\n",
            "40/40 [==============================] - ETA: 2s - loss: 0.3332 - acc: 0.317 - ETA: 0s - loss: 0.2773 - acc: 0.279 - 15s 378ms/step - loss: 0.2763 - acc: 0.2730 - val_loss: 1.6071 - val_acc: 0.1000\n",
            "Epoch 148/1000\n",
            "40/40 [==============================] - ETA: 3s - loss: 0.2801 - acc: 0.335 - ETA: 0s - loss: 0.2644 - acc: 0.299 - 15s 375ms/step - loss: 0.2640 - acc: 0.2770 - val_loss: 1.5609 - val_acc: 0.0968\n",
            "Epoch 149/1000\n",
            "40/40 [==============================] - ETA: 2s - loss: 0.2556 - acc: 0.270 - ETA: 0s - loss: 0.2659 - acc: 0.294 - 15s 383ms/step - loss: 0.2641 - acc: 0.2774 - val_loss: 1.5215 - val_acc: 0.1113\n",
            "Epoch 150/1000\n",
            "40/40 [==============================] - ETA: 2s - loss: 0.2507 - acc: 0.248 - ETA: 0s - loss: 0.2498 - acc: 0.276 - 15s 381ms/step - loss: 0.2511 - acc: 0.2819 - val_loss: 1.5834 - val_acc: 0.1032\n",
            "Epoch 151/1000\n",
            "40/40 [==============================] - ETA: 2s - loss: 0.2601 - acc: 0.324 - ETA: 0s - loss: 0.2792 - acc: 0.307 - 15s 380ms/step - loss: 0.2676 - acc: 0.2827 - val_loss: 1.4810 - val_acc: 0.0984\n",
            "Epoch 152/1000\n",
            "40/40 [==============================] - ETA: 2s - loss: 0.2233 - acc: 0.261 - ETA: 0s - loss: 0.2505 - acc: 0.291 - 15s 384ms/step - loss: 0.2529 - acc: 0.2843 - val_loss: 1.4959 - val_acc: 0.1032\n",
            "Epoch 153/1000\n",
            "40/40 [==============================] - ETA: 2s - loss: 0.2901 - acc: 0.298 - ETA: 0s - loss: 0.2583 - acc: 0.278 - 15s 385ms/step - loss: 0.2602 - acc: 0.2794 - val_loss: 1.5819 - val_acc: 0.0935\n",
            "Epoch 154/1000\n"
          ],
          "name": "stdout"
        },
        {
          "output_type": "stream",
          "text": [
            "40/40 [==============================] - ETA: 2s - loss: 0.2625 - acc: 0.248 - ETA: 1s - loss: 0.2652 - acc: 0.264 - 16s 407ms/step - loss: 0.2613 - acc: 0.2774 - val_loss: 1.5514 - val_acc: 0.0919\n",
            "Epoch 155/1000\n",
            "40/40 [==============================] - ETA: 3s - loss: 0.2466 - acc: 0.268 - ETA: 1s - loss: 0.2582 - acc: 0.273 - 16s 404ms/step - loss: 0.2538 - acc: 0.2819 - val_loss: 1.5071 - val_acc: 0.0935\n",
            "Epoch 156/1000\n",
            "40/40 [==============================] - ETA: 3s - loss: 0.2435 - acc: 0.284 - ETA: 1s - loss: 0.2527 - acc: 0.287 - 18s 450ms/step - loss: 0.2538 - acc: 0.2823 - val_loss: 1.6060 - val_acc: 0.0919\n",
            "Epoch 157/1000\n",
            "40/40 [==============================] - ETA: 3s - loss: 0.3292 - acc: 0.348 - ETA: 1s - loss: 0.2909 - acc: 0.284 - 18s 444ms/step - loss: 0.2691 - acc: 0.2710 - val_loss: 1.6272 - val_acc: 0.0887\n",
            "Epoch 158/1000\n",
            "40/40 [==============================] - ETA: 3s - loss: 0.2600 - acc: 0.278 - ETA: 1s - loss: 0.2844 - acc: 0.286 - 17s 437ms/step - loss: 0.2712 - acc: 0.2782 - val_loss: 1.5345 - val_acc: 0.0919\n",
            "Epoch 159/1000\n",
            "40/40 [==============================] - ETA: 3s - loss: 0.2363 - acc: 0.261 - ETA: 1s - loss: 0.2432 - acc: 0.262 - 17s 433ms/step - loss: 0.2557 - acc: 0.2810 - val_loss: 1.5009 - val_acc: 0.0952\n",
            "Epoch 160/1000\n",
            "40/40 [==============================] - ETA: 3s - loss: 0.2187 - acc: 0.216 - ETA: 1s - loss: 0.2403 - acc: 0.257 - 16s 389ms/step - loss: 0.2531 - acc: 0.2738 - val_loss: 1.5357 - val_acc: 0.0903\n",
            "Epoch 161/1000\n",
            "40/40 [==============================] - ETA: 2s - loss: 0.2363 - acc: 0.229 - ETA: 0s - loss: 0.2752 - acc: 0.286 - 16s 392ms/step - loss: 0.2729 - acc: 0.2726 - val_loss: 1.5093 - val_acc: 0.0952\n",
            "Epoch 162/1000\n",
            "40/40 [==============================] - ETA: 2s - loss: 0.2770 - acc: 0.316 - ETA: 0s - loss: 0.2696 - acc: 0.289 - 17s 417ms/step - loss: 0.2676 - acc: 0.2754 - val_loss: 1.6174 - val_acc: 0.1000\n",
            "Epoch 163/1000\n",
            "40/40 [==============================] - ETA: 3s - loss: 0.2536 - acc: 0.281 - ETA: 1s - loss: 0.2694 - acc: 0.297 - 18s 455ms/step - loss: 0.2552 - acc: 0.2827 - val_loss: 1.5334 - val_acc: 0.1000\n",
            "Epoch 164/1000\n",
            "40/40 [==============================] - ETA: 3s - loss: 0.2622 - acc: 0.294 - ETA: 1s - loss: 0.2562 - acc: 0.295 - 16s 392ms/step - loss: 0.2494 - acc: 0.2847 - val_loss: 1.5599 - val_acc: 0.1081\n",
            "Epoch 165/1000\n",
            "40/40 [==============================] - ETA: 2s - loss: 0.2298 - acc: 0.289 - ETA: 1s - loss: 0.2260 - acc: 0.288 - 15s 385ms/step - loss: 0.2354 - acc: 0.2895 - val_loss: 1.5057 - val_acc: 0.1016\n",
            "Epoch 166/1000\n",
            "40/40 [==============================] - ETA: 3s - loss: 0.2590 - acc: 0.316 - ETA: 1s - loss: 0.2393 - acc: 0.279 - 16s 403ms/step - loss: 0.2403 - acc: 0.2863 - val_loss: 1.4778 - val_acc: 0.1000\n",
            "Epoch 167/1000\n",
            "40/40 [==============================] - ETA: 3s - loss: 0.2146 - acc: 0.265 - ETA: 0s - loss: 0.2222 - acc: 0.265 - 16s 390ms/step - loss: 0.2408 - acc: 0.2903 - val_loss: 1.5488 - val_acc: 0.0984\n",
            "Epoch 168/1000\n",
            "40/40 [==============================] - ETA: 3s - loss: 0.2832 - acc: 0.247 - ETA: 1s - loss: 0.2696 - acc: 0.300 - 16s 402ms/step - loss: 0.2515 - acc: 0.2867 - val_loss: 1.5786 - val_acc: 0.1000\n",
            "Epoch 169/1000\n",
            "40/40 [==============================] - ETA: 2s - loss: 0.2567 - acc: 0.344 - ETA: 0s - loss: 0.2454 - acc: 0.290 - 15s 384ms/step - loss: 0.2381 - acc: 0.2903 - val_loss: 1.5793 - val_acc: 0.0952\n",
            "Epoch 170/1000\n",
            "40/40 [==============================] - ETA: 3s - loss: 0.2755 - acc: 0.279 - ETA: 1s - loss: 0.2523 - acc: 0.271 - 16s 398ms/step - loss: 0.2552 - acc: 0.2770 - val_loss: 1.5262 - val_acc: 0.0919\n",
            "Epoch 171/1000\n",
            "40/40 [==============================] - ETA: 3s - loss: 0.2943 - acc: 0.214 - ETA: 1s - loss: 0.2963 - acc: 0.286 - 18s 462ms/step - loss: 0.2723 - acc: 0.2762 - val_loss: 1.5403 - val_acc: 0.0968\n",
            "Epoch 172/1000\n",
            "40/40 [==============================] - ETA: 3s - loss: 0.2520 - acc: 0.273 - ETA: 1s - loss: 0.2514 - acc: 0.299 - 16s 396ms/step - loss: 0.2518 - acc: 0.2798 - val_loss: 1.5794 - val_acc: 0.1016\n",
            "Epoch 173/1000\n",
            "40/40 [==============================] - ETA: 3s - loss: 0.2232 - acc: 0.300 - ETA: 1s - loss: 0.2352 - acc: 0.284 - 16s 401ms/step - loss: 0.2260 - acc: 0.2851 - val_loss: 1.5975 - val_acc: 0.1000\n",
            "Epoch 174/1000\n",
            "40/40 [==============================] - ETA: 3s - loss: 0.2851 - acc: 0.283 - ETA: 1s - loss: 0.2625 - acc: 0.279 - 16s 391ms/step - loss: 0.2612 - acc: 0.2794 - val_loss: 1.4664 - val_acc: 0.1016\n",
            "Epoch 175/1000\n",
            "40/40 [==============================] - ETA: 2s - loss: 0.2529 - acc: 0.306 - ETA: 1s - loss: 0.2429 - acc: 0.289 - 16s 389ms/step - loss: 0.2311 - acc: 0.2843 - val_loss: 1.5685 - val_acc: 0.0984\n",
            "Epoch 176/1000\n",
            "40/40 [==============================] - ETA: 2s - loss: 0.2432 - acc: 0.303 - ETA: 1s - loss: 0.2318 - acc: 0.287 - 16s 406ms/step - loss: 0.2267 - acc: 0.2907 - val_loss: 1.5973 - val_acc: 0.0968\n",
            "Epoch 177/1000\n",
            "40/40 [==============================] - ETA: 3s - loss: 0.2194 - acc: 0.201 - ETA: 1s - loss: 0.2225 - acc: 0.277 - 18s 459ms/step - loss: 0.2252 - acc: 0.2839 - val_loss: 1.6434 - val_acc: 0.0952\n",
            "Epoch 178/1000\n",
            "40/40 [==============================] - ETA: 3s - loss: 0.2193 - acc: 0.272 - ETA: 1s - loss: 0.2204 - acc: 0.290 - 17s 413ms/step - loss: 0.2294 - acc: 0.2810 - val_loss: 1.6435 - val_acc: 0.0952\n",
            "Epoch 179/1000\n",
            "40/40 [==============================] - ETA: 3s - loss: 0.2584 - acc: 0.316 - ETA: 1s - loss: 0.2472 - acc: 0.277 - 18s 440ms/step - loss: 0.2444 - acc: 0.2835 - val_loss: 1.6804 - val_acc: 0.0919\n",
            "Epoch 180/1000\n",
            "40/40 [==============================] - ETA: 3s - loss: 0.2612 - acc: 0.319 - ETA: 1s - loss: 0.2545 - acc: 0.278 - 16s 408ms/step - loss: 0.2550 - acc: 0.2758 - val_loss: 1.6742 - val_acc: 0.1000\n",
            "Epoch 181/1000\n",
            "40/40 [==============================] - ETA: 3s - loss: 0.2542 - acc: 0.372 - ETA: 1s - loss: 0.2274 - acc: 0.283 - 16s 400ms/step - loss: 0.2270 - acc: 0.2883 - val_loss: 1.6467 - val_acc: 0.1032\n",
            "Epoch 182/1000\n",
            "40/40 [==============================] - ETA: 3s - loss: 0.2108 - acc: 0.281 - ETA: 1s - loss: 0.2334 - acc: 0.260 - 16s 398ms/step - loss: 0.2359 - acc: 0.2839 - val_loss: 1.5901 - val_acc: 0.0984\n",
            "Epoch 183/1000\n",
            "40/40 [==============================] - ETA: 3s - loss: 0.2447 - acc: 0.268 - ETA: 1s - loss: 0.2440 - acc: 0.278 - 16s 408ms/step - loss: 0.2415 - acc: 0.2806 - val_loss: 1.6338 - val_acc: 0.0968\n",
            "Epoch 184/1000\n",
            "40/40 [==============================] - ETA: 3s - loss: 0.2151 - acc: 0.259 - ETA: 1s - loss: 0.2182 - acc: 0.268 - 16s 395ms/step - loss: 0.2195 - acc: 0.2899 - val_loss: 1.6567 - val_acc: 0.1016\n",
            "Epoch 185/1000\n",
            "40/40 [==============================] - ETA: 3s - loss: 0.2152 - acc: 0.262 - ETA: 1s - loss: 0.2197 - acc: 0.280 - 16s 405ms/step - loss: 0.2198 - acc: 0.2859 - val_loss: 1.6085 - val_acc: 0.0984\n",
            "Epoch 186/1000\n",
            "40/40 [==============================] - ETA: 3s - loss: 0.2307 - acc: 0.253 - ETA: 1s - loss: 0.2591 - acc: 0.283 - 15s 387ms/step - loss: 0.2547 - acc: 0.2835 - val_loss: 1.5517 - val_acc: 0.0984\n",
            "Epoch 187/1000\n",
            "40/40 [==============================] - ETA: 3s - loss: 0.2315 - acc: 0.237 - ETA: 1s - loss: 0.2514 - acc: 0.274 - 16s 403ms/step - loss: 0.2537 - acc: 0.2794 - val_loss: 1.4847 - val_acc: 0.0968\n",
            "Epoch 188/1000\n",
            "40/40 [==============================] - ETA: 3s - loss: 0.2248 - acc: 0.311 - ETA: 1s - loss: 0.2146 - acc: 0.293 - 19s 475ms/step - loss: 0.2170 - acc: 0.2931 - val_loss: 1.5443 - val_acc: 0.0984\n",
            "Epoch 189/1000\n",
            "40/40 [==============================] - ETA: 3s - loss: 0.1998 - acc: 0.270 - ETA: 1s - loss: 0.2021 - acc: 0.260 - 19s 477ms/step - loss: 0.2164 - acc: 0.2899 - val_loss: 1.5953 - val_acc: 0.1048\n",
            "Epoch 190/1000\n",
            "40/40 [==============================] - ETA: 3s - loss: 0.2176 - acc: 0.289 - ETA: 1s - loss: 0.2204 - acc: 0.294 - 18s 439ms/step - loss: 0.2197 - acc: 0.2903 - val_loss: 1.5729 - val_acc: 0.0968\n",
            "Epoch 191/1000\n",
            "40/40 [==============================] - ETA: 3s - loss: 0.2372 - acc: 0.345 - ETA: 1s - loss: 0.2203 - acc: 0.296 - 18s 450ms/step - loss: 0.2168 - acc: 0.2907 - val_loss: 1.5864 - val_acc: 0.1000\n",
            "Epoch 192/1000\n"
          ],
          "name": "stdout"
        },
        {
          "output_type": "stream",
          "text": [
            "40/40 [==============================] - ETA: 3s - loss: 0.1970 - acc: 0.279 - ETA: 1s - loss: 0.2101 - acc: 0.297 - 18s 438ms/step - loss: 0.2100 - acc: 0.2907 - val_loss: 1.5525 - val_acc: 0.1032\n",
            "Epoch 193/1000\n",
            "40/40 [==============================] - ETA: 3s - loss: 0.2387 - acc: 0.283 - ETA: 1s - loss: 0.2194 - acc: 0.298 - 18s 450ms/step - loss: 0.2206 - acc: 0.2899 - val_loss: 1.7148 - val_acc: 0.0871\n",
            "Epoch 194/1000\n",
            "40/40 [==============================] - ETA: 3s - loss: 0.2042 - acc: 0.290 - ETA: 1s - loss: 0.2154 - acc: 0.290 - 18s 454ms/step - loss: 0.2184 - acc: 0.2919 - val_loss: 1.6146 - val_acc: 0.0968\n",
            "Epoch 195/1000\n",
            "40/40 [==============================] - ETA: 3s - loss: 0.1960 - acc: 0.263 - ETA: 1s - loss: 0.1960 - acc: 0.270 - 18s 457ms/step - loss: 0.1959 - acc: 0.2992 - val_loss: 1.6598 - val_acc: 0.0968\n",
            "Epoch 196/1000\n",
            "40/40 [==============================] - ETA: 3s - loss: 0.1984 - acc: 0.217 - ETA: 1s - loss: 0.1994 - acc: 0.248 - 18s 440ms/step - loss: 0.2195 - acc: 0.2863 - val_loss: 1.6717 - val_acc: 0.1000\n",
            "Epoch 197/1000\n",
            "40/40 [==============================] - ETA: 3s - loss: 0.2365 - acc: 0.274 - ETA: 1s - loss: 0.2240 - acc: 0.296 - 18s 444ms/step - loss: 0.2165 - acc: 0.2851 - val_loss: 1.6338 - val_acc: 0.1032\n",
            "Epoch 198/1000\n",
            "40/40 [==============================] - ETA: 3s - loss: 0.2116 - acc: 0.282 - ETA: 1s - loss: 0.2071 - acc: 0.294 - 17s 434ms/step - loss: 0.2067 - acc: 0.2923 - val_loss: 1.6840 - val_acc: 0.0839\n",
            "Epoch 199/1000\n",
            "40/40 [==============================] - ETA: 3s - loss: 0.2032 - acc: 0.273 - ETA: 1s - loss: 0.2056 - acc: 0.308 - 18s 444ms/step - loss: 0.2046 - acc: 0.2956 - val_loss: 1.6828 - val_acc: 0.0984\n",
            "Epoch 200/1000\n",
            "40/40 [==============================] - ETA: 3s - loss: 0.2004 - acc: 0.258 - ETA: 1s - loss: 0.2008 - acc: 0.294 - 18s 442ms/step - loss: 0.2078 - acc: 0.2976 - val_loss: 1.6318 - val_acc: 0.0984\n",
            "Epoch 201/1000\n",
            "40/40 [==============================] - ETA: 3s - loss: 0.1929 - acc: 0.305 - ETA: 1s - loss: 0.1972 - acc: 0.314 - 18s 447ms/step - loss: 0.2002 - acc: 0.2992 - val_loss: 1.6811 - val_acc: 0.0919\n",
            "Epoch 202/1000\n",
            "40/40 [==============================] - ETA: 3s - loss: 0.1991 - acc: 0.240 - ETA: 1s - loss: 0.2023 - acc: 0.295 - 18s 445ms/step - loss: 0.2041 - acc: 0.2964 - val_loss: 1.6587 - val_acc: 0.0903\n",
            "Epoch 203/1000\n",
            "40/40 [==============================] - ETA: 3s - loss: 0.2201 - acc: 0.292 - ETA: 1s - loss: 0.2197 - acc: 0.275 - 18s 445ms/step - loss: 0.2170 - acc: 0.2891 - val_loss: 1.6249 - val_acc: 0.0919\n",
            "Epoch 204/1000\n",
            "40/40 [==============================] - ETA: 3s - loss: 0.2026 - acc: 0.277 - ETA: 1s - loss: 0.2055 - acc: 0.291 - 18s 458ms/step - loss: 0.2134 - acc: 0.2923 - val_loss: 1.5762 - val_acc: 0.1000\n",
            "Epoch 205/1000\n",
            "40/40 [==============================] - ETA: 3s - loss: 0.1835 - acc: 0.334 - ETA: 1s - loss: 0.1933 - acc: 0.320 - 18s 442ms/step - loss: 0.1901 - acc: 0.2976 - val_loss: 1.6438 - val_acc: 0.1032\n",
            "Epoch 206/1000\n",
            "40/40 [==============================] - ETA: 3s - loss: 0.2014 - acc: 0.329 - ETA: 1s - loss: 0.1972 - acc: 0.312 - 16s 407ms/step - loss: 0.1925 - acc: 0.2988 - val_loss: 1.6104 - val_acc: 0.0968\n",
            "Epoch 207/1000\n",
            "40/40 [==============================] - ETA: 3s - loss: 0.2055 - acc: 0.294 - ETA: 1s - loss: 0.2037 - acc: 0.281 - 15s 383ms/step - loss: 0.1984 - acc: 0.2944 - val_loss: 1.6024 - val_acc: 0.0919\n",
            "Epoch 208/1000\n",
            "40/40 [==============================] - ETA: 3s - loss: 0.1750 - acc: 0.270 - ETA: 0s - loss: 0.1906 - acc: 0.294 - 15s 387ms/step - loss: 0.1895 - acc: 0.3020 - val_loss: 1.6736 - val_acc: 0.1000\n",
            "Epoch 209/1000\n",
            "40/40 [==============================] - ETA: 3s - loss: 0.1982 - acc: 0.318 - ETA: 1s - loss: 0.1942 - acc: 0.302 - 16s 393ms/step - loss: 0.1976 - acc: 0.2996 - val_loss: 1.6655 - val_acc: 0.0855\n",
            "Epoch 210/1000\n",
            "40/40 [==============================] - ETA: 2s - loss: 0.1955 - acc: 0.281 - ETA: 1s - loss: 0.2049 - acc: 0.310 - 16s 392ms/step - loss: 0.1968 - acc: 0.3000 - val_loss: 1.7444 - val_acc: 0.0919\n",
            "Epoch 211/1000\n",
            "40/40 [==============================] - ETA: 3s - loss: 0.2008 - acc: 0.266 - ETA: 1s - loss: 0.1897 - acc: 0.277 - 16s 390ms/step - loss: 0.1987 - acc: 0.2972 - val_loss: 1.6977 - val_acc: 0.0871\n",
            "Epoch 212/1000\n",
            "40/40 [==============================] - ETA: 3s - loss: 0.2033 - acc: 0.271 - ETA: 1s - loss: 0.2058 - acc: 0.280 - 15s 384ms/step - loss: 0.2173 - acc: 0.2891 - val_loss: 1.6237 - val_acc: 0.0952\n",
            "Epoch 213/1000\n",
            "40/40 [==============================] - ETA: 2s - loss: 0.2272 - acc: 0.332 - ETA: 1s - loss: 0.2127 - acc: 0.295 - 16s 410ms/step - loss: 0.2126 - acc: 0.2948 - val_loss: 1.9055 - val_acc: 0.0758\n",
            "Epoch 214/1000\n",
            "40/40 [==============================] - ETA: 3s - loss: 0.2419 - acc: 0.313 - ETA: 1s - loss: 0.2236 - acc: 0.291 - 16s 392ms/step - loss: 0.2271 - acc: 0.2855 - val_loss: 1.6847 - val_acc: 0.1016\n",
            "Epoch 215/1000\n",
            "40/40 [==============================] - ETA: 3s - loss: 0.1897 - acc: 0.293 - ETA: 1s - loss: 0.1911 - acc: 0.299 - 16s 391ms/step - loss: 0.1950 - acc: 0.3004 - val_loss: 1.6491 - val_acc: 0.0968\n",
            "Epoch 216/1000\n",
            "40/40 [==============================] - ETA: 3s - loss: 0.1914 - acc: 0.277 - ETA: 1s - loss: 0.1804 - acc: 0.320 - 17s 414ms/step - loss: 0.1840 - acc: 0.3036 - val_loss: 1.6312 - val_acc: 0.0919\n",
            "Epoch 217/1000\n",
            "40/40 [==============================] - ETA: 3s - loss: 0.1926 - acc: 0.341 - ETA: 1s - loss: 0.1882 - acc: 0.316 - 16s 406ms/step - loss: 0.1874 - acc: 0.3008 - val_loss: 1.6413 - val_acc: 0.0903\n",
            "Epoch 218/1000\n",
            "40/40 [==============================] - ETA: 2s - loss: 0.1857 - acc: 0.280 - ETA: 1s - loss: 0.1858 - acc: 0.294 - 15s 378ms/step - loss: 0.1869 - acc: 0.3024 - val_loss: 1.6479 - val_acc: 0.0839\n",
            "Epoch 219/1000\n",
            "40/40 [==============================] - ETA: 3s - loss: 0.2350 - acc: 0.328 - ETA: 1s - loss: 0.2166 - acc: 0.309 - 15s 380ms/step - loss: 0.2130 - acc: 0.2927 - val_loss: 1.6678 - val_acc: 0.0968\n",
            "Epoch 220/1000\n",
            "40/40 [==============================] - ETA: 3s - loss: 0.2060 - acc: 0.353 - ETA: 1s - loss: 0.1951 - acc: 0.300 - 15s 387ms/step - loss: 0.1926 - acc: 0.3000 - val_loss: 1.6137 - val_acc: 0.1000\n",
            "Epoch 221/1000\n",
            "40/40 [==============================] - ETA: 2s - loss: 0.1697 - acc: 0.290 - ETA: 0s - loss: 0.1766 - acc: 0.300 - 16s 388ms/step - loss: 0.1829 - acc: 0.3060 - val_loss: 1.7047 - val_acc: 0.0968\n",
            "Epoch 222/1000\n",
            "40/40 [==============================] - ETA: 3s - loss: 0.2082 - acc: 0.342 - ETA: 1s - loss: 0.1897 - acc: 0.301 - 16s 392ms/step - loss: 0.1935 - acc: 0.3000 - val_loss: 1.6741 - val_acc: 0.0952\n",
            "Epoch 223/1000\n",
            "40/40 [==============================] - ETA: 3s - loss: 0.2181 - acc: 0.303 - ETA: 1s - loss: 0.1931 - acc: 0.295 - 16s 402ms/step - loss: 0.1870 - acc: 0.3048 - val_loss: 1.6729 - val_acc: 0.0935\n",
            "Epoch 224/1000\n",
            "40/40 [==============================] - ETA: 2s - loss: 0.1782 - acc: 0.264 - ETA: 0s - loss: 0.1837 - acc: 0.299 - 15s 382ms/step - loss: 0.1918 - acc: 0.3008 - val_loss: 1.7058 - val_acc: 0.0871\n",
            "Epoch 225/1000\n",
            "40/40 [==============================] - ETA: 3s - loss: 0.2162 - acc: 0.333 - ETA: 1s - loss: 0.1934 - acc: 0.308 - 15s 378ms/step - loss: 0.1865 - acc: 0.3020 - val_loss: 1.7192 - val_acc: 0.0919\n",
            "Epoch 226/1000\n",
            "40/40 [==============================] - ETA: 3s - loss: 0.2149 - acc: 0.340 - ETA: 1s - loss: 0.1911 - acc: 0.313 - 15s 382ms/step - loss: 0.1892 - acc: 0.3000 - val_loss: 1.7723 - val_acc: 0.0871\n",
            "Epoch 227/1000\n",
            "40/40 [==============================] - ETA: 2s - loss: 0.1935 - acc: 0.238 - ETA: 0s - loss: 0.1970 - acc: 0.296 - 15s 387ms/step - loss: 0.2013 - acc: 0.2980 - val_loss: 1.6243 - val_acc: 0.0903\n",
            "Epoch 228/1000\n",
            "40/40 [==============================] - ETA: 2s - loss: 0.1777 - acc: 0.330 - ETA: 0s - loss: 0.1709 - acc: 0.305 - 15s 387ms/step - loss: 0.1729 - acc: 0.3073 - val_loss: 1.6805 - val_acc: 0.0952\n",
            "Epoch 229/1000\n",
            "40/40 [==============================] - ETA: 3s - loss: 0.2014 - acc: 0.279 - ETA: 1s - loss: 0.1927 - acc: 0.320 - 15s 382ms/step - loss: 0.1825 - acc: 0.3020 - val_loss: 1.6439 - val_acc: 0.0935\n",
            "Epoch 230/1000\n"
          ],
          "name": "stdout"
        },
        {
          "output_type": "stream",
          "text": [
            "40/40 [==============================] - ETA: 3s - loss: 0.1679 - acc: 0.349 - ETA: 1s - loss: 0.1661 - acc: 0.301 - 15s 385ms/step - loss: 0.1737 - acc: 0.3000 - val_loss: 1.6306 - val_acc: 0.0871\n",
            "Epoch 231/1000\n",
            "40/40 [==============================] - ETA: 3s - loss: 0.1816 - acc: 0.283 - ETA: 1s - loss: 0.1946 - acc: 0.313 - 15s 378ms/step - loss: 0.1870 - acc: 0.3024 - val_loss: 1.6215 - val_acc: 0.0952\n",
            "Epoch 232/1000\n",
            "40/40 [==============================] - ETA: 3s - loss: 0.1685 - acc: 0.295 - ETA: 1s - loss: 0.1765 - acc: 0.298 - 15s 387ms/step - loss: 0.1818 - acc: 0.3008 - val_loss: 1.7276 - val_acc: 0.0790\n",
            "Epoch 233/1000\n",
            "40/40 [==============================] - ETA: 3s - loss: 0.1903 - acc: 0.313 - ETA: 0s - loss: 0.1849 - acc: 0.310 - 15s 378ms/step - loss: 0.1824 - acc: 0.3024 - val_loss: 1.6347 - val_acc: 0.0984\n",
            "Epoch 234/1000\n",
            "40/40 [==============================] - ETA: 3s - loss: 0.1790 - acc: 0.294 - ETA: 1s - loss: 0.1812 - acc: 0.302 - 15s 385ms/step - loss: 0.1829 - acc: 0.3020 - val_loss: 1.6885 - val_acc: 0.0903\n",
            "Epoch 235/1000\n",
            "40/40 [==============================] - ETA: 2s - loss: 0.1586 - acc: 0.240 - ETA: 1s - loss: 0.1662 - acc: 0.319 - 16s 391ms/step - loss: 0.1754 - acc: 0.3048 - val_loss: 1.6793 - val_acc: 0.0968\n",
            "Epoch 236/1000\n",
            "40/40 [==============================] - ETA: 3s - loss: 0.1592 - acc: 0.267 - ETA: 1s - loss: 0.1694 - acc: 0.296 - 16s 391ms/step - loss: 0.1711 - acc: 0.3048 - val_loss: 1.6418 - val_acc: 0.0903\n",
            "Epoch 237/1000\n",
            "40/40 [==============================] - ETA: 2s - loss: 0.1811 - acc: 0.324 - ETA: 0s - loss: 0.1907 - acc: 0.319 - 16s 396ms/step - loss: 0.1877 - acc: 0.3048 - val_loss: 1.7547 - val_acc: 0.0871\n",
            "Epoch 238/1000\n",
            "40/40 [==============================] - ETA: 3s - loss: 0.2047 - acc: 0.389 - ETA: 1s - loss: 0.1936 - acc: 0.305 - 15s 384ms/step - loss: 0.1848 - acc: 0.3020 - val_loss: 1.6502 - val_acc: 0.0903\n",
            "Epoch 239/1000\n",
            "40/40 [==============================] - ETA: 3s - loss: 0.1777 - acc: 0.353 - ETA: 1s - loss: 0.1815 - acc: 0.331 - 16s 393ms/step - loss: 0.1705 - acc: 0.3028 - val_loss: 1.6864 - val_acc: 0.0984\n",
            "Epoch 240/1000\n",
            "40/40 [==============================] - ETA: 3s - loss: 0.1859 - acc: 0.317 - ETA: 1s - loss: 0.1686 - acc: 0.318 - 16s 402ms/step - loss: 0.1747 - acc: 0.3048 - val_loss: 1.7166 - val_acc: 0.0935\n",
            "Epoch 241/1000\n",
            "40/40 [==============================] - ETA: 3s - loss: 0.1833 - acc: 0.274 - ETA: 1s - loss: 0.1825 - acc: 0.297 - 16s 391ms/step - loss: 0.1843 - acc: 0.3016 - val_loss: 1.6746 - val_acc: 0.0968\n",
            "Epoch 242/1000\n",
            "40/40 [==============================] - ETA: 3s - loss: 0.1815 - acc: 0.290 - ETA: 1s - loss: 0.1780 - acc: 0.339 - 16s 389ms/step - loss: 0.1755 - acc: 0.3060 - val_loss: 1.6599 - val_acc: 0.0952\n",
            "Epoch 243/1000\n",
            "40/40 [==============================] - ETA: 3s - loss: 0.1782 - acc: 0.311 - ETA: 1s - loss: 0.1713 - acc: 0.291 - 16s 389ms/step - loss: 0.1708 - acc: 0.3101 - val_loss: 1.7084 - val_acc: 0.0919\n",
            "Epoch 244/1000\n",
            "40/40 [==============================] - ETA: 3s - loss: 0.1776 - acc: 0.326 - ETA: 1s - loss: 0.1731 - acc: 0.313 - 16s 388ms/step - loss: 0.1732 - acc: 0.3020 - val_loss: 1.7123 - val_acc: 0.0935\n",
            "Epoch 245/1000\n",
            "40/40 [==============================] - ETA: 3s - loss: 0.2208 - acc: 0.274 - ETA: 0s - loss: 0.1964 - acc: 0.316 - 16s 388ms/step - loss: 0.1875 - acc: 0.3020 - val_loss: 1.6822 - val_acc: 0.0855\n",
            "Epoch 246/1000\n",
            "40/40 [==============================] - ETA: 3s - loss: 0.1890 - acc: 0.293 - ETA: 1s - loss: 0.1862 - acc: 0.304 - 16s 391ms/step - loss: 0.1786 - acc: 0.3040 - val_loss: 1.7582 - val_acc: 0.1016\n",
            "Epoch 247/1000\n",
            "40/40 [==============================] - ETA: 3s - loss: 0.1795 - acc: 0.268 - ETA: 1s - loss: 0.1789 - acc: 0.283 - 16s 390ms/step - loss: 0.1803 - acc: 0.3020 - val_loss: 1.6589 - val_acc: 0.0935\n",
            "Epoch 248/1000\n",
            "40/40 [==============================] - ETA: 2s - loss: 0.1647 - acc: 0.302 - ETA: 0s - loss: 0.1700 - acc: 0.309 - 16s 389ms/step - loss: 0.1705 - acc: 0.3073 - val_loss: 1.7075 - val_acc: 0.0935\n",
            "Epoch 249/1000\n",
            "40/40 [==============================] - ETA: 3s - loss: 0.1790 - acc: 0.288 - ETA: 1s - loss: 0.1785 - acc: 0.289 - 18s 438ms/step - loss: 0.1806 - acc: 0.3008 - val_loss: 1.6946 - val_acc: 0.0935\n",
            "Epoch 250/1000\n",
            "40/40 [==============================] - ETA: 3s - loss: 0.1519 - acc: 0.230 - ETA: 1s - loss: 0.1851 - acc: 0.293 - 16s 403ms/step - loss: 0.1823 - acc: 0.3040 - val_loss: 1.7093 - val_acc: 0.0935\n",
            "Epoch 251/1000\n",
            "40/40 [==============================] - ETA: 3s - loss: 0.1552 - acc: 0.291 - ETA: 1s - loss: 0.1704 - acc: 0.279 - 15s 382ms/step - loss: 0.1750 - acc: 0.3060 - val_loss: 1.6810 - val_acc: 0.1032\n",
            "Epoch 252/1000\n",
            "40/40 [==============================] - ETA: 3s - loss: 0.1927 - acc: 0.338 - ETA: 1s - loss: 0.1835 - acc: 0.299 - 16s 393ms/step - loss: 0.1814 - acc: 0.3016 - val_loss: 1.7780 - val_acc: 0.1000\n",
            "Epoch 253/1000\n",
            "40/40 [==============================] - ETA: 2s - loss: 0.1790 - acc: 0.281 - ETA: 1s - loss: 0.1742 - acc: 0.328 - 15s 382ms/step - loss: 0.1685 - acc: 0.3065 - val_loss: 1.7214 - val_acc: 0.0968\n",
            "Epoch 254/1000\n",
            "40/40 [==============================] - ETA: 2s - loss: 0.1605 - acc: 0.335 - ETA: 0s - loss: 0.1625 - acc: 0.326 - 15s 383ms/step - loss: 0.1638 - acc: 0.3101 - val_loss: 1.7099 - val_acc: 0.0984\n",
            "Epoch 255/1000\n",
            "40/40 [==============================] - ETA: 3s - loss: 0.1801 - acc: 0.301 - ETA: 1s - loss: 0.1675 - acc: 0.305 - 15s 387ms/step - loss: 0.1621 - acc: 0.3097 - val_loss: 1.7022 - val_acc: 0.0935\n",
            "Epoch 256/1000\n",
            "40/40 [==============================] - ETA: 3s - loss: 0.1554 - acc: 0.323 - ETA: 1s - loss: 0.1655 - acc: 0.313 - 15s 386ms/step - loss: 0.1629 - acc: 0.3081 - val_loss: 1.6848 - val_acc: 0.1000\n",
            "Epoch 257/1000\n",
            "40/40 [==============================] - ETA: 3s - loss: 0.1525 - acc: 0.290 - ETA: 1s - loss: 0.1717 - acc: 0.323 - 15s 382ms/step - loss: 0.1673 - acc: 0.3109 - val_loss: 1.6862 - val_acc: 0.0952\n",
            "Epoch 258/1000\n",
            "40/40 [==============================] - ETA: 3s - loss: 0.1611 - acc: 0.366 - ETA: 1s - loss: 0.1614 - acc: 0.320 - 16s 394ms/step - loss: 0.1666 - acc: 0.3069 - val_loss: 1.7675 - val_acc: 0.0903\n",
            "Epoch 259/1000\n",
            "40/40 [==============================] - ETA: 3s - loss: 0.1730 - acc: 0.259 - ETA: 0s - loss: 0.1603 - acc: 0.269 - 16s 390ms/step - loss: 0.1693 - acc: 0.3024 - val_loss: 1.6821 - val_acc: 0.1097\n",
            "Epoch 260/1000\n",
            "40/40 [==============================] - ETA: 3s - loss: 0.1858 - acc: 0.320 - ETA: 1s - loss: 0.1745 - acc: 0.327 - 16s 390ms/step - loss: 0.1636 - acc: 0.3085 - val_loss: 1.6388 - val_acc: 0.1000\n",
            "Epoch 261/1000\n",
            "40/40 [==============================] - ETA: 3s - loss: 0.1489 - acc: 0.285 - ETA: 1s - loss: 0.1536 - acc: 0.297 - 15s 384ms/step - loss: 0.1561 - acc: 0.3101 - val_loss: 1.7543 - val_acc: 0.0984\n",
            "Epoch 262/1000\n",
            "40/40 [==============================] - ETA: 3s - loss: 0.1553 - acc: 0.326 - ETA: 1s - loss: 0.1520 - acc: 0.312 - 17s 421ms/step - loss: 0.1546 - acc: 0.3113 - val_loss: 1.7666 - val_acc: 0.1016\n",
            "Epoch 263/1000\n",
            "40/40 [==============================] - ETA: 3s - loss: 0.1583 - acc: 0.297 - ETA: 1s - loss: 0.1673 - acc: 0.327 - 18s 455ms/step - loss: 0.1628 - acc: 0.3113 - val_loss: 1.8060 - val_acc: 0.0968\n",
            "Epoch 264/1000\n",
            "40/40 [==============================] - ETA: 3s - loss: 0.1385 - acc: 0.307 - ETA: 1s - loss: 0.1592 - acc: 0.325 - 18s 457ms/step - loss: 0.1600 - acc: 0.3085 - val_loss: 1.7027 - val_acc: 0.0919\n",
            "Epoch 265/1000\n",
            "40/40 [==============================] - ETA: 3s - loss: 0.1502 - acc: 0.245 - ETA: 1s - loss: 0.1630 - acc: 0.309 - 16s 396ms/step - loss: 0.1603 - acc: 0.3056 - val_loss: 1.7531 - val_acc: 0.0968\n",
            "Epoch 266/1000\n",
            "40/40 [==============================] - ETA: 2s - loss: 0.1316 - acc: 0.296 - ETA: 1s - loss: 0.1471 - acc: 0.311 - 16s 402ms/step - loss: 0.1456 - acc: 0.3129 - val_loss: 1.7216 - val_acc: 0.0968\n",
            "Epoch 267/1000\n",
            "40/40 [==============================] - ETA: 3s - loss: 0.1430 - acc: 0.280 - ETA: 1s - loss: 0.1495 - acc: 0.304 - 16s 391ms/step - loss: 0.1517 - acc: 0.3085 - val_loss: 1.7016 - val_acc: 0.1000\n",
            "Epoch 268/1000\n"
          ],
          "name": "stdout"
        },
        {
          "output_type": "stream",
          "text": [
            "40/40 [==============================] - ETA: 3s - loss: 0.1879 - acc: 0.318 - ETA: 0s - loss: 0.1616 - acc: 0.328 - 15s 385ms/step - loss: 0.1577 - acc: 0.3069 - val_loss: 1.8101 - val_acc: 0.0952\n",
            "Epoch 269/1000\n",
            "40/40 [==============================] - ETA: 2s - loss: 0.1503 - acc: 0.324 - ETA: 0s - loss: 0.1598 - acc: 0.322 - 16s 389ms/step - loss: 0.1600 - acc: 0.3097 - val_loss: 1.7352 - val_acc: 0.1000\n",
            "Epoch 270/1000\n",
            "40/40 [==============================] - ETA: 2s - loss: 0.1724 - acc: 0.324 - ETA: 0s - loss: 0.1604 - acc: 0.343 - 15s 384ms/step - loss: 0.1561 - acc: 0.3101 - val_loss: 1.7610 - val_acc: 0.0919\n",
            "Epoch 271/1000\n",
            "40/40 [==============================] - ETA: 2s - loss: 0.1549 - acc: 0.254 - ETA: 1s - loss: 0.1602 - acc: 0.290 - 16s 389ms/step - loss: 0.1655 - acc: 0.3065 - val_loss: 1.7303 - val_acc: 0.1000\n",
            "Epoch 272/1000\n",
            "40/40 [==============================] - ETA: 2s - loss: 0.1812 - acc: 0.360 - ETA: 0s - loss: 0.1698 - acc: 0.334 - 15s 384ms/step - loss: 0.1619 - acc: 0.3125 - val_loss: 1.7309 - val_acc: 0.0968\n",
            "Epoch 273/1000\n",
            "40/40 [==============================] - ETA: 3s - loss: 0.1611 - acc: 0.298 - ETA: 1s - loss: 0.1611 - acc: 0.315 - 16s 394ms/step - loss: 0.1577 - acc: 0.3081 - val_loss: 1.7934 - val_acc: 0.0952\n",
            "Epoch 274/1000\n",
            "40/40 [==============================] - ETA: 3s - loss: 0.1632 - acc: 0.266 - ETA: 1s - loss: 0.1584 - acc: 0.296 - 16s 409ms/step - loss: 0.1545 - acc: 0.3085 - val_loss: 1.7556 - val_acc: 0.0968\n",
            "Epoch 275/1000\n",
            "40/40 [==============================] - ETA: 3s - loss: 0.1474 - acc: 0.252 - ETA: 1s - loss: 0.1425 - acc: 0.303 - 16s 390ms/step - loss: 0.1493 - acc: 0.3194 - val_loss: 1.7227 - val_acc: 0.0968\n",
            "Epoch 276/1000\n",
            "40/40 [==============================] - ETA: 2s - loss: 0.1555 - acc: 0.351 - ETA: 1s - loss: 0.1572 - acc: 0.313 - 15s 386ms/step - loss: 0.1654 - acc: 0.3085 - val_loss: 1.7339 - val_acc: 0.1065\n",
            "Epoch 277/1000\n",
            "40/40 [==============================] - ETA: 2s - loss: 0.1547 - acc: 0.272 - ETA: 1s - loss: 0.1496 - acc: 0.320 - 16s 389ms/step - loss: 0.1526 - acc: 0.3117 - val_loss: 1.8577 - val_acc: 0.0806\n",
            "Epoch 278/1000\n",
            "40/40 [==============================] - ETA: 3s - loss: 0.1440 - acc: 0.261 - ETA: 1s - loss: 0.1793 - acc: 0.300 - 15s 382ms/step - loss: 0.1732 - acc: 0.3044 - val_loss: 1.6768 - val_acc: 0.0903\n",
            "Epoch 279/1000\n",
            "40/40 [==============================] - ETA: 3s - loss: 0.1603 - acc: 0.286 - ETA: 1s - loss: 0.1545 - acc: 0.320 - 16s 391ms/step - loss: 0.1537 - acc: 0.3109 - val_loss: 1.6443 - val_acc: 0.1000\n",
            "Epoch 280/1000\n",
            "40/40 [==============================] - ETA: 3s - loss: 0.1400 - acc: 0.300 - ETA: 1s - loss: 0.1595 - acc: 0.304 - 16s 399ms/step - loss: 0.1603 - acc: 0.3069 - val_loss: 1.6955 - val_acc: 0.0839\n",
            "Epoch 281/1000\n",
            "40/40 [==============================] - ETA: 3s - loss: 0.1463 - acc: 0.366 - ETA: 1s - loss: 0.1521 - acc: 0.322 - 16s 388ms/step - loss: 0.1528 - acc: 0.3109 - val_loss: 1.7078 - val_acc: 0.0984\n",
            "Epoch 282/1000\n",
            "40/40 [==============================] - ETA: 3s - loss: 0.1369 - acc: 0.303 - ETA: 1s - loss: 0.1485 - acc: 0.325 - 16s 402ms/step - loss: 0.1407 - acc: 0.3169 - val_loss: 1.7620 - val_acc: 0.0903\n",
            "Epoch 283/1000\n",
            "40/40 [==============================] - ETA: 3s - loss: 0.1524 - acc: 0.312 - ETA: 1s - loss: 0.1458 - acc: 0.310 - 16s 402ms/step - loss: 0.1504 - acc: 0.3149 - val_loss: 1.7555 - val_acc: 0.0871\n",
            "Epoch 284/1000\n",
            "40/40 [==============================] - ETA: 3s - loss: 0.1678 - acc: 0.290 - ETA: 1s - loss: 0.1586 - acc: 0.306 - 15s 385ms/step - loss: 0.1582 - acc: 0.3089 - val_loss: 1.7485 - val_acc: 0.0903\n",
            "Epoch 285/1000\n",
            "40/40 [==============================] - ETA: 2s - loss: 0.1399 - acc: 0.288 - ETA: 1s - loss: 0.1518 - acc: 0.309 - 16s 390ms/step - loss: 0.1524 - acc: 0.3073 - val_loss: 1.7463 - val_acc: 0.0855\n",
            "Epoch 286/1000\n",
            "40/40 [==============================] - ETA: 3s - loss: 0.1541 - acc: 0.293 - ETA: 1s - loss: 0.1502 - acc: 0.309 - 15s 380ms/step - loss: 0.1495 - acc: 0.3109 - val_loss: 1.7125 - val_acc: 0.0903\n",
            "Epoch 287/1000\n",
            "40/40 [==============================] - ETA: 2s - loss: 0.1537 - acc: 0.266 - ETA: 0s - loss: 0.1533 - acc: 0.315 - 15s 385ms/step - loss: 0.1586 - acc: 0.3113 - val_loss: 1.7327 - val_acc: 0.0887\n",
            "Epoch 288/1000\n",
            "40/40 [==============================] - ETA: 2s - loss: 0.1567 - acc: 0.249 - ETA: 1s - loss: 0.1539 - acc: 0.296 - 16s 389ms/step - loss: 0.1517 - acc: 0.3141 - val_loss: 1.7061 - val_acc: 0.0968\n",
            "Epoch 289/1000\n",
            "40/40 [==============================] - ETA: 2s - loss: 0.1510 - acc: 0.304 - ETA: 0s - loss: 0.1382 - acc: 0.287 - 16s 390ms/step - loss: 0.1407 - acc: 0.3133 - val_loss: 1.8221 - val_acc: 0.0919\n",
            "Epoch 290/1000\n",
            "40/40 [==============================] - ETA: 2s - loss: 0.1410 - acc: 0.312 - ETA: 0s - loss: 0.1476 - acc: 0.302 - 15s 382ms/step - loss: 0.1478 - acc: 0.3121 - val_loss: 1.9119 - val_acc: 0.0790\n",
            "Epoch 291/1000\n",
            "40/40 [==============================] - ETA: 3s - loss: 0.1376 - acc: 0.269 - ETA: 0s - loss: 0.1400 - acc: 0.314 - 15s 382ms/step - loss: 0.1441 - acc: 0.3133 - val_loss: 1.8575 - val_acc: 0.0871\n",
            "Epoch 292/1000\n",
            "40/40 [==============================] - ETA: 2s - loss: 0.1352 - acc: 0.348 - ETA: 0s - loss: 0.1375 - acc: 0.313 - 15s 379ms/step - loss: 0.1418 - acc: 0.3113 - val_loss: 1.8041 - val_acc: 0.0935\n",
            "Epoch 293/1000\n",
            "40/40 [==============================] - ETA: 2s - loss: 0.1773 - acc: 0.306 - ETA: 1s - loss: 0.1574 - acc: 0.306 - 16s 399ms/step - loss: 0.1581 - acc: 0.3101 - val_loss: 1.8390 - val_acc: 0.0887\n",
            "Epoch 294/1000\n",
            "40/40 [==============================] - ETA: 2s - loss: 0.1530 - acc: 0.329 - ETA: 0s - loss: 0.1459 - acc: 0.323 - 16s 397ms/step - loss: 0.1420 - acc: 0.3149 - val_loss: 1.8356 - val_acc: 0.1000\n",
            "Epoch 295/1000\n",
            "40/40 [==============================] - ETA: 3s - loss: 0.1194 - acc: 0.263 - ETA: 1s - loss: 0.1312 - acc: 0.306 - 15s 383ms/step - loss: 0.1354 - acc: 0.3202 - val_loss: 1.8504 - val_acc: 0.0952\n",
            "Epoch 296/1000\n",
            "40/40 [==============================] - ETA: 3s - loss: 0.1291 - acc: 0.294 - ETA: 1s - loss: 0.1364 - acc: 0.289 - 16s 392ms/step - loss: 0.1448 - acc: 0.3125 - val_loss: 1.8510 - val_acc: 0.0919\n",
            "Epoch 297/1000\n",
            "40/40 [==============================] - ETA: 3s - loss: 0.1454 - acc: 0.382 - ETA: 1s - loss: 0.1442 - acc: 0.320 - 15s 382ms/step - loss: 0.1454 - acc: 0.3137 - val_loss: 1.8653 - val_acc: 0.0903\n",
            "Epoch 298/1000\n",
            "40/40 [==============================] - ETA: 2s - loss: 0.1473 - acc: 0.308 - ETA: 0s - loss: 0.1534 - acc: 0.320 - 16s 392ms/step - loss: 0.1499 - acc: 0.3137 - val_loss: 1.8610 - val_acc: 0.0952\n",
            "Epoch 299/1000\n",
            "40/40 [==============================] - ETA: 3s - loss: 0.1238 - acc: 0.347 - ETA: 1s - loss: 0.1394 - acc: 0.311 - 16s 398ms/step - loss: 0.1435 - acc: 0.3109 - val_loss: 1.9243 - val_acc: 0.0968\n",
            "Epoch 300/1000\n",
            "40/40 [==============================] - ETA: 3s - loss: 0.1409 - acc: 0.351 - ETA: 1s - loss: 0.1489 - acc: 0.350 - 16s 389ms/step - loss: 0.1420 - acc: 0.3173 - val_loss: 1.9220 - val_acc: 0.0984\n",
            "Epoch 301/1000\n",
            "40/40 [==============================] - ETA: 3s - loss: 0.1314 - acc: 0.279 - ETA: 1s - loss: 0.1439 - acc: 0.305 - 15s 382ms/step - loss: 0.1488 - acc: 0.3149 - val_loss: 1.9288 - val_acc: 0.0903\n",
            "Epoch 302/1000\n",
            "40/40 [==============================] - ETA: 2s - loss: 0.1501 - acc: 0.273 - ETA: 1s - loss: 0.1465 - acc: 0.297 - 15s 382ms/step - loss: 0.1467 - acc: 0.3161 - val_loss: 1.9636 - val_acc: 0.0871\n",
            "Epoch 303/1000\n",
            "40/40 [==============================] - ETA: 2s - loss: 0.1480 - acc: 0.342 - ETA: 1s - loss: 0.1453 - acc: 0.280 - 16s 406ms/step - loss: 0.1458 - acc: 0.3109 - val_loss: 1.8349 - val_acc: 0.0919\n",
            "Epoch 304/1000\n",
            "40/40 [==============================] - ETA: 2s - loss: 0.1555 - acc: 0.355 - ETA: 1s - loss: 0.1502 - acc: 0.311 - 15s 381ms/step - loss: 0.1495 - acc: 0.3141 - val_loss: 1.9146 - val_acc: 0.0903\n",
            "Epoch 305/1000\n",
            "40/40 [==============================] - ETA: 2s - loss: 0.1360 - acc: 0.315 - ETA: 1s - loss: 0.1291 - acc: 0.309 - 15s 380ms/step - loss: 0.1322 - acc: 0.3194 - val_loss: 1.8552 - val_acc: 0.0968\n",
            "Epoch 306/1000\n"
          ],
          "name": "stdout"
        },
        {
          "output_type": "stream",
          "text": [
            "40/40 [==============================] - ETA: 2s - loss: 0.1350 - acc: 0.276 - ETA: 1s - loss: 0.1411 - acc: 0.292 - 16s 391ms/step - loss: 0.1448 - acc: 0.3121 - val_loss: 1.7859 - val_acc: 0.0935\n",
            "Epoch 307/1000\n",
            "40/40 [==============================] - ETA: 2s - loss: 0.1511 - acc: 0.346 - ETA: 0s - loss: 0.1440 - acc: 0.343 - 16s 393ms/step - loss: 0.1411 - acc: 0.3157 - val_loss: 1.8183 - val_acc: 0.0919\n",
            "Epoch 308/1000\n",
            "40/40 [==============================] - ETA: 3s - loss: 0.1433 - acc: 0.294 - ETA: 1s - loss: 0.1512 - acc: 0.347 - 15s 384ms/step - loss: 0.1442 - acc: 0.3121 - val_loss: 1.8648 - val_acc: 0.0935\n",
            "Epoch 309/1000\n",
            "40/40 [==============================] - ETA: 3s - loss: 0.1405 - acc: 0.321 - ETA: 1s - loss: 0.1376 - acc: 0.308 - 15s 386ms/step - loss: 0.1371 - acc: 0.3202 - val_loss: 1.8199 - val_acc: 0.0919\n",
            "Epoch 310/1000\n",
            "40/40 [==============================] - ETA: 2s - loss: 0.1319 - acc: 0.278 - ETA: 0s - loss: 0.1348 - acc: 0.297 - 16s 388ms/step - loss: 0.1370 - acc: 0.3157 - val_loss: 1.8612 - val_acc: 0.0887\n",
            "Epoch 311/1000\n",
            "40/40 [==============================] - ETA: 3s - loss: 0.1295 - acc: 0.305 - ETA: 1s - loss: 0.1281 - acc: 0.282 - 15s 381ms/step - loss: 0.1288 - acc: 0.3218 - val_loss: 1.9151 - val_acc: 0.0839\n",
            "Epoch 312/1000\n",
            "40/40 [==============================] - ETA: 2s - loss: 0.1449 - acc: 0.294 - ETA: 1s - loss: 0.1428 - acc: 0.309 - 16s 394ms/step - loss: 0.1447 - acc: 0.3153 - val_loss: 1.8680 - val_acc: 0.0968\n",
            "Epoch 313/1000\n",
            "40/40 [==============================] - ETA: 2s - loss: 0.1412 - acc: 0.345 - ETA: 1s - loss: 0.1266 - acc: 0.358 - 16s 390ms/step - loss: 0.1276 - acc: 0.3214 - val_loss: 1.8272 - val_acc: 0.0855\n",
            "Epoch 314/1000\n",
            "40/40 [==============================] - ETA: 3s - loss: 0.1408 - acc: 0.337 - ETA: 1s - loss: 0.1391 - acc: 0.307 - 15s 384ms/step - loss: 0.1471 - acc: 0.3153 - val_loss: 1.8555 - val_acc: 0.0968\n",
            "Epoch 315/1000\n",
            "40/40 [==============================] - ETA: 2s - loss: 0.1358 - acc: 0.294 - ETA: 0s - loss: 0.1374 - acc: 0.311 - 15s 381ms/step - loss: 0.1345 - acc: 0.3202 - val_loss: 1.8879 - val_acc: 0.0839\n",
            "Epoch 316/1000\n",
            "40/40 [==============================] - ETA: 2s - loss: 0.1283 - acc: 0.289 - ETA: 0s - loss: 0.1407 - acc: 0.307 - 15s 387ms/step - loss: 0.1460 - acc: 0.3145 - val_loss: 1.8425 - val_acc: 0.0968\n",
            "Epoch 317/1000\n",
            "40/40 [==============================] - ETA: 3s - loss: 0.1274 - acc: 0.255 - ETA: 1s - loss: 0.1347 - acc: 0.322 - 16s 393ms/step - loss: 0.1370 - acc: 0.3177 - val_loss: 1.9784 - val_acc: 0.0903\n",
            "Epoch 318/1000\n",
            "40/40 [==============================] - ETA: 3s - loss: 0.1371 - acc: 0.324 - ETA: 1s - loss: 0.1391 - acc: 0.331 - 15s 387ms/step - loss: 0.1337 - acc: 0.3165 - val_loss: 1.8398 - val_acc: 0.0903\n",
            "Epoch 319/1000\n",
            "40/40 [==============================] - ETA: 3s - loss: 0.1376 - acc: 0.292 - ETA: 1s - loss: 0.1402 - acc: 0.297 - 15s 387ms/step - loss: 0.1433 - acc: 0.3177 - val_loss: 1.8668 - val_acc: 0.0935\n",
            "Epoch 320/1000\n",
            "40/40 [==============================] - ETA: 2s - loss: 0.1614 - acc: 0.325 - ETA: 1s - loss: 0.1473 - acc: 0.316 - 16s 394ms/step - loss: 0.1413 - acc: 0.3153 - val_loss: 1.9005 - val_acc: 0.0935\n",
            "Epoch 321/1000\n",
            "40/40 [==============================] - ETA: 2s - loss: 0.1346 - acc: 0.344 - ETA: 0s - loss: 0.1390 - acc: 0.309 - 16s 391ms/step - loss: 0.1423 - acc: 0.3133 - val_loss: 1.8551 - val_acc: 0.0887\n",
            "Epoch 322/1000\n",
            "40/40 [==============================] - ETA: 2s - loss: 0.1375 - acc: 0.266 - ETA: 1s - loss: 0.1436 - acc: 0.303 - 15s 377ms/step - loss: 0.1404 - acc: 0.3165 - val_loss: 1.8951 - val_acc: 0.0935\n",
            "Epoch 323/1000\n",
            "40/40 [==============================] - ETA: 3s - loss: 0.1294 - acc: 0.365 - ETA: 1s - loss: 0.1264 - acc: 0.332 - 15s 384ms/step - loss: 0.1293 - acc: 0.3177 - val_loss: 1.8618 - val_acc: 0.0919\n",
            "Epoch 324/1000\n",
            "40/40 [==============================] - ETA: 3s - loss: 0.1500 - acc: 0.324 - ETA: 1s - loss: 0.1519 - acc: 0.316 - 16s 390ms/step - loss: 0.1518 - acc: 0.3093 - val_loss: 1.8644 - val_acc: 0.0887\n",
            "Epoch 325/1000\n",
            "40/40 [==============================] - ETA: 2s - loss: 0.1486 - acc: 0.371 - ETA: 0s - loss: 0.1320 - acc: 0.330 - 15s 383ms/step - loss: 0.1381 - acc: 0.3149 - val_loss: 1.8871 - val_acc: 0.0968\n",
            "Epoch 326/1000\n",
            "40/40 [==============================] - ETA: 2s - loss: 0.1128 - acc: 0.319 - ETA: 0s - loss: 0.1287 - acc: 0.302 - 15s 385ms/step - loss: 0.1297 - acc: 0.3157 - val_loss: 1.8984 - val_acc: 0.0984\n",
            "Epoch 327/1000\n",
            "40/40 [==============================] - ETA: 2s - loss: 0.1368 - acc: 0.363 - ETA: 0s - loss: 0.1334 - acc: 0.343 - 16s 389ms/step - loss: 0.1326 - acc: 0.3190 - val_loss: 1.9163 - val_acc: 0.0839\n",
            "Epoch 328/1000\n",
            "40/40 [==============================] - ETA: 2s - loss: 0.1269 - acc: 0.336 - ETA: 1s - loss: 0.1248 - acc: 0.321 - 16s 391ms/step - loss: 0.1270 - acc: 0.3214 - val_loss: 1.8433 - val_acc: 0.1000\n",
            "Epoch 329/1000\n",
            "40/40 [==============================] - ETA: 3s - loss: 0.1330 - acc: 0.319 - ETA: 1s - loss: 0.1314 - acc: 0.305 - 16s 399ms/step - loss: 0.1289 - acc: 0.3185 - val_loss: 1.8793 - val_acc: 0.0919\n",
            "Epoch 330/1000\n",
            "40/40 [==============================] - ETA: 3s - loss: 0.1275 - acc: 0.289 - ETA: 1s - loss: 0.1253 - acc: 0.316 - 16s 393ms/step - loss: 0.1267 - acc: 0.3181 - val_loss: 1.8561 - val_acc: 0.1016\n",
            "Epoch 331/1000\n",
            "40/40 [==============================] - ETA: 3s - loss: 0.1240 - acc: 0.306 - ETA: 1s - loss: 0.1249 - acc: 0.315 - 18s 442ms/step - loss: 0.1272 - acc: 0.3210 - val_loss: 1.8162 - val_acc: 0.1016\n",
            "Epoch 332/1000\n",
            "40/40 [==============================] - ETA: 3s - loss: 0.1281 - acc: 0.344 - ETA: 1s - loss: 0.1254 - acc: 0.315 - 18s 443ms/step - loss: 0.1272 - acc: 0.3198 - val_loss: 1.8649 - val_acc: 0.0903\n",
            "Epoch 333/1000\n",
            "40/40 [==============================] - ETA: 3s - loss: 0.1240 - acc: 0.370 - ETA: 1s - loss: 0.1306 - acc: 0.329 - 17s 432ms/step - loss: 0.1277 - acc: 0.3218 - val_loss: 1.8305 - val_acc: 0.0919\n",
            "Epoch 334/1000\n",
            "40/40 [==============================] - ETA: 3s - loss: 0.1186 - acc: 0.300 - ETA: 1s - loss: 0.1256 - acc: 0.329 - 16s 391ms/step - loss: 0.1292 - acc: 0.3214 - val_loss: 1.8427 - val_acc: 0.0952\n",
            "Epoch 335/1000\n",
            "40/40 [==============================] - ETA: 3s - loss: 0.1415 - acc: 0.337 - ETA: 1s - loss: 0.1353 - acc: 0.327 - 15s 383ms/step - loss: 0.1346 - acc: 0.3169 - val_loss: 1.7854 - val_acc: 0.1048\n",
            "Epoch 336/1000\n",
            "40/40 [==============================] - ETA: 2s - loss: 0.1398 - acc: 0.320 - ETA: 0s - loss: 0.1339 - acc: 0.325 - 16s 393ms/step - loss: 0.1362 - acc: 0.3145 - val_loss: 1.8073 - val_acc: 0.0952\n",
            "Epoch 337/1000\n",
            "40/40 [==============================] - ETA: 3s - loss: 0.1253 - acc: 0.299 - ETA: 1s - loss: 0.1305 - acc: 0.331 - 15s 384ms/step - loss: 0.1274 - acc: 0.3218 - val_loss: 1.8652 - val_acc: 0.0952\n",
            "Epoch 338/1000\n",
            "40/40 [==============================] - ETA: 3s - loss: 0.1143 - acc: 0.247 - ETA: 1s - loss: 0.1217 - acc: 0.302 - 16s 388ms/step - loss: 0.1256 - acc: 0.3185 - val_loss: 1.7648 - val_acc: 0.0952\n",
            "Epoch 339/1000\n",
            "40/40 [==============================] - ETA: 3s - loss: 0.1555 - acc: 0.354 - ETA: 1s - loss: 0.1459 - acc: 0.332 - 16s 395ms/step - loss: 0.1474 - acc: 0.3145 - val_loss: 1.7384 - val_acc: 0.0984\n",
            "Epoch 340/1000\n",
            "40/40 [==============================] - ETA: 2s - loss: 0.1452 - acc: 0.322 - ETA: 0s - loss: 0.1413 - acc: 0.332 - 15s 380ms/step - loss: 0.1372 - acc: 0.3149 - val_loss: 1.7958 - val_acc: 0.0887\n",
            "Epoch 341/1000\n",
            "40/40 [==============================] - ETA: 3s - loss: 0.1256 - acc: 0.282 - ETA: 1s - loss: 0.1237 - acc: 0.311 - 16s 396ms/step - loss: 0.1235 - acc: 0.3194 - val_loss: 1.8368 - val_acc: 0.0903\n",
            "Epoch 342/1000\n",
            "40/40 [==============================] - ETA: 3s - loss: 0.1239 - acc: 0.394 - ETA: 1s - loss: 0.1325 - acc: 0.342 - 15s 386ms/step - loss: 0.1339 - acc: 0.3190 - val_loss: 1.7703 - val_acc: 0.1000\n",
            "Epoch 343/1000\n",
            "40/40 [==============================] - ETA: 3s - loss: 0.1392 - acc: 0.317 - ETA: 1s - loss: 0.1342 - acc: 0.315 - 15s 387ms/step - loss: 0.1326 - acc: 0.3165 - val_loss: 1.8011 - val_acc: 0.0968\n",
            "Epoch 344/1000\n"
          ],
          "name": "stdout"
        },
        {
          "output_type": "stream",
          "text": [
            "40/40 [==============================] - ETA: 2s - loss: 0.1262 - acc: 0.261 - ETA: 0s - loss: 0.1299 - acc: 0.316 - 15s 384ms/step - loss: 0.1268 - acc: 0.3194 - val_loss: 1.7962 - val_acc: 0.1048\n",
            "Epoch 345/1000\n",
            "40/40 [==============================] - ETA: 3s - loss: 0.1266 - acc: 0.372 - ETA: 1s - loss: 0.1212 - acc: 0.336 - 16s 396ms/step - loss: 0.1202 - acc: 0.3238 - val_loss: 1.8860 - val_acc: 0.1016\n",
            "Epoch 346/1000\n",
            "40/40 [==============================] - ETA: 3s - loss: 0.1299 - acc: 0.261 - ETA: 1s - loss: 0.1242 - acc: 0.302 - 16s 398ms/step - loss: 0.1282 - acc: 0.3202 - val_loss: 1.8198 - val_acc: 0.0984\n",
            "Epoch 347/1000\n",
            "40/40 [==============================] - ETA: 3s - loss: 0.1326 - acc: 0.296 - ETA: 1s - loss: 0.1338 - acc: 0.317 - 16s 392ms/step - loss: 0.1308 - acc: 0.3190 - val_loss: 1.8557 - val_acc: 0.0919\n",
            "Epoch 348/1000\n",
            "40/40 [==============================] - ETA: 3s - loss: 0.1369 - acc: 0.355 - ETA: 1s - loss: 0.1307 - acc: 0.344 - 16s 393ms/step - loss: 0.1306 - acc: 0.3173 - val_loss: 1.8876 - val_acc: 0.0952\n",
            "Epoch 349/1000\n",
            "40/40 [==============================] - ETA: 3s - loss: 0.1258 - acc: 0.319 - ETA: 0s - loss: 0.1206 - acc: 0.325 - 15s 383ms/step - loss: 0.1224 - acc: 0.3190 - val_loss: 1.8304 - val_acc: 0.0903\n",
            "Epoch 350/1000\n",
            "40/40 [==============================] - ETA: 2s - loss: 0.1255 - acc: 0.292 - ETA: 1s - loss: 0.1257 - acc: 0.351 - 16s 391ms/step - loss: 0.1239 - acc: 0.3210 - val_loss: 1.8466 - val_acc: 0.0871\n",
            "Epoch 351/1000\n",
            "40/40 [==============================] - ETA: 3s - loss: 0.1056 - acc: 0.278 - ETA: 1s - loss: 0.1191 - acc: 0.292 - 16s 392ms/step - loss: 0.1257 - acc: 0.3181 - val_loss: 1.8775 - val_acc: 0.0903\n",
            "Epoch 352/1000\n",
            "40/40 [==============================] - ETA: 2s - loss: 0.1501 - acc: 0.327 - ETA: 0s - loss: 0.1366 - acc: 0.321 - 15s 386ms/step - loss: 0.1333 - acc: 0.3161 - val_loss: 1.8721 - val_acc: 0.0887\n",
            "Epoch 353/1000\n",
            "40/40 [==============================] - ETA: 3s - loss: 0.1307 - acc: 0.320 - ETA: 1s - loss: 0.1334 - acc: 0.323 - 15s 385ms/step - loss: 0.1292 - acc: 0.3185 - val_loss: 1.9039 - val_acc: 0.0887\n",
            "Epoch 354/1000\n",
            "40/40 [==============================] - ETA: 2s - loss: 0.1154 - acc: 0.362 - ETA: 1s - loss: 0.1322 - acc: 0.309 - 16s 391ms/step - loss: 0.1351 - acc: 0.3165 - val_loss: 1.8512 - val_acc: 0.0935\n",
            "Epoch 355/1000\n",
            "40/40 [==============================] - ETA: 3s - loss: 0.1125 - acc: 0.320 - ETA: 1s - loss: 0.1336 - acc: 0.319 - 15s 379ms/step - loss: 0.1275 - acc: 0.3206 - val_loss: 1.8499 - val_acc: 0.0919\n",
            "Epoch 356/1000\n",
            "40/40 [==============================] - ETA: 3s - loss: 0.1110 - acc: 0.354 - ETA: 1s - loss: 0.1123 - acc: 0.318 - 15s 376ms/step - loss: 0.1101 - acc: 0.3278 - val_loss: 1.9175 - val_acc: 0.0935\n",
            "Epoch 357/1000\n",
            "40/40 [==============================] - ETA: 3s - loss: 0.1326 - acc: 0.336 - ETA: 0s - loss: 0.1208 - acc: 0.304 - 15s 379ms/step - loss: 0.1229 - acc: 0.3185 - val_loss: 1.8664 - val_acc: 0.0919\n",
            "Epoch 358/1000\n",
            "40/40 [==============================] - ETA: 2s - loss: 0.1203 - acc: 0.236 - ETA: 0s - loss: 0.1173 - acc: 0.284 - 16s 388ms/step - loss: 0.1244 - acc: 0.3206 - val_loss: 1.7879 - val_acc: 0.0968\n",
            "Epoch 359/1000\n",
            "40/40 [==============================] - ETA: 2s - loss: 0.1184 - acc: 0.261 - ETA: 0s - loss: 0.1192 - acc: 0.276 - 15s 386ms/step - loss: 0.1242 - acc: 0.3206 - val_loss: 1.9395 - val_acc: 0.0790\n",
            "Epoch 360/1000\n",
            "40/40 [==============================] - ETA: 3s - loss: 0.1562 - acc: 0.359 - ETA: 1s - loss: 0.1351 - acc: 0.318 - 16s 406ms/step - loss: 0.1301 - acc: 0.3202 - val_loss: 1.8942 - val_acc: 0.0935\n",
            "Epoch 361/1000\n",
            "40/40 [==============================] - ETA: 2s - loss: 0.1141 - acc: 0.397 - ETA: 0s - loss: 0.1091 - acc: 0.321 - 16s 389ms/step - loss: 0.1076 - acc: 0.3274 - val_loss: 1.9364 - val_acc: 0.0887\n",
            "Epoch 362/1000\n",
            "40/40 [==============================] - ETA: 3s - loss: 0.1517 - acc: 0.335 - ETA: 1s - loss: 0.1392 - acc: 0.307 - 18s 450ms/step - loss: 0.1369 - acc: 0.3125 - val_loss: 1.9391 - val_acc: 0.0903\n",
            "Epoch 363/1000\n",
            "40/40 [==============================] - ETA: 3s - loss: 0.1558 - acc: 0.225 - ETA: 1s - loss: 0.1423 - acc: 0.322 - 18s 439ms/step - loss: 0.1318 - acc: 0.3194 - val_loss: 1.8785 - val_acc: 0.0919\n",
            "Epoch 364/1000\n",
            "32/40 [=======================>......] - ETA: 3s - loss: 0.1210 - acc: 0.399 - ETA: 1s - loss: 0.1269 - acc: 0.3422"
          ],
          "name": "stdout"
        }
      ]
    },
    {
      "metadata": {
        "id": "nspbTZlGuu2b",
        "colab_type": "code",
        "colab": {},
        "outputId": "6d2a8d0c-0d19-43d9-c562-6eb6a9d243da"
      },
      "cell_type": "code",
      "source": [
        "\n",
        "\n",
        "# Plot training & validation accuracy values\n",
        "plt.plot(history.history['acc'])\n",
        "plt.plot(history.history['val_acc'])\n",
        "plt.title('Model accuracy')\n",
        "plt.ylabel('Accuracy')\n",
        "plt.xlabel('Epoch')\n",
        "plt.legend(['Train', 'Test'], loc='upper left')\n",
        "plt.show()\n",
        "\n",
        "# Plot training & validation loss values\n",
        "plt.plot(history.history['loss'])\n",
        "plt.plot(history.history['val_loss'])\n",
        "plt.title('Model loss')\n",
        "plt.ylabel('Loss')\n",
        "plt.xlabel('Epoch')\n",
        "plt.legend(['Train', 'Test'], loc='upper left')\n",
        "plt.show()"
      ],
      "execution_count": 0,
      "outputs": [
        {
          "output_type": "display_data",
          "data": {
            "image/png": "[encoded data removed]",
            "text/plain": [
              "<Figure size 432x288 with 1 Axes>"
            ]
          },
          "metadata": {
            "tags": [],
            "needs_background": "light"
          }
        },
        {
          "output_type": "display_data",
          "data": {
            "image/png": "[encoded data removed]",
            "text/plain": [
              "<Figure size 432x288 with 1 Axes>"
            ]
          },
          "metadata": {
            "tags": [],
            "needs_background": "light"
          }
        }
      ]
    },
    {
      "metadata": {
        "id": "X4Dw92qXuu2e",
        "colab_type": "code",
        "colab": {}
      },
      "cell_type": "code",
      "source": [
        "def decode_sequence(input_seq):\n",
        "    # Encode the input as state vectors.\n",
        "    states_value = encoder_model.predict(input_seq)\n",
        "\n",
        "    # Generate empty target sequence of length 1.\n",
        "    target_seq = np.zeros((1, 1, num_decoder_tokens))\n",
        "    # Populate the first character of target sequence with the start character.\n",
        "    target_seq[0, 0, target_token_index['\\t']] = 1.\n",
        "\n",
        "    # Sampling loop for a batch of sequences\n",
        "    # (to simplify, here we assume a batch of size 1).\n",
        "    stop_condition = False\n",
        "    decoded_sentence = ''\n",
        "    while not stop_condition:\n",
        "        output_tokens, h, c = decoder_model.predict(\n",
        "            [target_seq] + states_value)\n",
        "\n",
        "        # Sample a token\n",
        "        sampled_token_index = np.argmax(output_tokens[0, -1, :])\n",
        "        sampled_char = reverse_target_char_index[sampled_token_index]\n",
        "        decoded_sentence += sampled_char\n",
        "\n",
        "        # Exit condition: either hit max length\n",
        "        # or find stop character.\n",
        "        if (sampled_char == '\\n' or\n",
        "           len(decoded_sentence) > max_decoder_seq_length):\n",
        "            stop_condition = True\n",
        "\n",
        "        # Update the target sequence (of length 1).\n",
        "        target_seq = np.zeros((1, 1, num_decoder_tokens))\n",
        "        target_seq[0, 0, sampled_token_index] = 1.\n",
        "\n",
        "        # Update states\n",
        "        states_value = [h, c]\n",
        "\n",
        "    return decoded_sentence"
      ],
      "execution_count": 0,
      "outputs": []
    },
    {
      "metadata": {
        "id": "_ICXDpyiuu2h",
        "colab_type": "code",
        "colab": {},
        "outputId": "ec695e65-9be8-4f51-f19c-c8a20f840bc4"
      },
      "cell_type": "code",
      "source": [
        "for seq_index in range(5):\n",
        "\n",
        "    # Take one sequence (part of the training set) for trying out decoding.\n",
        "    input_seq = encoder_input_data[seq_index: seq_index + 1]\n",
        "    decoded_sentence = decode_sequence(input_seq)\n",
        "\n",
        "    print('-')\n",
        "    print('Input sentence:', input_texts[seq_index])\n",
        "    print('Decoded sentence:', decoded_sentence)"
      ],
      "execution_count": 0,
      "outputs": [
        {
          "output_type": "stream",
          "text": [
            "-\n",
            "Input sentence: i have bought several of the vitality canned dog food products and have found them all to be of good quality. the product looks more like a stew than a processed meat and it smells better. my labrador is finicky and she appreciates this product better than most.\n",
            "Decoded sentence: ggggggggggyyyyyyyyyuyyyyyyuyyyyyuyyyyyuyyyyyuyyyyyuyyyyyuyyyyyuyyyyy\n",
            "-\n",
            "Input sentence: product arrived labeled as jumbo salted peanuts...the peanuts were actually small sized unsalted. not sure if this was an error or if the vendor intended to represent the product as  jumbo .\n",
            "Decoded sentence: ggggggggggyyyyyyyyyuyyyyyyuyyyyyuyyyyyuyyyyyuyyyyyuyyyyyuyyyyyuyyyyy\n",
            "-\n",
            "Input sentence: this is a confection that has been around a few centuries. it is a light, pillowy citrus gelatin with nuts   in this case filberts. and it is cut into tiny squares and then liberally coated with powdered sugar. and it is a tiny mouthful of heaven. not too chewy, and very flavorful. i highly recommend this yummy treat. if you are familiar with the story of c.s. lewis   the lion, the witch, and the wardrobe    this is the treat that seduces edmund into selling out his brother and sisters to the witch.\n",
            "Decoded sentence: ggggggggggyyyyyyyyyuyyyyyyuyyyyyuyyyyyuyyyyyuyyyyyuyyyyyuyyyyyuyyyyy\n",
            "-\n",
            "Input sentence: if you are looking for the secret ingredient in robitussin i believe i have found it. i got this in addition to the root beer extract i ordered  which was good  and made some cherry soda. the flavor is very medicinal.\n",
            "Decoded sentence: ggggggggggyyyyyyyyyuyyyyyyuyyyyyuyyyyyuyyyyyuyyyyyuyyyyyuyyyyyuyyyyy\n",
            "-\n",
            "Input sentence: great taffy at a great price. there was a wide assortment of yummy taffy. delivery was very quick. if your a taffy lover, this is a deal.\n",
            "Decoded sentence: ggggggggggyyyyyyyyyuyyyyyyuyyyyyuyyyyyuyyyyyuyyyyyuyyyyyuyyyyyuyyyyy\n"
          ],
          "name": "stdout"
        }
      ]
    },
    {
      "metadata": {
        "_uuid": "46585c7317f64250f9c1846f4d04e2c4907422ee",
        "id": "BYVGjRPEuu2k",
        "colab_type": "code",
        "colab": {}
      },
      "cell_type": "code",
      "source": [
        "def generic_Model(n_input, n_output, n_units):\n",
        "    # define training encoder\n",
        "    encoder_inputs = Input(shape=(None, n_input))\n",
        "    encoder = LSTM(n_units, return_state=True)\n",
        "    encoder_outputs, state_h, state_c = encoder(encoder_inputs)\n",
        "    encoder_states = [state_h, state_c]\n",
        "    # define training decoder\n",
        "    decoder_inputs = Input(shape=(None, n_output))\n",
        "    decoder_lstm = LSTM(n_units, return_sequences=True, return_state=True)\n",
        "    decoder_outputs, _, _ = decoder_lstm(decoder_inputs, initial_state=encoder_states)\n",
        "    decoder_dense = Dense(n_output, activation='softmax')\n",
        "    \n",
        "    decoder_outputs = decoder_dense(decoder_outputs)\n",
        "    model = Model([encoder_inputs, decoder_inputs], decoder_outputs)\n",
        "    # define inference encoder\n",
        "    encoder_model = Model(encoder_inputs, encoder_states)\n",
        "    # define inference decoder\n",
        "    decoder_state_input_h = Input(shape=(n_units,))\n",
        "    decoder_state_input_c = Input(shape=(n_units,))\n",
        "    decoder_states_inputs = [decoder_state_input_h, decoder_state_input_c]\n",
        "    decoder_outputs, state_h, state_c = decoder_lstm(decoder_inputs,  initial_state=decoder_states_inputs)\n",
        "    decoder_states = [state_h, state_c]\n",
        "    decoder_outputs = decoder_dense(decoder_outputs)\n",
        "    decoder_model = Model([decoder_inputs] + decoder_states_inputs, [decoder_outputs] + decoder_states)\n",
        "    # return all models\n",
        "    return model, encoder_model, decoder_model\n"
      ],
      "execution_count": 0,
      "outputs": []
    },
    {
      "metadata": {
        "_uuid": "ea1e80648de3d72954da93f934d9f2210f7f4738",
        "id": "sLnY_WiBuu2m",
        "colab_type": "code",
        "colab": {},
        "outputId": "9500eb13-45a2-4435-fa2c-175a33051690"
      },
      "cell_type": "code",
      "source": [
        "training_model, encoder_model, decoder_model = generic_Model(max_encoder_seq_length, max_decoder_seq_length, 128)\n",
        "training_model.summary()"
      ],
      "execution_count": 0,
      "outputs": [
        {
          "output_type": "stream",
          "text": [
            "__________________________________________________________________________________________________\n",
            "Layer (type)                    Output Shape         Param #     Connected to                     \n",
            "==================================================================================================\n",
            "input_7 (InputLayer)            (None, None, 2297)   0                                            \n",
            "__________________________________________________________________________________________________\n",
            "input_8 (InputLayer)            (None, None, 67)     0                                            \n",
            "__________________________________________________________________________________________________\n",
            "lstm_4 (LSTM)                   [(None, 128), (None, 1242112     input_7[0][0]                    \n",
            "__________________________________________________________________________________________________\n",
            "lstm_5 (LSTM)                   [(None, None, 128),  100352      input_8[0][0]                    \n",
            "                                                                 lstm_4[0][1]                     \n",
            "                                                                 lstm_4[0][2]                     \n",
            "__________________________________________________________________________________________________\n",
            "dense_13 (Dense)                (None, None, 67)     8643        lstm_5[0][0]                     \n",
            "==================================================================================================\n",
            "Total params: 1,351,107\n",
            "Trainable params: 1,351,107\n",
            "Non-trainable params: 0\n",
            "__________________________________________________________________________________________________\n"
          ],
          "name": "stdout"
        }
      ]
    },
    {
      "metadata": {
        "_uuid": "234e7a92e06db16dee5c08bb7699ec8dc03894d7",
        "id": "ilSFp85Guu2p",
        "colab_type": "code",
        "colab": {},
        "outputId": "ebcc95f6-ab53-4e65-c218-d678681ed23b"
      },
      "cell_type": "code",
      "source": [
        "training_model.compile(optimizer='rmsprop', loss='categorical_crossentropy')\n",
        "training_model.fit([input_characters, target_characters], target_characters,\n",
        "batch_size=batch_size,\n",
        "epochs=epochs,\n",
        "validation_split=0.2)"
      ],
      "execution_count": 0,
      "outputs": [
        {
          "output_type": "error",
          "ename": "ValueError",
          "evalue": "Error when checking input: expected input_7 to have 3 dimensions, but got array with shape (42, 1)",
          "traceback": [
            "\u001b[1;31m---------------------------------------------------------------------------\u001b[0m",
            "\u001b[1;31mValueError\u001b[0m                                Traceback (most recent call last)",
            "\u001b[1;32m<ipython-input-99-e2c7b0ebd1bb>\u001b[0m in \u001b[0;36m<module>\u001b[1;34m\u001b[0m\n\u001b[0;32m      3\u001b[0m \u001b[0mbatch_size\u001b[0m\u001b[1;33m=\u001b[0m\u001b[0mbatch_size\u001b[0m\u001b[1;33m,\u001b[0m\u001b[1;33m\u001b[0m\u001b[0m\n\u001b[0;32m      4\u001b[0m \u001b[0mepochs\u001b[0m\u001b[1;33m=\u001b[0m\u001b[0mepochs\u001b[0m\u001b[1;33m,\u001b[0m\u001b[1;33m\u001b[0m\u001b[0m\n\u001b[1;32m----> 5\u001b[1;33m validation_split=0.2)\n\u001b[0m",
            "\u001b[1;32mc:\\python36\\lib\\site-packages\\keras\\engine\\training.py\u001b[0m in \u001b[0;36mfit\u001b[1;34m(self, x, y, batch_size, epochs, verbose, callbacks, validation_split, validation_data, shuffle, class_weight, sample_weight, initial_epoch, steps_per_epoch, validation_steps, **kwargs)\u001b[0m\n\u001b[0;32m    953\u001b[0m             \u001b[0msample_weight\u001b[0m\u001b[1;33m=\u001b[0m\u001b[0msample_weight\u001b[0m\u001b[1;33m,\u001b[0m\u001b[1;33m\u001b[0m\u001b[0m\n\u001b[0;32m    954\u001b[0m             \u001b[0mclass_weight\u001b[0m\u001b[1;33m=\u001b[0m\u001b[0mclass_weight\u001b[0m\u001b[1;33m,\u001b[0m\u001b[1;33m\u001b[0m\u001b[0m\n\u001b[1;32m--> 955\u001b[1;33m             batch_size=batch_size)\n\u001b[0m\u001b[0;32m    956\u001b[0m         \u001b[1;31m# Prepare validation data.\u001b[0m\u001b[1;33m\u001b[0m\u001b[1;33m\u001b[0m\u001b[0m\n\u001b[0;32m    957\u001b[0m         \u001b[0mdo_validation\u001b[0m \u001b[1;33m=\u001b[0m \u001b[1;32mFalse\u001b[0m\u001b[1;33m\u001b[0m\u001b[0m\n",
            "\u001b[1;32mc:\\python36\\lib\\site-packages\\keras\\engine\\training.py\u001b[0m in \u001b[0;36m_standardize_user_data\u001b[1;34m(self, x, y, sample_weight, class_weight, check_array_lengths, batch_size)\u001b[0m\n\u001b[0;32m    752\u001b[0m             \u001b[0mfeed_input_shapes\u001b[0m\u001b[1;33m,\u001b[0m\u001b[1;33m\u001b[0m\u001b[0m\n\u001b[0;32m    753\u001b[0m             \u001b[0mcheck_batch_axis\u001b[0m\u001b[1;33m=\u001b[0m\u001b[1;32mFalse\u001b[0m\u001b[1;33m,\u001b[0m  \u001b[1;31m# Don't enforce the batch size.\u001b[0m\u001b[1;33m\u001b[0m\u001b[0m\n\u001b[1;32m--> 754\u001b[1;33m             exception_prefix='input')\n\u001b[0m\u001b[0;32m    755\u001b[0m \u001b[1;33m\u001b[0m\u001b[0m\n\u001b[0;32m    756\u001b[0m         \u001b[1;32mif\u001b[0m \u001b[0my\u001b[0m \u001b[1;32mis\u001b[0m \u001b[1;32mnot\u001b[0m \u001b[1;32mNone\u001b[0m\u001b[1;33m:\u001b[0m\u001b[1;33m\u001b[0m\u001b[0m\n",
            "\u001b[1;32mc:\\python36\\lib\\site-packages\\keras\\engine\\training_utils.py\u001b[0m in \u001b[0;36mstandardize_input_data\u001b[1;34m(data, names, shapes, check_batch_axis, exception_prefix)\u001b[0m\n\u001b[0;32m    124\u001b[0m                         \u001b[1;34m': expected '\u001b[0m \u001b[1;33m+\u001b[0m \u001b[0mnames\u001b[0m\u001b[1;33m[\u001b[0m\u001b[0mi\u001b[0m\u001b[1;33m]\u001b[0m \u001b[1;33m+\u001b[0m \u001b[1;34m' to have '\u001b[0m \u001b[1;33m+\u001b[0m\u001b[1;33m\u001b[0m\u001b[0m\n\u001b[0;32m    125\u001b[0m                         \u001b[0mstr\u001b[0m\u001b[1;33m(\u001b[0m\u001b[0mlen\u001b[0m\u001b[1;33m(\u001b[0m\u001b[0mshape\u001b[0m\u001b[1;33m)\u001b[0m\u001b[1;33m)\u001b[0m \u001b[1;33m+\u001b[0m \u001b[1;34m' dimensions, but got array '\u001b[0m\u001b[1;33m\u001b[0m\u001b[0m\n\u001b[1;32m--> 126\u001b[1;33m                         'with shape ' + str(data_shape))\n\u001b[0m\u001b[0;32m    127\u001b[0m                 \u001b[1;32mif\u001b[0m \u001b[1;32mnot\u001b[0m \u001b[0mcheck_batch_axis\u001b[0m\u001b[1;33m:\u001b[0m\u001b[1;33m\u001b[0m\u001b[0m\n\u001b[0;32m    128\u001b[0m                     \u001b[0mdata_shape\u001b[0m \u001b[1;33m=\u001b[0m \u001b[0mdata_shape\u001b[0m\u001b[1;33m[\u001b[0m\u001b[1;36m1\u001b[0m\u001b[1;33m:\u001b[0m\u001b[1;33m]\u001b[0m\u001b[1;33m\u001b[0m\u001b[0m\n",
            "\u001b[1;31mValueError\u001b[0m: Error when checking input: expected input_7 to have 3 dimensions, but got array with shape (42, 1)"
          ]
        }
      ]
    },
    {
      "metadata": {
        "_uuid": "aa670a6d30f64756f81c558931d58084044bc307",
        "id": "9RIDdtqXuu2s",
        "colab_type": "code",
        "colab": {}
      },
      "cell_type": "code",
      "source": [
        ""
      ],
      "execution_count": 0,
      "outputs": []
    },
    {
      "metadata": {
        "_uuid": "0f82d087944a99d6e2f2eb7832a3e98ce143cbb1",
        "id": "WpoGSuMAuu2t",
        "colab_type": "code",
        "colab": {
          "base_uri": "https://localhost:8080/",
          "height": 34
        },
        "outputId": "d482a2fa-4999-41e9-aff9-9baacb63806e"
      },
      "cell_type": "code",
      "source": [
        "word_to_index, index_to_word, word_to_vec_map = read_glove_vecs('glove.6B.50d.txt')"
      ],
      "execution_count": 17,
      "outputs": [
        {
          "output_type": "stream",
          "text": [
            "400000it [00:06, 58737.16it/s]\n"
          ],
          "name": "stderr"
        }
      ]
    },
    {
      "metadata": {
        "_uuid": "523e40ced0dfa29c4ae66de97fb2a07a83296f16",
        "scrolled": true,
        "id": "4dCRMb2Juu2w",
        "colab_type": "code",
        "colab": {
          "base_uri": "https://localhost:8080/",
          "height": 214
        },
        "outputId": "db73bd02-c92e-49b1-cd5c-5289c52424dc"
      },
      "cell_type": "code",
      "source": [
        "print(len(word_to_vec_map))\n",
        "print(word_to_index[\"didn't\"])\n",
        "print(word_to_vec_map[\"strife-torn\"])"
      ],
      "execution_count": 3,
      "outputs": [
        {
          "output_type": "stream",
          "text": [
            "400000\n"
          ],
          "name": "stdout"
        },
        {
          "output_type": "error",
          "ename": "KeyError",
          "evalue": "ignored",
          "traceback": [
            "\u001b[0;31m---------------------------------------------------------------------------\u001b[0m",
            "\u001b[0;31mKeyError\u001b[0m                                  Traceback (most recent call last)",
            "\u001b[0;32m<ipython-input-3-0001a2c272b4>\u001b[0m in \u001b[0;36m<module>\u001b[0;34m()\u001b[0m\n\u001b[1;32m      1\u001b[0m \u001b[0mprint\u001b[0m\u001b[0;34m(\u001b[0m\u001b[0mlen\u001b[0m\u001b[0;34m(\u001b[0m\u001b[0mword_to_vec_map\u001b[0m\u001b[0;34m)\u001b[0m\u001b[0;34m)\u001b[0m\u001b[0;34m\u001b[0m\u001b[0;34m\u001b[0m\u001b[0m\n\u001b[0;32m----> 2\u001b[0;31m \u001b[0mprint\u001b[0m\u001b[0;34m(\u001b[0m\u001b[0mword_to_index\u001b[0m\u001b[0;34m[\u001b[0m\u001b[0;34m\"didn't\"\u001b[0m\u001b[0;34m]\u001b[0m\u001b[0;34m)\u001b[0m\u001b[0;34m\u001b[0m\u001b[0;34m\u001b[0m\u001b[0m\n\u001b[0m\u001b[1;32m      3\u001b[0m \u001b[0mprint\u001b[0m\u001b[0;34m(\u001b[0m\u001b[0mword_to_vec_map\u001b[0m\u001b[0;34m[\u001b[0m\u001b[0;34m\"strife-torn\"\u001b[0m\u001b[0;34m]\u001b[0m\u001b[0;34m)\u001b[0m\u001b[0;34m\u001b[0m\u001b[0;34m\u001b[0m\u001b[0m\n",
            "\u001b[0;31mKeyError\u001b[0m: \"didn't\""
          ]
        }
      ]
    },
    {
      "metadata": {
        "_uuid": "b85eee801058d40f9b1967632b6e75b4ad15ef6d",
        "id": "5zm931pBuu2z",
        "colab_type": "code",
        "colab": {
          "base_uri": "https://localhost:8080/",
          "height": 85
        },
        "outputId": "cae940ca-2f0b-4bdc-9948-6d0af233a5f4"
      },
      "cell_type": "code",
      "source": [
        "word = \"cucumber\"\n",
        "index = 289846\n",
        "print(len(word_to_vec_map[word]))\n",
        "print(\"the index of\", word, \"in the vocabulary is\", word_to_index[word])\n",
        "print(\"the\", str(index) + \"th word in the vocabulary is\", index_to_word[index])\n",
        "print(len(word_to_vec_map))"
      ],
      "execution_count": 18,
      "outputs": [
        {
          "output_type": "stream",
          "text": [
            "50\n",
            "the index of cucumber in the vocabulary is 113317\n",
            "the 289846th word in the vocabulary is potatos\n",
            "400000\n"
          ],
          "name": "stdout"
        }
      ]
    },
    {
      "metadata": {
        "_uuid": "36fc694f6d61a67426121d05d5d7ecbe5f6576e8",
        "id": "rGXQQ4QTuu22",
        "colab_type": "text"
      },
      "cell_type": "markdown",
      "source": [
        "**Exercise**: Implement `sentence_to_avg()`. This function performs two steps described as follows:\n",
        "1. Convert every sentence to lower-case, then split the sentence into a list of words.\n",
        "2. For each word in the sentence, access its GloVe representation. Then, average all these values."
      ]
    },
    {
      "metadata": {
        "_uuid": "370e34b8fd3664c187fdf1f24bb718216ef3eb58",
        "id": "Pho7N204uu22",
        "colab_type": "code",
        "colab": {}
      },
      "cell_type": "code",
      "source": [
        "# GRADED FUNCTION: sentence_to_avg\n",
        "\n",
        "def sentence_to_avg(sentence, word_to_vec_map):\n",
        "    \"\"\"\n",
        "    Converts a sentence (string) into a list of words (strings). Extracts the GloVe representation of each word\n",
        "    and averages its value into a single vector encoding the meaning of the sentence.\n",
        "    \n",
        "    Arguments:\n",
        "    sentence -- string, one training example from X\n",
        "    word_to_vec_map -- dictionary mapping every word in a vocabulary into its 50-dimensional vector representation\n",
        "    \n",
        "    Returns:\n",
        "    avg -- average vector encoding information about the sentence, numpy-array of shape (50,)\n",
        "    \"\"\"\n",
        "    \n",
        "    ### START CODE HERE ###\n",
        "    # Step 1: Split sentence into list of lower case words (≈ 1 line)\n",
        "    words = [i.lower() for i in sentence.split()]\n",
        "    \n",
        "    # Initialize the average word vector, should have the same shape as your word vectors.\n",
        "    avg = np.zeros((len(word_to_vec_map[\"a\"]),))\n",
        "    \n",
        "    # Step 2: average the word vectors. You can loop over the words in the list \"words\".\n",
        "    for w in words:\n",
        "        try:\n",
        "            avg += word_to_vec_map[w]\n",
        "        except KeyError:\n",
        "            print(w)\n",
        "            continue\n",
        "        \n",
        "    avg = avg / len(words)\n",
        "    \n",
        "    ### END CODE HERE ###\n",
        "    \n",
        "    return avg"
      ],
      "execution_count": 0,
      "outputs": []
    },
    {
      "metadata": {
        "_uuid": "28d98594c056c9c0e584f53f0eeaece1d1fdeb3d",
        "id": "yKrso8TYuu24",
        "colab_type": "code",
        "colab": {
          "base_uri": "https://localhost:8080/",
          "height": 255
        },
        "outputId": "c6f6899a-cc34-4881-d0ee-a023fd3a9ecd"
      },
      "cell_type": "code",
      "source": [
        "avg = sentence_to_avg(\"at least two people were killed in a suspected bomb attack on a passenger bus in the strife-torn southern philippines on monday , the military said .\\n\", word_to_vec_map)\n",
        "print(\"avg = \", avg)"
      ],
      "execution_count": 20,
      "outputs": [
        {
          "output_type": "stream",
          "text": [
            "strife-torn\n",
            "avg =  [ 6.00406333e-01 -3.32836241e-02  1.87963111e-01  6.77701481e-02\n",
            "  3.54529296e-01  5.80289259e-02 -5.28430741e-01  2.34516926e-02\n",
            " -4.44399430e-02 -4.49052852e-01 -4.94001852e-02 -5.91713370e-01\n",
            " -3.30848889e-01 -3.86380000e-02  2.55290974e-01 -1.00995963e-01\n",
            " -2.50230633e-01  1.57850185e-01 -8.12166667e-01  1.53866296e-02\n",
            "  1.62483900e-01  3.39234815e-01  1.11209556e-01  1.11625963e-02\n",
            " -1.28282022e-01 -1.71446667e+00 -3.79737037e-02  7.29834074e-02\n",
            "  7.51024444e-02 -5.31830370e-02  3.21913704e+00 -1.57129481e-02\n",
            " -3.00656678e-01 -2.03952637e-01  3.13164624e-01  7.13015852e-02\n",
            "  1.96886630e-01 -2.07194259e-01 -1.68992593e-03  3.62324111e-01\n",
            " -3.64241751e-01  2.49083281e-01  2.42211593e-01 -2.78113704e-01\n",
            "  2.00010611e-01  2.41158148e-02 -4.04617674e-01 -2.34434815e-02\n",
            "  1.46426704e-01 -3.46355148e-01]\n"
          ],
          "name": "stdout"
        }
      ]
    },
    {
      "metadata": {
        "_uuid": "fd9716098a859c18687a3761bcc4401916ad81be",
        "id": "3PD7NV2Fuu27",
        "colab_type": "code",
        "colab": {}
      },
      "cell_type": "code",
      "source": [
        "def preprocess_data(X):\n",
        "    from tqdm import tqdm\n",
        "    \n",
        "    m = len(X)\n",
        "    str_check = [\",\", \".\", '\"', \"'\", \"(\", \")\", \"$\", \"mph\", \"-\", \"_\"]\n",
        "    str_remove = [\"-lrb-\", \"-rrb-\"]\n",
        "    \n",
        "    for i in tqdm(range(m)):\n",
        "        sentence_words = [w for w in X[i].split()]\n",
        "        j = 0\n",
        "        new_string = \"\"\n",
        "        if(i == 0):\n",
        "            print(X[i])\n",
        "        \n",
        "        for w in sentence_words:\n",
        "            try:\n",
        "               _ = word_to_index[w]\n",
        "            except KeyError:\n",
        "                for stri_r in str_remove:\n",
        "                    if(stri_r in w):\n",
        "                        #print(stri_r)\n",
        "                        w = w.replace(stri_r,\" \")\n",
        "                for stri in str_check:\n",
        "                    if(stri in w):\n",
        "                        idx = w.index(stri)\n",
        "                        if(w[idx:idx+2] == \"'s\"):\n",
        "                            stri = \"'s\"\n",
        "                            idx = w.index(stri)\n",
        "                            a = w[:idx]\n",
        "                            b = w[idx + 2:]\n",
        "                            w = a + \" \" + stri + \" \" + b\n",
        "                            continue\n",
        "                        elif(w[idx:idx+3] == \"mph\"):\n",
        "                            stri = \"mph\"\n",
        "                            idx = w.index(stri)\n",
        "                            if(w[idx - 1] == \" \"):\n",
        "                                a = \"\"\n",
        "                            else:\n",
        "                                a = w[:idx]\n",
        "                            b = w[idx + 3:]\n",
        "                            w = a + \" \" + stri + \" \" + b\n",
        "                            continue\n",
        "                        if(w[idx - 1] == \" \"):\n",
        "                            a = \"\"\n",
        "                        else:\n",
        "                            a = w[:idx]\n",
        "\n",
        "                        b = w[idx + 1:]\n",
        "                        w = a + \" \" + stri + \" \" + b\n",
        "            \n",
        "            new_string += w + \" \"\n",
        "        X[i] = new_string\n",
        "        if(i == 0):\n",
        "            print(X[i])\n",
        "    return X"
      ],
      "execution_count": 0,
      "outputs": []
    },
    {
      "metadata": {
        "_uuid": "b0d1502e9d10aa5eefb9fb45c5fef9578c4f0364",
        "id": "lEK7cl5Kuu29",
        "colab_type": "code",
        "colab": {}
      },
      "cell_type": "code",
      "source": [
        "# GRADED FUNCTION: sentences_to_indices\n",
        "\n",
        "def sentences_to_indices(X, word_to_index, max_len):\n",
        "    from tqdm import tqdm\n",
        "    \"\"\"\n",
        "    Converts an array of sentences (strings) into an array of indices corresponding to words in the sentences.\n",
        "    The output shape should be such that it can be given to `Embedding()` (described in Figure 4). \n",
        "    \n",
        "    Arguments:\n",
        "    X -- array of sentences (strings), of shape (m, 1)\n",
        "    word_to_index -- a dictionary containing the each word mapped to its index\n",
        "    max_len -- maximum number of words in a sentence. You can assume every sentence in X is no longer than this. \n",
        "    \n",
        "    Returns:\n",
        "    X_indices -- array of indices corresponding to words in the sentences from X, of shape (m, max_len)\n",
        "    \"\"\"\n",
        "    \n",
        "    m = len(X)                                # number of training examples\n",
        "    \n",
        "    ### START CODE HERE ###\n",
        "    # Initialize X_indices as a numpy matrix of zeros and the correct shape (≈ 1 line)\n",
        "    X_indices = np.zeros((m, max_len))\n",
        "    \n",
        "    for i in tqdm(range(m)):                               # loop over training examples\n",
        "        \n",
        "        # Convert the ith training sentence in lower case and split is into words. You should get a list of words.\n",
        "        sentence_words = [w.lower() for w in X[i].split()]\n",
        "        \n",
        "        # Initialize j to 0\n",
        "        j = 0\n",
        "        \n",
        "        # Loop over the words of sentence_words\n",
        "        for w in sentence_words:\n",
        "            # Set the (i,j)th entry of X_indices to the index of the correct word.\n",
        "            try:\n",
        "                #if(w == \"<unk>\"):\n",
        "                    #X_indices[i, j] = -1\n",
        "                #else:\n",
        "                    #X_indices[i, j] = word_to_index[w]\n",
        "                X_indices[i, j] = word_to_index[w]\n",
        "            except Exception as e:\n",
        "                #print(e)\n",
        "                pass\n",
        "            # Increment j to j + 1\n",
        "            j += 1\n",
        "            \n",
        "    ### END CODE HERE ###\n",
        "    \n",
        "    return X_indices"
      ],
      "execution_count": 0,
      "outputs": []
    },
    {
      "metadata": {
        "id": "NtuBTvDTIeKZ",
        "colab_type": "code",
        "colab": {}
      },
      "cell_type": "code",
      "source": [
        "# GRADED FUNCTION: sentences_to_indices\n",
        "\n",
        "def sentences_to_indices_reversed(X, word_to_index, max_len):\n",
        "    from tqdm import tqdm\n",
        "    \"\"\"\n",
        "    Converts an array of sentences (strings) into an array of indices corresponding to words in the sentences.\n",
        "    The output shape should be such that it can be given to `Embedding()` (described in Figure 4). \n",
        "    \n",
        "    Arguments:\n",
        "    X -- array of sentences (strings), of shape (m, 1)\n",
        "    word_to_index -- a dictionary containing the each word mapped to its index\n",
        "    max_len -- maximum number of words in a sentence. You can assume every sentence in X is no longer than this. \n",
        "    \n",
        "    Returns:\n",
        "    X_indices -- array of indices corresponding to words in the sentences from X, of shape (m, max_len)\n",
        "    \"\"\"\n",
        "    \n",
        "    m = len(X)                                # number of training examples\n",
        "    \n",
        "    ### START CODE HERE ###\n",
        "    # Initialize X_indices as a numpy matrix of zeros and the correct shape (≈ 1 line)\n",
        "    X_indices = np.zeros((m, max_len))\n",
        "    \n",
        "    for i in tqdm(range(m)):                               # loop over training examples\n",
        "        \n",
        "        # Convert the ith training sentence in lower case and split is into words. You should get a list of words.\n",
        "        sentence_words = [w.lower() for w in X[i].split()]\n",
        "        \n",
        "        # Initialize j to 0\n",
        "        j = 0\n",
        "        \n",
        "        # Loop over the words of sentence_words\n",
        "        for w in sentence_words:\n",
        "            # Set the (i,j)th entry of X_indices to the index of the correct word.\n",
        "            try:\n",
        "                #if(w == \"<unk>\"):\n",
        "                    #X_indices[i, j] = -1\n",
        "                #else:\n",
        "                    #X_indices[i, j] = word_to_index[w]\n",
        "                X_indices[i, - 1 - j] = word_to_index[w]\n",
        "            except Exception as e:\n",
        "                #print(e)\n",
        "                pass\n",
        "            # Increment j to j + 1\n",
        "            j += 1\n",
        "            \n",
        "    ### END CODE HERE ###\n",
        "    \n",
        "    return X_indices"
      ],
      "execution_count": 0,
      "outputs": []
    },
    {
      "metadata": {
        "_uuid": "6c5e925bca627dc0f6008eeb9cb1cf19672f596e",
        "scrolled": false,
        "id": "kuHQL_FOuu2_",
        "colab_type": "code",
        "colab": {
          "base_uri": "https://localhost:8080/",
          "height": 666
        },
        "outputId": "2aa61957-406e-4cba-e529-50b9a46a7688"
      },
      "cell_type": "code",
      "source": [
        "X = open(\"train.article.10000.txt\").readlines()[:100]\n",
        "X = preprocess_data(X)\n",
        "print(len(X))\n",
        "length = [len(x.split()) for x in X]\n",
        "maxLen = max(length)\n",
        "print(maxLen)\n",
        "X1 = sentences_to_indices_reversed(X, word_to_index, maxLen)\n",
        "print(X1.shape)\n",
        "\n",
        "print(\"X[0] =\", X[9])\n",
        "print(\"X1_indices[0] =\", X1[9])\n",
        "\n",
        "print(\"X[0] =\", X[length.index(max(length))])\n",
        "print(\"X1_indices[0] =\", X1[length.index(max(length))])\n",
        "\n",
        "\n",
        "Y = open(\"train.title.10000.txt\").readlines()[:100]\n",
        "Y = preprocess_data(Y)\n",
        "print(len(Y))\n",
        "length_Y = [len(y.split()) for y in Y]\n",
        "maxLen_Y = max(length_Y)\n",
        "print(maxLen_Y)\n",
        "Y1 = sentences_to_indices(Y, word_to_index, maxLen_Y)\n",
        "print(Y1.shape)\n",
        "print(\"Y[0] =\", Y[0])\n",
        "print(\"Y1_indices[0] =\", Y1[0])\n",
        "print(\"Y[0] =\", Y[length_Y.index(max(length_Y))])\n",
        "print(\"Y1_indices[0] =\", Y1[length_Y.index(max(length_Y))])"
      ],
      "execution_count": 24,
      "outputs": [
        {
          "output_type": "stream",
          "text": [
            "100%|██████████| 100/100 [00:00<00:00, 16401.94it/s]\n",
            "100%|██████████| 100/100 [00:00<00:00, 35261.07it/s]\n",
            "100%|██████████| 100/100 [00:00<00:00, 21368.98it/s]\n",
            "100%|██████████| 100/100 [00:00<00:00, 31368.66it/s]"
          ],
          "name": "stderr"
        },
        {
          "output_type": "stream",
          "text": [
            "australia 's current account deficit shrunk by a record #.## billion dollars -lrb- #.## billion us -rrb- in the june quarter due to soaring commodity prices , figures released monday showed .\n",
            "\n",
            "australia 's current account deficit shrunk by a record # . ## billion dollars   # . ## billion us   in the june quarter due to soaring commodity prices , figures released monday showed . \n",
            "100\n",
            "41\n",
            "(100, 41)\n",
            "X[0] = the united nations ' humanitarian chief john holmes arrived in ethiopia monday to tour regions affected by drought , which has left some eight million people in need of urgent food aid . \n",
            "X1_indices[0] = [0.00000e+00 0.00000e+00 0.00000e+00 0.00000e+00 0.00000e+00 0.00000e+00\n",
            " 0.00000e+00 0.00000e+00 8.67000e+02 4.88310e+04 1.51204e+05 3.73814e+05\n",
            " 2.68046e+05 2.58451e+05 1.88481e+05 2.80944e+05 2.44641e+05 1.34390e+05\n",
            " 3.37259e+05 2.19577e+05 1.74032e+05 3.86474e+05 4.52000e+02 1.29635e+05\n",
            " 8.81260e+04 4.74860e+04 3.04268e+05 3.62970e+05 3.60915e+05 2.48403e+05\n",
            " 1.40306e+05 1.88481e+05 6.00960e+04 1.80703e+05 1.98418e+05 9.88340e+04\n",
            " 1.83878e+05 4.80000e+01 2.57214e+05 3.72191e+05 3.57266e+05]\n",
            "X[0] = president george w. bush declared an emergency in texas and state authorities began ordering evacuations as deadly hurricane ike , which strengthened wednesday to a powerful category two storm , churned in the gulf of mexico toward the us state . \n",
            "X1_indices[0] = [   867. 341956. 374021. 357266. 363080. 242556. 268046. 168964. 357266.\n",
            " 188481. 100759.    452. 343914. 368321.  93724. 290201.  43010. 360915.\n",
            " 384674. 344582. 386474.    452. 187122. 184300. 118226.  60665. 141683.\n",
            " 271178.  71917.  63526. 341956.  54718. 356797. 188481. 136330.  54273.\n",
            " 118832.  87571. 381773. 159864. 291804.]\n",
            "australian current account deficit narrows sharply\n",
            "\n",
            "australian current account deficit narrows sharply \n",
            "100\n",
            "13\n",
            "(100, 13)\n",
            "Y[0] = australian current account deficit narrows sharply \n",
            "Y1_indices[0] = [ 63426. 113946.  45230. 119346. 256776. 327623.      0.      0.      0.\n",
            "      0.      0.      0.      0.]\n",
            "Y[0] = algeria adopts #### finance bill with oil put at ## dollars a barrel \n",
            "Y1_indices[0] = [5.12450e+04 4.67900e+04 0.00000e+00 1.48365e+05 7.60840e+04 3.88711e+05\n",
            " 2.68641e+05 2.95763e+05 6.20650e+04 1.00000e+01 1.27119e+05 4.30100e+04\n",
            " 6.93030e+04]\n"
          ],
          "name": "stdout"
        },
        {
          "output_type": "stream",
          "text": [
            "\n"
          ],
          "name": "stderr"
        }
      ]
    },
    {
      "metadata": {
        "_uuid": "ae2f7b38b5174f5297b18575ceb771b4207bf9e5",
        "id": "q_-e2Yy4uu3D",
        "colab_type": "code",
        "colab": {
          "base_uri": "https://localhost:8080/",
          "height": 34
        },
        "outputId": "ede2bb75-c73e-4260-a42f-bb7fdf81a1e1"
      },
      "cell_type": "code",
      "source": [
        "print(index_to_word[341956])"
      ],
      "execution_count": 25,
      "outputs": [
        {
          "output_type": "stream",
          "text": [
            "state\n"
          ],
          "name": "stdout"
        }
      ]
    },
    {
      "metadata": {
        "_uuid": "5a82a5bfbe6cbc2fea60ff56a81c85a75f87f7e8",
        "id": "RUSGUPQhuu3H",
        "colab_type": "code",
        "colab": {}
      },
      "cell_type": "code",
      "source": [
        "def convert_to_one_hot(X, word_to_index):\n",
        "    \n",
        "    m = X.shape[0]\n",
        "    dim = X.shape[1]\n",
        "    print(type(X))\n",
        "    length = len(word_to_index) + 1\n",
        "    print(length)\n",
        "    \n",
        "    Z = np.zeros((m, dim, length + 1))\n",
        "    \n",
        "    \n",
        "    for i in tqdm(range(m)):\n",
        "        for j in range(dim):\n",
        "            if(j > 0):\n",
        "                if(X[i,j] == -1):\n",
        "                    Z[i, j, length] = 1\n",
        "                else:\n",
        "                    idx = X[i,j]\n",
        "                    Z[i, j - 1, int(idx)] = 1\n",
        "                \n",
        "    return Z"
      ],
      "execution_count": 0,
      "outputs": []
    },
    {
      "metadata": {
        "_uuid": "b62099dd7797b287e190732711c251eb77e3e972",
        "scrolled": false,
        "id": "DYTTe2keuu3K",
        "colab_type": "code",
        "colab": {
          "base_uri": "https://localhost:8080/",
          "height": 187
        },
        "outputId": "3c0ba365-cc56-4562-ec6c-604ae24a2560"
      },
      "cell_type": "code",
      "source": [
        "decoder_target_data = convert_to_one_hot(Y1, word_to_index)\n",
        "decoder_target_data[0]"
      ],
      "execution_count": 27,
      "outputs": [
        {
          "output_type": "stream",
          "text": [
            "<class 'numpy.ndarray'>\n",
            "400001\n"
          ],
          "name": "stdout"
        },
        {
          "output_type": "stream",
          "text": [
            "100%|██████████| 100/100 [00:00<00:00, 28480.37it/s]\n"
          ],
          "name": "stderr"
        },
        {
          "output_type": "execute_result",
          "data": {
            "text/plain": [
              "array([[0., 0., 0., ..., 0., 0., 0.],\n",
              "       [0., 0., 0., ..., 0., 0., 0.],\n",
              "       [0., 0., 0., ..., 0., 0., 0.],\n",
              "       ...,\n",
              "       [1., 0., 0., ..., 0., 0., 0.],\n",
              "       [1., 0., 0., ..., 0., 0., 0.],\n",
              "       [0., 0., 0., ..., 0., 0., 0.]])"
            ]
          },
          "metadata": {
            "tags": []
          },
          "execution_count": 27
        }
      ]
    },
    {
      "metadata": {
        "_uuid": "0689fd7ea82293bae5c9286d7b72ad275265b4d4",
        "id": "r-2jtgHQuu3O",
        "colab_type": "code",
        "colab": {}
      },
      "cell_type": "code",
      "source": [
        ""
      ],
      "execution_count": 0,
      "outputs": []
    },
    {
      "metadata": {
        "_uuid": "eadb80dec6592ce803d45afb40e5d12e78f83255",
        "scrolled": false,
        "id": "bLFLfqQnuu3R",
        "colab_type": "code",
        "colab": {
          "base_uri": "https://localhost:8080/",
          "height": 231
        },
        "outputId": "e28e11fb-44eb-4fc5-9542-c2ce7f32206d"
      },
      "cell_type": "code",
      "source": [
        "X2 = open(\"dataset/DUC/duc2002/data/test/summaries/Text.txt\").readlines()\n",
        "preprocess_data(X2)\n",
        "X3 = sentences_to_indices(X2, word_to_index, max_len = 1500)\n",
        "print(\"X2[0] =\", X2[1])\n",
        "print(\"X3_indices[0] =\", X3[1])"
      ],
      "execution_count": 14,
      "outputs": [
        {
          "output_type": "error",
          "ename": "FileNotFoundError",
          "evalue": "ignored",
          "traceback": [
            "\u001b[0;31m---------------------------------------------------------------------------\u001b[0m",
            "\u001b[0;31mFileNotFoundError\u001b[0m                         Traceback (most recent call last)",
            "\u001b[0;32m<ipython-input-14-9d609b708e19>\u001b[0m in \u001b[0;36m<module>\u001b[0;34m()\u001b[0m\n\u001b[0;32m----> 1\u001b[0;31m \u001b[0mX2\u001b[0m \u001b[0;34m=\u001b[0m \u001b[0mopen\u001b[0m\u001b[0;34m(\u001b[0m\u001b[0;34m\"dataset/DUC/duc2002/data/test/summaries/Text.txt\"\u001b[0m\u001b[0;34m)\u001b[0m\u001b[0;34m.\u001b[0m\u001b[0mreadlines\u001b[0m\u001b[0;34m(\u001b[0m\u001b[0;34m)\u001b[0m\u001b[0;34m\u001b[0m\u001b[0;34m\u001b[0m\u001b[0m\n\u001b[0m\u001b[1;32m      2\u001b[0m \u001b[0mpreprocess_data\u001b[0m\u001b[0;34m(\u001b[0m\u001b[0mX2\u001b[0m\u001b[0;34m)\u001b[0m\u001b[0;34m\u001b[0m\u001b[0;34m\u001b[0m\u001b[0m\n\u001b[1;32m      3\u001b[0m \u001b[0mX3\u001b[0m \u001b[0;34m=\u001b[0m \u001b[0msentences_to_indices\u001b[0m\u001b[0;34m(\u001b[0m\u001b[0mX2\u001b[0m\u001b[0;34m,\u001b[0m \u001b[0mword_to_index\u001b[0m\u001b[0;34m,\u001b[0m \u001b[0mmax_len\u001b[0m \u001b[0;34m=\u001b[0m \u001b[0;36m1500\u001b[0m\u001b[0;34m)\u001b[0m\u001b[0;34m\u001b[0m\u001b[0;34m\u001b[0m\u001b[0m\n\u001b[1;32m      4\u001b[0m \u001b[0mprint\u001b[0m\u001b[0;34m(\u001b[0m\u001b[0;34m\"X2[0] =\"\u001b[0m\u001b[0;34m,\u001b[0m \u001b[0mX2\u001b[0m\u001b[0;34m[\u001b[0m\u001b[0;36m1\u001b[0m\u001b[0;34m]\u001b[0m\u001b[0;34m)\u001b[0m\u001b[0;34m\u001b[0m\u001b[0;34m\u001b[0m\u001b[0m\n\u001b[1;32m      5\u001b[0m \u001b[0mprint\u001b[0m\u001b[0;34m(\u001b[0m\u001b[0;34m\"X3_indices[0] =\"\u001b[0m\u001b[0;34m,\u001b[0m \u001b[0mX3\u001b[0m\u001b[0;34m[\u001b[0m\u001b[0;36m1\u001b[0m\u001b[0;34m]\u001b[0m\u001b[0;34m)\u001b[0m\u001b[0;34m\u001b[0m\u001b[0;34m\u001b[0m\u001b[0m\n",
            "\u001b[0;31mFileNotFoundError\u001b[0m: [Errno 2] No such file or directory: 'dataset/DUC/duc2002/data/test/summaries/Text.txt'"
          ]
        }
      ]
    },
    {
      "metadata": {
        "_uuid": "fe401b4d9105962786b170ef10d274c9b6ddd667",
        "id": "F1VQc9-zuu3T",
        "colab_type": "code",
        "colab": {}
      },
      "cell_type": "code",
      "source": [
        "print(index_to_word[8])\n",
        "print(word_to_index[\"#\"])"
      ],
      "execution_count": 0,
      "outputs": []
    },
    {
      "metadata": {
        "_uuid": "27d23f789b586bf6c87e7a38a2eac968a48eb4ed",
        "id": "a7VTiX6Puu3V",
        "colab_type": "code",
        "colab": {}
      },
      "cell_type": "code",
      "source": [
        "# GRADED FUNCTION: pretrained_embedding_layer\n",
        "\n",
        "def pretrained_embedding_layer(word_to_vec_map, word_to_index):\n",
        "    \"\"\"\n",
        "    Creates a Keras Embedding() layer and loads in pre-trained GloVe 50-dimensional vectors.\n",
        "    \n",
        "    Arguments:\n",
        "    word_to_vec_map -- dictionary mapping words to their GloVe vector representation.\n",
        "    word_to_index -- dictionary mapping from words to their indices in the vocabulary (400,001 words)\n",
        "\n",
        "    Returns:\n",
        "    embedding_layer -- pretrained layer Keras instance\n",
        "    \"\"\"\n",
        "    \n",
        "    vocab_len = len(word_to_index) + 1                  # adding 1 to fit Keras embedding (requirement)\n",
        "    emb_dim = word_to_vec_map[\"cucumber\"].shape[0]      # define dimensionality of your GloVe word vectors (= 50)\n",
        "    \n",
        "    ### START CODE HERE ###\n",
        "    # Initialize the embedding matrix as a numpy array of zeros of shape (vocab_len, dimensions of word vectors = emb_dim)\n",
        "    emb_matrix = np.zeros((vocab_len, emb_dim))\n",
        "    \n",
        "    # Set each row \"index\" of the embedding matrix to be the word vector representation of the \"index\"th word of the vocabulary\n",
        "    for word, index in word_to_index.items():\n",
        "        emb_matrix[index, :] = word_to_vec_map[word]\n",
        "\n",
        "    # Define Keras embedding layer with the correct output/input sizes, make it trainable. Use Embedding(...). Make sure to set trainable=False. \n",
        "    embedding_layer = Embedding(vocab_len, emb_dim, trainable = True)\n",
        "    ### END CODE HERE ###\n",
        "\n",
        "    # Build the embedding layer, it is required before setting the weights of the embedding layer. Do not modify the \"None\".\n",
        "    embedding_layer.build((None,))\n",
        "    \n",
        "    # Set the weights of the embedding layer to the embedding matrix. Your layer is now pretrained.\n",
        "    embedding_layer.set_weights([emb_matrix])\n",
        "    \n",
        "    return embedding_layer"
      ],
      "execution_count": 0,
      "outputs": []
    },
    {
      "metadata": {
        "_uuid": "80e0aa982cf969d29f8a21193e208eb02408da93",
        "id": "V51w9VkEuu3Y",
        "colab_type": "code",
        "colab": {
          "base_uri": "https://localhost:8080/",
          "height": 34
        },
        "outputId": "614f30fd-5205-4e77-bf38-b74913c252b9"
      },
      "cell_type": "code",
      "source": [
        "embedding_layer = pretrained_embedding_layer(word_to_vec_map, word_to_index)\n",
        "print(\"weights[0][1][3] =\", embedding_layer.get_weights()[0][1][3])"
      ],
      "execution_count": 29,
      "outputs": [
        {
          "output_type": "stream",
          "text": [
            "weights[0][1][3] = -0.3403\n"
          ],
          "name": "stdout"
        }
      ]
    },
    {
      "metadata": {
        "id": "pstj80DxMNWJ",
        "colab_type": "code",
        "colab": {}
      },
      "cell_type": "code",
      "source": [
        "def attention_3d_block(inputs):\n",
        "    # inputs.shape = (batch_size, time_steps, input_dim)\n",
        "    # if True, the attention vector is shared across the input_dimensions where the attention is applied.\n",
        "    SINGLE_ATTENTION_VECTOR = False\n",
        "    TIME_STEPS = inputs.shape[1]\n",
        "    vocab_len = len(word_to_index) + 1\n",
        "    emb_dim = word_to_vec_map[\"cucumber\"].shape[0]      # define dimensionality of your GloVe word vectors (= 50)\n",
        "    #print(TIME_STEPS)\n",
        "    input_dim = int(inputs.shape[2])\n",
        "    a = Permute((2, 1))(inputs)\n",
        "    #a = Reshape((input_dim, TIME_STEPS))(a) # this line is not useful. It's just to know which dimension is what.\n",
        "    a = Dense(41, activation='softmax')(a)\n",
        "    if SINGLE_ATTENTION_VECTOR:\n",
        "        a = Lambda(lambda x: K.mean(x, axis=1), name='dim_reduction')(a)\n",
        "        a = RepeatVector(input_dim)(a)\n",
        "    a_probs = Permute((2, 1), name='attention_vec')(a)\n",
        "    output_attention_mul = mul([inputs, a_probs])\n",
        "    return output_attention_mul"
      ],
      "execution_count": 0,
      "outputs": []
    },
    {
      "metadata": {
        "id": "YcN0FuErMO7o",
        "colab_type": "code",
        "colab": {}
      },
      "cell_type": "code",
      "source": [
        ""
      ],
      "execution_count": 0,
      "outputs": []
    },
    {
      "metadata": {
        "_uuid": "f9059859daa58dddf01024342d95f0a77f3e26e1",
        "id": "x_2zVNB9uu3c",
        "colab_type": "code",
        "colab": {}
      },
      "cell_type": "code",
      "source": [
        "def Model_Text(encoder_input_shape, word_to_vec_map, word_to_index, decoder_input_shape):\n",
        "    \n",
        "    vocab_len = len(word_to_index) + 1                  # adding 1 to fit Keras embedding (requirement)\n",
        "    emb_dim = word_to_vec_map[\"cucumber\"].shape[0]      # define dimensionality of GloVe word vectors (= 50)\n",
        "    \n",
        "    sentence_indices = Input(encoder_input_shape, dtype='int32')\n",
        "    \n",
        "    embedding_layer = pretrained_embedding_layer(word_to_vec_map, word_to_index)\n",
        "    \n",
        "    embeddings = embedding_layer(sentence_indices) \n",
        "    \n",
        "    attention_mul = attention_3d_block(embeddings)\n",
        "    \n",
        "    X, state_h, state_c = LSTM(emb_dim, return_state=True)(attention_mul)\n",
        "    \n",
        "    \n",
        "    encoder_states = [state_h, state_c]\n",
        "    \n",
        "    \n",
        "    #Set up the decoder, using `encoder_states` as initial state.\n",
        "\n",
        "    decoder_inputs = Input(decoder_input_shape, dtype = 'int32')\n",
        "    \n",
        "    \n",
        "    embedding_layer = pretrained_embedding_layer(word_to_vec_map, word_to_index)\n",
        "    embeddings = embedding_layer(decoder_inputs) \n",
        "    \n",
        "    x = LSTM(emb_dim, return_sequences = True)(embeddings, initial_state=encoder_states)\n",
        "    \n",
        "    decoder_outputs = Dense(vocab_len + 1, activation='softmax')(x)\n",
        "\n",
        "    \n",
        "    model = Model(inputs=[sentence_indices, decoder_inputs], outputs= decoder_outputs)\n",
        "    \n",
        "    \n",
        "    # Encoder Model for Inference\n",
        "    encoder_model = Model(sentence_indices, encoder_states)\n",
        "\n",
        "    \n",
        "    # Decoder Model for Inference\n",
        "    decoder_state_input_h = Input(shape=(emb_dim,), name = \"Inference_decoder_input_hidden_state\")\n",
        "    decoder_state_input_c = Input(shape=(emb_dim,), name = \"Inference_decoder_input_cell_state\")\n",
        "    decoder_states_inputs = [decoder_state_input_h, decoder_state_input_c]\n",
        "    \n",
        "    decoder_outputs_1, state_h, state_c = LSTM(emb_dim,\n",
        "                                               return_sequences=True, \n",
        "                                               return_state=True,\n",
        "                                               name = \"Inference_decoder_LSTM\")(embeddings, initial_state=decoder_states_inputs)\n",
        "    \n",
        "    decoder_states = [state_h, state_c]\n",
        "    \n",
        "    decoder_outputs_1 = Dense(vocab_len + 1, \n",
        "                              activation='softmax',\n",
        "                              kernel_initializer= glorot_uniform(seed = 0),\n",
        "                              bias_initializer='zeros',\n",
        "                              name = \"decoder_Dense_Output\")(decoder_outputs_1)\n",
        "    decoder_model = Model([decoder_inputs] + decoder_states_inputs,\n",
        "                          [decoder_outputs_1] + decoder_states)\n",
        "\n",
        "    return model, encoder_model, decoder_model"
      ],
      "execution_count": 0,
      "outputs": []
    },
    {
      "metadata": {
        "_uuid": "028c7323e0aec568b1a613e7750a9f8c6604a676",
        "id": "DloNf-kpuu3f",
        "colab_type": "code",
        "colab": {}
      },
      "cell_type": "code",
      "source": [
        "concatenator = Concatenate(axis = 1)"
      ],
      "execution_count": 0,
      "outputs": []
    },
    {
      "metadata": {
        "_uuid": "ec781ef1d05b557fe5a0d6cdb2700c24edd5a552",
        "id": "LLZ6FDVKuu3h",
        "colab_type": "code",
        "colab": {}
      },
      "cell_type": "code",
      "source": [
        "def Model_Text3(encoder_input_shape, word_to_vec_map, word_to_index, decoder_input_shape):\n",
        "    \n",
        "    vocab_len = len(word_to_index) + 1                  # adding 1 to fit Keras embedding (requirement)\n",
        "    emb_dim = word_to_vec_map[\"cucumber\"].shape[0]      # define dimensionality of GloVe word vectors (= 50)\n",
        "    \n",
        "    sentence_indices = Input(encoder_input_shape, dtype='int32')\n",
        "    \n",
        "    embedding_layer = pretrained_embedding_layer(word_to_vec_map, word_to_index)\n",
        "    \n",
        "    embeddings = embedding_layer(sentence_indices) \n",
        "    \n",
        "    X, _, _ = LSTM(emb_dim, return_state=True)(embeddings)\n",
        "    \n",
        "    \n",
        "    \n",
        "    #Set up the decoder, using `encoder_states` as initial state.\n",
        "    print(decoder_input_shape)\n",
        "    print(encoder_input_shape)\n",
        "    decoder_inputs = Input(decoder_input_shape, dtype='int32')\n",
        "    \n",
        "    \n",
        "    embedding_layer = pretrained_embedding_layer(word_to_vec_map, word_to_index)\n",
        "    \n",
        "    embeddings = embedding_layer(decoder_inputs)\n",
        "    \n",
        "    x, _, _ = LSTM(emb_dim, return_state=True)(embeddings)\n",
        "    \n",
        "    \n",
        "    decoder1 = concatenator([X, x])\n",
        "    \n",
        "    decoder_outputs = Dense(vocab_len + 1, activation='softmax')(decoder1)\n",
        "\n",
        "    \n",
        "    model = Model(inputs=[sentence_indices, decoder_inputs], outputs= decoder_outputs)\n",
        "    \n",
        "    return model"
      ],
      "execution_count": 0,
      "outputs": []
    },
    {
      "metadata": {
        "_uuid": "55b6b67f02384d0de0d1bf1c7152975aed9073ce",
        "id": "NJwHBo8Cuu3j",
        "colab_type": "code",
        "colab": {}
      },
      "cell_type": "code",
      "source": [
        "def Model_Text2(encoder_input_shape, word_to_vec_map, word_to_index, decoder_input_shape):\n",
        "    \n",
        "    vocab_len = len(word_to_index) + 1                  # adding 1 to fit Keras embedding (requirement)\n",
        "    emb_dim = word_to_vec_map[\"cucumber\"].shape[0]      # define dimensionality of GloVe word vectors (= 50)\n",
        "    \n",
        "    sentence_indices = Input(encoder_input_shape, dtype='int32')\n",
        "    \n",
        "    embedding_layer = pretrained_embedding_layer(word_to_vec_map, word_to_index)\n",
        "    \n",
        "    embeddings = embedding_layer(sentence_indices) \n",
        "    \n",
        "    X, _, _ = LSTM(emb_dim, return_state=True)(embeddings)\n",
        "    \n",
        "    \n",
        "    #x = LSTM(emb_dim)(X)\n",
        "    \n",
        "    decoder_outputs = Dense(vocab_len + 1, activation='softmax')(X)\n",
        "\n",
        "    \n",
        "    model = Model(inputs=sentence_indices, outputs= decoder_outputs)\n",
        "    \n",
        "    return model"
      ],
      "execution_count": 0,
      "outputs": []
    },
    {
      "metadata": {
        "_uuid": "1ef6d5abc51408698e05f2d65fb77e619c4d0aa2",
        "scrolled": false,
        "id": "0j_ns1a0uu3m",
        "colab_type": "code",
        "colab": {
          "base_uri": "https://localhost:8080/",
          "height": 1404
        },
        "outputId": "d4054a13-20a0-44bb-8fd6-26d7bd21d010"
      },
      "cell_type": "code",
      "source": [
        "model, encoder_model, decoder_model = Model_Text((maxLen,), word_to_vec_map, word_to_index, (maxLen_Y,))\n",
        "model.summary()\n",
        "# Print Model Summary\n",
        "plot_model(model, to_file='model_word_attention.png')\n",
        "SVG(model_to_dot(model).create(prog='dot', format='svg'))\n"
      ],
      "execution_count": 38,
      "outputs": [
        {
          "output_type": "stream",
          "text": [
            "__________________________________________________________________________________________________\n",
            "Layer (type)                    Output Shape         Param #     Connected to                     \n",
            "==================================================================================================\n",
            "input_3 (InputLayer)            (None, 41)           0                                            \n",
            "__________________________________________________________________________________________________\n",
            "embedding_4 (Embedding)         (None, 41, 50)       20000050    input_3[0][0]                    \n",
            "__________________________________________________________________________________________________\n",
            "permute_2 (Permute)             (None, 50, 41)       0           embedding_4[0][0]                \n",
            "__________________________________________________________________________________________________\n",
            "dense_3 (Dense)                 (None, 50, 41)       1722        permute_2[0][0]                  \n",
            "__________________________________________________________________________________________________\n",
            "attention_vec (Permute)         (None, 41, 50)       0           dense_3[0][0]                    \n",
            "__________________________________________________________________________________________________\n",
            "input_4 (InputLayer)            (None, 13)           0                                            \n",
            "__________________________________________________________________________________________________\n",
            "multiply_2 (Multiply)           (None, 41, 50)       0           embedding_4[0][0]                \n",
            "                                                                 attention_vec[0][0]              \n",
            "__________________________________________________________________________________________________\n",
            "embedding_5 (Embedding)         (None, 13, 50)       20000050    input_4[0][0]                    \n",
            "__________________________________________________________________________________________________\n",
            "lstm_3 (LSTM)                   [(None, 50), (None,  20200       multiply_2[0][0]                 \n",
            "__________________________________________________________________________________________________\n",
            "lstm_4 (LSTM)                   (None, 13, 50)       20200       embedding_5[0][0]                \n",
            "                                                                 lstm_3[0][1]                     \n",
            "                                                                 lstm_3[0][2]                     \n",
            "__________________________________________________________________________________________________\n",
            "dense_4 (Dense)                 (None, 13, 400002)   20400102    lstm_4[0][0]                     \n",
            "==================================================================================================\n",
            "Total params: 60,442,324\n",
            "Trainable params: 60,442,324\n",
            "Non-trainable params: 0\n",
            "__________________________________________________________________________________________________\n"
          ],
          "name": "stdout"
        },
        {
          "output_type": "execute_result",
          "data": {
            "text/plain": [
              "<IPython.core.display.SVG object>"
            ],
            "image/svg+xml": "<svg height=\"629pt\" viewBox=\"0.00 0.00 373.50 629.00\" width=\"374pt\" xmlns=\"http://www.w3.org/2000/svg\" xmlns:xlink=\"http://www.w3.org/1999/xlink\">\n<g class=\"graph\" id=\"graph0\" transform=\"scale(1 1) rotate(0) translate(4 625)\">\n<title>G</title>\n<polygon fill=\"#ffffff\" points=\"-4,4 -4,-625 369.5,-625 369.5,4 -4,4\" stroke=\"transparent\"/>\n<!-- 139820497008624 -->\n<g class=\"node\" id=\"node1\">\n<title>139820497008624</title>\n<polygon fill=\"none\" points=\"59.5,-584.5 59.5,-620.5 192.5,-620.5 192.5,-584.5 59.5,-584.5\" stroke=\"#000000\"/>\n<text fill=\"#000000\" font-family=\"Times,serif\" font-size=\"14.00\" text-anchor=\"middle\" x=\"126\" y=\"-598.8\">input_3: InputLayer</text>\n</g>\n<!-- 139820497007728 -->\n<g class=\"node\" id=\"node2\">\n<title>139820497007728</title>\n<polygon fill=\"none\" points=\"40.5,-511.5 40.5,-547.5 211.5,-547.5 211.5,-511.5 40.5,-511.5\" stroke=\"#000000\"/>\n<text fill=\"#000000\" font-family=\"Times,serif\" font-size=\"14.00\" text-anchor=\"middle\" x=\"126\" y=\"-525.8\">embedding_4: Embedding</text>\n</g>\n<!-- 139820497008624&#45;&gt;139820497007728 -->\n<g class=\"edge\" id=\"edge1\">\n<title>139820497008624-&gt;139820497007728</title>\n<path d=\"M126,-584.4551C126,-576.3828 126,-566.6764 126,-557.6817\" fill=\"none\" stroke=\"#000000\"/>\n<polygon fill=\"#000000\" points=\"129.5001,-557.5903 126,-547.5904 122.5001,-557.5904 129.5001,-557.5903\" stroke=\"#000000\"/>\n</g>\n<!-- 139820497322784 -->\n<g class=\"node\" id=\"node3\">\n<title>139820497322784</title>\n<polygon fill=\"none\" points=\"12.5,-438.5 12.5,-474.5 145.5,-474.5 145.5,-438.5 12.5,-438.5\" stroke=\"#000000\"/>\n<text fill=\"#000000\" font-family=\"Times,serif\" font-size=\"14.00\" text-anchor=\"middle\" x=\"79\" y=\"-452.8\">permute_2: Permute</text>\n</g>\n<!-- 139820497007728&#45;&gt;139820497322784 -->\n<g class=\"edge\" id=\"edge2\">\n<title>139820497007728-&gt;139820497322784</title>\n<path d=\"M114.382,-511.4551C108.9024,-502.9441 102.2531,-492.6165 96.2045,-483.2219\" fill=\"none\" stroke=\"#000000\"/>\n<polygon fill=\"#000000\" points=\"99.0035,-481.1037 90.6472,-474.5904 93.1178,-484.8931 99.0035,-481.1037\" stroke=\"#000000\"/>\n</g>\n<!-- 139820496895168 -->\n<g class=\"node\" id=\"node7\">\n<title>139820496895168</title>\n<polygon fill=\"none\" points=\"56,-219.5 56,-255.5 194,-255.5 194,-219.5 56,-219.5\" stroke=\"#000000\"/>\n<text fill=\"#000000\" font-family=\"Times,serif\" font-size=\"14.00\" text-anchor=\"middle\" x=\"125\" y=\"-233.8\">multiply_2: Multiply</text>\n</g>\n<!-- 139820497007728&#45;&gt;139820496895168 -->\n<g class=\"edge\" id=\"edge5\">\n<title>139820497007728-&gt;139820496895168</title>\n<path d=\"M138.0779,-511.1731C144.0973,-500.9747 150.7677,-487.7883 154,-475 173.9334,-396.1359 178.341,-370.4949 157,-292 154.3787,-282.3584 149.5732,-272.6801 144.4691,-264.2112\" fill=\"none\" stroke=\"#000000\"/>\n<polygon fill=\"#000000\" points=\"147.2554,-262.073 138.9027,-255.5551 141.3677,-265.8592 147.2554,-262.073\" stroke=\"#000000\"/>\n</g>\n<!-- 139820497007000 -->\n<g class=\"node\" id=\"node4\">\n<title>139820497007000</title>\n<polygon fill=\"none\" points=\"22.5,-365.5 22.5,-401.5 129.5,-401.5 129.5,-365.5 22.5,-365.5\" stroke=\"#000000\"/>\n<text fill=\"#000000\" font-family=\"Times,serif\" font-size=\"14.00\" text-anchor=\"middle\" x=\"76\" y=\"-379.8\">dense_3: Dense</text>\n</g>\n<!-- 139820497322784&#45;&gt;139820497007000 -->\n<g class=\"edge\" id=\"edge3\">\n<title>139820497322784-&gt;139820497007000</title>\n<path d=\"M78.2584,-438.4551C77.9267,-430.3828 77.5278,-420.6764 77.1582,-411.6817\" fill=\"none\" stroke=\"#000000\"/>\n<polygon fill=\"#000000\" points=\"80.6512,-411.4382 76.7434,-401.5904 73.6571,-411.7257 80.6512,-411.4382\" stroke=\"#000000\"/>\n</g>\n<!-- 139820496392768 -->\n<g class=\"node\" id=\"node5\">\n<title>139820496392768</title>\n<polygon fill=\"none\" points=\"0,-292.5 0,-328.5 148,-328.5 148,-292.5 0,-292.5\" stroke=\"#000000\"/>\n<text fill=\"#000000\" font-family=\"Times,serif\" font-size=\"14.00\" text-anchor=\"middle\" x=\"74\" y=\"-306.8\">attention_vec: Permute</text>\n</g>\n<!-- 139820497007000&#45;&gt;139820496392768 -->\n<g class=\"edge\" id=\"edge4\">\n<title>139820497007000-&gt;139820496392768</title>\n<path d=\"M75.5056,-365.4551C75.2845,-357.3828 75.0185,-347.6764 74.7721,-338.6817\" fill=\"none\" stroke=\"#000000\"/>\n<polygon fill=\"#000000\" points=\"78.2683,-338.4907 74.4956,-328.5904 71.2709,-338.6825 78.2683,-338.4907\" stroke=\"#000000\"/>\n</g>\n<!-- 139820496392768&#45;&gt;139820496895168 -->\n<g class=\"edge\" id=\"edge6\">\n<title>139820496392768-&gt;139820496895168</title>\n<path d=\"M86.6067,-292.4551C92.614,-283.8564 99.9168,-273.4034 106.5341,-263.9316\" fill=\"none\" stroke=\"#000000\"/>\n<polygon fill=\"#000000\" points=\"109.5036,-265.7925 112.3615,-255.5904 103.7652,-261.7835 109.5036,-265.7925\" stroke=\"#000000\"/>\n</g>\n<!-- 139820497065184 -->\n<g class=\"node\" id=\"node6\">\n<title>139820497065184</title>\n<polygon fill=\"none\" points=\"213.5,-219.5 213.5,-255.5 346.5,-255.5 346.5,-219.5 213.5,-219.5\" stroke=\"#000000\"/>\n<text fill=\"#000000\" font-family=\"Times,serif\" font-size=\"14.00\" text-anchor=\"middle\" x=\"280\" y=\"-233.8\">input_4: InputLayer</text>\n</g>\n<!-- 139820497611520 -->\n<g class=\"node\" id=\"node8\">\n<title>139820497611520</title>\n<polygon fill=\"none\" points=\"194.5,-146.5 194.5,-182.5 365.5,-182.5 365.5,-146.5 194.5,-146.5\" stroke=\"#000000\"/>\n<text fill=\"#000000\" font-family=\"Times,serif\" font-size=\"14.00\" text-anchor=\"middle\" x=\"280\" y=\"-160.8\">embedding_5: Embedding</text>\n</g>\n<!-- 139820497065184&#45;&gt;139820497611520 -->\n<g class=\"edge\" id=\"edge7\">\n<title>139820497065184-&gt;139820497611520</title>\n<path d=\"M280,-219.4551C280,-211.3828 280,-201.6764 280,-192.6817\" fill=\"none\" stroke=\"#000000\"/>\n<polygon fill=\"#000000\" points=\"283.5001,-192.5903 280,-182.5904 276.5001,-192.5904 283.5001,-192.5903\" stroke=\"#000000\"/>\n</g>\n<!-- 139820496893488 -->\n<g class=\"node\" id=\"node9\">\n<title>139820496893488</title>\n<polygon fill=\"none\" points=\"74,-146.5 74,-182.5 176,-182.5 176,-146.5 74,-146.5\" stroke=\"#000000\"/>\n<text fill=\"#000000\" font-family=\"Times,serif\" font-size=\"14.00\" text-anchor=\"middle\" x=\"125\" y=\"-160.8\">lstm_3: LSTM</text>\n</g>\n<!-- 139820496895168&#45;&gt;139820496893488 -->\n<g class=\"edge\" id=\"edge8\">\n<title>139820496895168-&gt;139820496893488</title>\n<path d=\"M125,-219.4551C125,-211.3828 125,-201.6764 125,-192.6817\" fill=\"none\" stroke=\"#000000\"/>\n<polygon fill=\"#000000\" points=\"128.5001,-192.5903 125,-182.5904 121.5001,-192.5904 128.5001,-192.5903\" stroke=\"#000000\"/>\n</g>\n<!-- 139820497611632 -->\n<g class=\"node\" id=\"node10\">\n<title>139820497611632</title>\n<polygon fill=\"none\" points=\"151,-73.5 151,-109.5 253,-109.5 253,-73.5 151,-73.5\" stroke=\"#000000\"/>\n<text fill=\"#000000\" font-family=\"Times,serif\" font-size=\"14.00\" text-anchor=\"middle\" x=\"202\" y=\"-87.8\">lstm_4: LSTM</text>\n</g>\n<!-- 139820497611520&#45;&gt;139820497611632 -->\n<g class=\"edge\" id=\"edge9\">\n<title>139820497611520-&gt;139820497611632</title>\n<path d=\"M260.7191,-146.4551C251.0627,-137.4177 239.2176,-126.3319 228.7016,-116.4899\" fill=\"none\" stroke=\"#000000\"/>\n<polygon fill=\"#000000\" points=\"231.0223,-113.8681 221.3294,-109.5904 226.239,-118.979 231.0223,-113.8681\" stroke=\"#000000\"/>\n</g>\n<!-- 139820496893488&#45;&gt;139820497611632 -->\n<g class=\"edge\" id=\"edge10\">\n<title>139820496893488-&gt;139820497611632</title>\n<path d=\"M144.0337,-146.4551C153.5663,-137.4177 165.2595,-126.3319 175.6408,-116.4899\" fill=\"none\" stroke=\"#000000\"/>\n<polygon fill=\"#000000\" points=\"178.0693,-119.0104 182.9184,-109.5904 173.2533,-113.9305 178.0693,-119.0104\" stroke=\"#000000\"/>\n</g>\n<!-- 139820497536952 -->\n<g class=\"node\" id=\"node11\">\n<title>139820497536952</title>\n<polygon fill=\"none\" points=\"148.5,-.5 148.5,-36.5 255.5,-36.5 255.5,-.5 148.5,-.5\" stroke=\"#000000\"/>\n<text fill=\"#000000\" font-family=\"Times,serif\" font-size=\"14.00\" text-anchor=\"middle\" x=\"202\" y=\"-14.8\">dense_4: Dense</text>\n</g>\n<!-- 139820497611632&#45;&gt;139820497536952 -->\n<g class=\"edge\" id=\"edge12\">\n<title>139820497611632-&gt;139820497536952</title>\n<path d=\"M202,-73.4551C202,-65.3828 202,-55.6764 202,-46.6817\" fill=\"none\" stroke=\"#000000\"/>\n<polygon fill=\"#000000\" points=\"205.5001,-46.5903 202,-36.5904 198.5001,-46.5904 205.5001,-46.5903\" stroke=\"#000000\"/>\n</g>\n</g>\n</svg>"
          },
          "metadata": {
            "tags": []
          },
          "execution_count": 38
        }
      ]
    },
    {
      "metadata": {
        "id": "yw9D4HIvuu3n",
        "colab_type": "code",
        "colab": {
          "base_uri": "https://localhost:8080/",
          "height": 1056
        },
        "outputId": "b4e49374-857b-4c8a-be67-3c317b1c1852"
      },
      "cell_type": "code",
      "source": [
        "print(encoder_model.summary())\n",
        "plot_model(model, to_file='encoder_model_word_attention.png')\n",
        "SVG(model_to_dot(encoder_model).create(prog='dot', format='svg'))"
      ],
      "execution_count": 39,
      "outputs": [
        {
          "output_type": "stream",
          "text": [
            "__________________________________________________________________________________________________\n",
            "Layer (type)                    Output Shape         Param #     Connected to                     \n",
            "==================================================================================================\n",
            "input_3 (InputLayer)            (None, 41)           0                                            \n",
            "__________________________________________________________________________________________________\n",
            "embedding_4 (Embedding)         (None, 41, 50)       20000050    input_3[0][0]                    \n",
            "__________________________________________________________________________________________________\n",
            "permute_2 (Permute)             (None, 50, 41)       0           embedding_4[0][0]                \n",
            "__________________________________________________________________________________________________\n",
            "dense_3 (Dense)                 (None, 50, 41)       1722        permute_2[0][0]                  \n",
            "__________________________________________________________________________________________________\n",
            "attention_vec (Permute)         (None, 41, 50)       0           dense_3[0][0]                    \n",
            "__________________________________________________________________________________________________\n",
            "multiply_2 (Multiply)           (None, 41, 50)       0           embedding_4[0][0]                \n",
            "                                                                 attention_vec[0][0]              \n",
            "__________________________________________________________________________________________________\n",
            "lstm_3 (LSTM)                   [(None, 50), (None,  20200       multiply_2[0][0]                 \n",
            "==================================================================================================\n",
            "Total params: 20,021,972\n",
            "Trainable params: 20,021,972\n",
            "Non-trainable params: 0\n",
            "__________________________________________________________________________________________________\n",
            "None\n"
          ],
          "name": "stdout"
        },
        {
          "output_type": "execute_result",
          "data": {
            "text/plain": [
              "<IPython.core.display.SVG object>"
            ],
            "image/svg+xml": "<svg height=\"483pt\" viewBox=\"0.00 0.00 219.50 483.00\" width=\"220pt\" xmlns=\"http://www.w3.org/2000/svg\" xmlns:xlink=\"http://www.w3.org/1999/xlink\">\n<g class=\"graph\" id=\"graph0\" transform=\"scale(1 1) rotate(0) translate(4 479)\">\n<title>G</title>\n<polygon fill=\"#ffffff\" points=\"-4,4 -4,-479 215.5,-479 215.5,4 -4,4\" stroke=\"transparent\"/>\n<!-- 139820497008624 -->\n<g class=\"node\" id=\"node1\">\n<title>139820497008624</title>\n<polygon fill=\"none\" points=\"59.5,-438.5 59.5,-474.5 192.5,-474.5 192.5,-438.5 59.5,-438.5\" stroke=\"#000000\"/>\n<text fill=\"#000000\" font-family=\"Times,serif\" font-size=\"14.00\" text-anchor=\"middle\" x=\"126\" y=\"-452.8\">input_3: InputLayer</text>\n</g>\n<!-- 139820497007728 -->\n<g class=\"node\" id=\"node2\">\n<title>139820497007728</title>\n<polygon fill=\"none\" points=\"40.5,-365.5 40.5,-401.5 211.5,-401.5 211.5,-365.5 40.5,-365.5\" stroke=\"#000000\"/>\n<text fill=\"#000000\" font-family=\"Times,serif\" font-size=\"14.00\" text-anchor=\"middle\" x=\"126\" y=\"-379.8\">embedding_4: Embedding</text>\n</g>\n<!-- 139820497008624&#45;&gt;139820497007728 -->\n<g class=\"edge\" id=\"edge1\">\n<title>139820497008624-&gt;139820497007728</title>\n<path d=\"M126,-438.4551C126,-430.3828 126,-420.6764 126,-411.6817\" fill=\"none\" stroke=\"#000000\"/>\n<polygon fill=\"#000000\" points=\"129.5001,-411.5903 126,-401.5904 122.5001,-411.5904 129.5001,-411.5903\" stroke=\"#000000\"/>\n</g>\n<!-- 139820497322784 -->\n<g class=\"node\" id=\"node3\">\n<title>139820497322784</title>\n<polygon fill=\"none\" points=\"12.5,-292.5 12.5,-328.5 145.5,-328.5 145.5,-292.5 12.5,-292.5\" stroke=\"#000000\"/>\n<text fill=\"#000000\" font-family=\"Times,serif\" font-size=\"14.00\" text-anchor=\"middle\" x=\"79\" y=\"-306.8\">permute_2: Permute</text>\n</g>\n<!-- 139820497007728&#45;&gt;139820497322784 -->\n<g class=\"edge\" id=\"edge2\">\n<title>139820497007728-&gt;139820497322784</title>\n<path d=\"M114.382,-365.4551C108.9024,-356.9441 102.2531,-346.6165 96.2045,-337.2219\" fill=\"none\" stroke=\"#000000\"/>\n<polygon fill=\"#000000\" points=\"99.0035,-335.1037 90.6472,-328.5904 93.1178,-338.8931 99.0035,-335.1037\" stroke=\"#000000\"/>\n</g>\n<!-- 139820496895168 -->\n<g class=\"node\" id=\"node6\">\n<title>139820496895168</title>\n<polygon fill=\"none\" points=\"56,-73.5 56,-109.5 194,-109.5 194,-73.5 56,-73.5\" stroke=\"#000000\"/>\n<text fill=\"#000000\" font-family=\"Times,serif\" font-size=\"14.00\" text-anchor=\"middle\" x=\"125\" y=\"-87.8\">multiply_2: Multiply</text>\n</g>\n<!-- 139820497007728&#45;&gt;139820496895168 -->\n<g class=\"edge\" id=\"edge5\">\n<title>139820497007728-&gt;139820496895168</title>\n<path d=\"M138.0779,-365.1731C144.0973,-354.9747 150.7677,-341.7883 154,-329 173.9334,-250.1359 178.341,-224.4949 157,-146 154.3787,-136.3584 149.5732,-126.6801 144.4691,-118.2112\" fill=\"none\" stroke=\"#000000\"/>\n<polygon fill=\"#000000\" points=\"147.2554,-116.073 138.9027,-109.5551 141.3677,-119.8592 147.2554,-116.073\" stroke=\"#000000\"/>\n</g>\n<!-- 139820497007000 -->\n<g class=\"node\" id=\"node4\">\n<title>139820497007000</title>\n<polygon fill=\"none\" points=\"22.5,-219.5 22.5,-255.5 129.5,-255.5 129.5,-219.5 22.5,-219.5\" stroke=\"#000000\"/>\n<text fill=\"#000000\" font-family=\"Times,serif\" font-size=\"14.00\" text-anchor=\"middle\" x=\"76\" y=\"-233.8\">dense_3: Dense</text>\n</g>\n<!-- 139820497322784&#45;&gt;139820497007000 -->\n<g class=\"edge\" id=\"edge3\">\n<title>139820497322784-&gt;139820497007000</title>\n<path d=\"M78.2584,-292.4551C77.9267,-284.3828 77.5278,-274.6764 77.1582,-265.6817\" fill=\"none\" stroke=\"#000000\"/>\n<polygon fill=\"#000000\" points=\"80.6512,-265.4382 76.7434,-255.5904 73.6571,-265.7257 80.6512,-265.4382\" stroke=\"#000000\"/>\n</g>\n<!-- 139820496392768 -->\n<g class=\"node\" id=\"node5\">\n<title>139820496392768</title>\n<polygon fill=\"none\" points=\"0,-146.5 0,-182.5 148,-182.5 148,-146.5 0,-146.5\" stroke=\"#000000\"/>\n<text fill=\"#000000\" font-family=\"Times,serif\" font-size=\"14.00\" text-anchor=\"middle\" x=\"74\" y=\"-160.8\">attention_vec: Permute</text>\n</g>\n<!-- 139820497007000&#45;&gt;139820496392768 -->\n<g class=\"edge\" id=\"edge4\">\n<title>139820497007000-&gt;139820496392768</title>\n<path d=\"M75.5056,-219.4551C75.2845,-211.3828 75.0185,-201.6764 74.7721,-192.6817\" fill=\"none\" stroke=\"#000000\"/>\n<polygon fill=\"#000000\" points=\"78.2683,-192.4907 74.4956,-182.5904 71.2709,-192.6825 78.2683,-192.4907\" stroke=\"#000000\"/>\n</g>\n<!-- 139820496392768&#45;&gt;139820496895168 -->\n<g class=\"edge\" id=\"edge6\">\n<title>139820496392768-&gt;139820496895168</title>\n<path d=\"M86.6067,-146.4551C92.614,-137.8564 99.9168,-127.4034 106.5341,-117.9316\" fill=\"none\" stroke=\"#000000\"/>\n<polygon fill=\"#000000\" points=\"109.5036,-119.7925 112.3615,-109.5904 103.7652,-115.7835 109.5036,-119.7925\" stroke=\"#000000\"/>\n</g>\n<!-- 139820496893488 -->\n<g class=\"node\" id=\"node7\">\n<title>139820496893488</title>\n<polygon fill=\"none\" points=\"74,-.5 74,-36.5 176,-36.5 176,-.5 74,-.5\" stroke=\"#000000\"/>\n<text fill=\"#000000\" font-family=\"Times,serif\" font-size=\"14.00\" text-anchor=\"middle\" x=\"125\" y=\"-14.8\">lstm_3: LSTM</text>\n</g>\n<!-- 139820496895168&#45;&gt;139820496893488 -->\n<g class=\"edge\" id=\"edge7\">\n<title>139820496895168-&gt;139820496893488</title>\n<path d=\"M125,-73.4551C125,-65.3828 125,-55.6764 125,-46.6817\" fill=\"none\" stroke=\"#000000\"/>\n<polygon fill=\"#000000\" points=\"128.5001,-46.5903 125,-36.5904 121.5001,-46.5904 128.5001,-46.5903\" stroke=\"#000000\"/>\n</g>\n</g>\n</svg>"
          },
          "metadata": {
            "tags": []
          },
          "execution_count": 39
        }
      ]
    },
    {
      "metadata": {
        "id": "kyuhPReSuu3t",
        "colab_type": "code",
        "colab": {
          "base_uri": "https://localhost:8080/",
          "height": 747
        },
        "outputId": "aaea3680-b166-4c39-891e-056bd5339b12"
      },
      "cell_type": "code",
      "source": [
        "print(decoder_model.summary())\n",
        "plot_model(model, to_file='decoder_model_word_attention.png')\n",
        "SVG(model_to_dot(decoder_model).create(prog='dot', format='svg'))"
      ],
      "execution_count": 41,
      "outputs": [
        {
          "output_type": "stream",
          "text": [
            "__________________________________________________________________________________________________\n",
            "Layer (type)                    Output Shape         Param #     Connected to                     \n",
            "==================================================================================================\n",
            "input_4 (InputLayer)            (None, 13)           0                                            \n",
            "__________________________________________________________________________________________________\n",
            "embedding_5 (Embedding)         (None, 13, 50)       20000050    input_4[0][0]                    \n",
            "__________________________________________________________________________________________________\n",
            "Inference_decoder_input_hidden_ (None, 50)           0                                            \n",
            "__________________________________________________________________________________________________\n",
            "Inference_decoder_input_cell_st (None, 50)           0                                            \n",
            "__________________________________________________________________________________________________\n",
            "Inference_decoder_LSTM (LSTM)   [(None, 13, 50), (No 20200       embedding_5[0][0]                \n",
            "                                                                 Inference_decoder_input_hidden_st\n",
            "                                                                 Inference_decoder_input_cell_stat\n",
            "__________________________________________________________________________________________________\n",
            "decoder_Dense_Output (Dense)    (None, 13, 400002)   20400102    Inference_decoder_LSTM[0][0]     \n",
            "==================================================================================================\n",
            "Total params: 40,420,352\n",
            "Trainable params: 40,420,352\n",
            "Non-trainable params: 0\n",
            "__________________________________________________________________________________________________\n",
            "None\n"
          ],
          "name": "stdout"
        },
        {
          "output_type": "execute_result",
          "data": {
            "text/plain": [
              "<IPython.core.display.SVG object>"
            ],
            "image/svg+xml": "<svg height=\"264pt\" viewBox=\"0.00 0.00 815.50 264.00\" width=\"816pt\" xmlns=\"http://www.w3.org/2000/svg\" xmlns:xlink=\"http://www.w3.org/1999/xlink\">\n<g class=\"graph\" id=\"graph0\" transform=\"scale(1 1) rotate(0) translate(4 260)\">\n<title>G</title>\n<polygon fill=\"#ffffff\" points=\"-4,4 -4,-260 811.5,-260 811.5,4 -4,4\" stroke=\"transparent\"/>\n<!-- 139820497065184 -->\n<g class=\"node\" id=\"node1\">\n<title>139820497065184</title>\n<polygon fill=\"none\" points=\"19,-219.5 19,-255.5 152,-255.5 152,-219.5 19,-219.5\" stroke=\"#000000\"/>\n<text fill=\"#000000\" font-family=\"Times,serif\" font-size=\"14.00\" text-anchor=\"middle\" x=\"85.5\" y=\"-233.8\">input_4: InputLayer</text>\n</g>\n<!-- 139820497611520 -->\n<g class=\"node\" id=\"node2\">\n<title>139820497611520</title>\n<polygon fill=\"none\" points=\"0,-146.5 0,-182.5 171,-182.5 171,-146.5 0,-146.5\" stroke=\"#000000\"/>\n<text fill=\"#000000\" font-family=\"Times,serif\" font-size=\"14.00\" text-anchor=\"middle\" x=\"85.5\" y=\"-160.8\">embedding_5: Embedding</text>\n</g>\n<!-- 139820497065184&#45;&gt;139820497611520 -->\n<g class=\"edge\" id=\"edge1\">\n<title>139820497065184-&gt;139820497611520</title>\n<path d=\"M85.5,-219.4551C85.5,-211.3828 85.5,-201.6764 85.5,-192.6817\" fill=\"none\" stroke=\"#000000\"/>\n<polygon fill=\"#000000\" points=\"89.0001,-192.5903 85.5,-182.5904 82.0001,-192.5904 89.0001,-192.5903\" stroke=\"#000000\"/>\n</g>\n<!-- 139820496939888 -->\n<g class=\"node\" id=\"node5\">\n<title>139820496939888</title>\n<polygon fill=\"none\" points=\"237,-73.5 237,-109.5 452,-109.5 452,-73.5 237,-73.5\" stroke=\"#000000\"/>\n<text fill=\"#000000\" font-family=\"Times,serif\" font-size=\"14.00\" text-anchor=\"middle\" x=\"344.5\" y=\"-87.8\">Inference_decoder_LSTM: LSTM</text>\n</g>\n<!-- 139820497611520&#45;&gt;139820496939888 -->\n<g class=\"edge\" id=\"edge2\">\n<title>139820497611520-&gt;139820496939888</title>\n<path d=\"M149.5225,-146.4551C186.1005,-136.1454 232.1363,-123.1701 270.2894,-112.4165\" fill=\"none\" stroke=\"#000000\"/>\n<polygon fill=\"#000000\" points=\"271.6409,-115.672 280.3164,-109.5904 269.7419,-108.9345 271.6409,-115.672\" stroke=\"#000000\"/>\n</g>\n<!-- 139820496938432 -->\n<g class=\"node\" id=\"node3\">\n<title>139820496938432</title>\n<polygon fill=\"none\" points=\"189.5,-146.5 189.5,-182.5 499.5,-182.5 499.5,-146.5 189.5,-146.5\" stroke=\"#000000\"/>\n<text fill=\"#000000\" font-family=\"Times,serif\" font-size=\"14.00\" text-anchor=\"middle\" x=\"344.5\" y=\"-160.8\">Inference_decoder_input_hidden_state: InputLayer</text>\n</g>\n<!-- 139820496938432&#45;&gt;139820496939888 -->\n<g class=\"edge\" id=\"edge3\">\n<title>139820496938432-&gt;139820496939888</title>\n<path d=\"M344.5,-146.4551C344.5,-138.3828 344.5,-128.6764 344.5,-119.6817\" fill=\"none\" stroke=\"#000000\"/>\n<polygon fill=\"#000000\" points=\"348.0001,-119.5903 344.5,-109.5904 341.0001,-119.5904 348.0001,-119.5903\" stroke=\"#000000\"/>\n</g>\n<!-- 139820497524888 -->\n<g class=\"node\" id=\"node4\">\n<title>139820497524888</title>\n<polygon fill=\"none\" points=\"517.5,-146.5 517.5,-182.5 807.5,-182.5 807.5,-146.5 517.5,-146.5\" stroke=\"#000000\"/>\n<text fill=\"#000000\" font-family=\"Times,serif\" font-size=\"14.00\" text-anchor=\"middle\" x=\"662.5\" y=\"-160.8\">Inference_decoder_input_cell_state: InputLayer</text>\n</g>\n<!-- 139820497524888&#45;&gt;139820496939888 -->\n<g class=\"edge\" id=\"edge4\">\n<title>139820497524888-&gt;139820496939888</title>\n<path d=\"M583.8932,-146.4551C538.1325,-135.9502 480.3156,-122.6778 432.9656,-111.8081\" fill=\"none\" stroke=\"#000000\"/>\n<polygon fill=\"#000000\" points=\"433.5582,-108.3532 423.0286,-109.527 431.992,-115.1758 433.5582,-108.3532\" stroke=\"#000000\"/>\n</g>\n<!-- 139820496801520 -->\n<g class=\"node\" id=\"node6\">\n<title>139820496801520</title>\n<polygon fill=\"none\" points=\"247,-.5 247,-36.5 442,-36.5 442,-.5 247,-.5\" stroke=\"#000000\"/>\n<text fill=\"#000000\" font-family=\"Times,serif\" font-size=\"14.00\" text-anchor=\"middle\" x=\"344.5\" y=\"-14.8\">decoder_Dense_Output: Dense</text>\n</g>\n<!-- 139820496939888&#45;&gt;139820496801520 -->\n<g class=\"edge\" id=\"edge5\">\n<title>139820496939888-&gt;139820496801520</title>\n<path d=\"M344.5,-73.4551C344.5,-65.3828 344.5,-55.6764 344.5,-46.6817\" fill=\"none\" stroke=\"#000000\"/>\n<polygon fill=\"#000000\" points=\"348.0001,-46.5903 344.5,-36.5904 341.0001,-46.5904 348.0001,-46.5903\" stroke=\"#000000\"/>\n</g>\n</g>\n</svg>"
          },
          "metadata": {
            "tags": []
          },
          "execution_count": 41
        }
      ]
    },
    {
      "metadata": {
        "_uuid": "5e868e819218f82da6c032d9e22985d87dbf8f1c",
        "id": "DwCBgXA-uu3v",
        "colab_type": "code",
        "colab": {}
      },
      "cell_type": "code",
      "source": [
        "rmsprop = optimizers.RMSprop(lr=0.02)\n",
        "# Compile & run training\n",
        "model.compile(optimizer=rmsprop, loss='categorical_crossentropy', metrics = ['accuracy'])"
      ],
      "execution_count": 0,
      "outputs": []
    },
    {
      "metadata": {
        "_uuid": "aabf7a6de1e2a003de21b7c076479c16e1c9c43c",
        "scrolled": true,
        "id": "fJUtQ6Vfuu3y",
        "colab_type": "code",
        "colab": {
          "base_uri": "https://localhost:8080/",
          "height": 34
        },
        "outputId": "d1268ffb-93a0-4b86-d4b3-76c495448698"
      },
      "cell_type": "code",
      "source": [
        "history = model.fit([X1, Y1], decoder_target_data, batch_size = 6, epochs = 10, shuffle = True) "
      ],
      "execution_count": 0,
      "outputs": [
        {
          "output_type": "stream",
          "text": [
            "Epoch 1/10\n"
          ],
          "name": "stdout"
        }
      ]
    },
    {
      "metadata": {
        "scrolled": true,
        "id": "RWFnNOlguu3z",
        "colab_type": "code",
        "colab": {},
        "outputId": "49df34a0-f820-4e97-9b23-cd364973919e"
      },
      "cell_type": "code",
      "source": [
        "history1 = model.fit([X1, Y1], decoder_target_data, batch_size = 6, epochs = 5, shuffle = True)"
      ],
      "execution_count": 0,
      "outputs": [
        {
          "output_type": "stream",
          "text": [
            "Epoch 1/5\n",
            "100/100 [==============================] - ETA: 2:10 - loss: 3.4168 - acc: 0.487 - ETA: 2:02 - loss: 3.5411 - acc: 0.467 - ETA: 1:53 - loss: 3.5712 - acc: 0.474 - ETA: 1:44 - loss: 3.6777 - acc: 0.458 - ETA: 1:36 - loss: 3.7065 - acc: 0.456 - ETA: 1:28 - loss: 3.7533 - acc: 0.450 - ETA: 1:20 - loss: 3.8413 - acc: 0.441 - ETA: 1:12 - loss: 3.8035 - acc: 0.447 - ETA: 1:04 - loss: 3.7928 - acc: 0.448 - ETA: 55s - loss: 3.7556 - acc: 0.451 - ETA: 47s - loss: 3.6839 - acc: 0.46 - ETA: 39s - loss: 3.6377 - acc: 0.47 - ETA: 30s - loss: 3.6064 - acc: 0.48 - ETA: 22s - loss: 3.6689 - acc: 0.47 - ETA: 13s - loss: 3.7224 - acc: 0.46 - ETA: 5s - loss: 3.7434 - acc: 0.4639 - 140s 1s/step - loss: 3.7408 - acc: 0.4646\n",
            "Epoch 2/5\n",
            "100/100 [==============================] - ETA: 2:10 - loss: 3.4598 - acc: 0.474 - ETA: 2:01 - loss: 3.5369 - acc: 0.461 - ETA: 1:53 - loss: 3.5034 - acc: 0.474 - ETA: 1:45 - loss: 3.5641 - acc: 0.464 - ETA: 1:36 - loss: 3.5255 - acc: 0.476 - ETA: 1:28 - loss: 3.4711 - acc: 0.489 - ETA: 1:19 - loss: 3.4153 - acc: 0.496 - ETA: 1:11 - loss: 3.5171 - acc: 0.482 - ETA: 1:03 - loss: 3.5301 - acc: 0.482 - ETA: 55s - loss: 3.5620 - acc: 0.479 - ETA: 46s - loss: 3.5669 - acc: 0.47 - ETA: 38s - loss: 3.5797 - acc: 0.47 - ETA: 30s - loss: 3.5984 - acc: 0.47 - ETA: 22s - loss: 3.5909 - acc: 0.46 - ETA: 13s - loss: 3.5883 - acc: 0.47 - ETA: 5s - loss: 3.6216 - acc: 0.4647 - 138s 1s/step - loss: 3.6165 - acc: 0.4646\n",
            "Epoch 3/5\n",
            "100/100 [==============================] - ETA: 2:04 - loss: 3.2554 - acc: 0.474 - ETA: 1:58 - loss: 3.2072 - acc: 0.487 - ETA: 1:51 - loss: 3.2536 - acc: 0.478 - ETA: 1:43 - loss: 3.1721 - acc: 0.487 - ETA: 1:35 - loss: 3.2303 - acc: 0.492 - ETA: 1:28 - loss: 3.2423 - acc: 0.489 - ETA: 1:19 - loss: 3.3339 - acc: 0.481 - ETA: 1:11 - loss: 3.3865 - acc: 0.477 - ETA: 1:03 - loss: 3.4035 - acc: 0.475 - ETA: 54s - loss: 3.4071 - acc: 0.478 - ETA: 46s - loss: 3.4019 - acc: 0.48 - ETA: 38s - loss: 3.4448 - acc: 0.47 - ETA: 30s - loss: 3.4644 - acc: 0.47 - ETA: 21s - loss: 3.4767 - acc: 0.47 - ETA: 13s - loss: 3.5070 - acc: 0.46 - ETA: 5s - loss: 3.5112 - acc: 0.4647 - 137s 1s/step - loss: 3.5169 - acc: 0.4646\n",
            "Epoch 4/5\n",
            "100/100 [==============================] - ETA: 2:11 - loss: 3.2928 - acc: 0.448 - ETA: 2:01 - loss: 3.5359 - acc: 0.423 - ETA: 1:53 - loss: 3.6215 - acc: 0.414 - ETA: 1:44 - loss: 3.5704 - acc: 0.426 - ETA: 1:36 - loss: 3.4577 - acc: 0.446 - ETA: 1:27 - loss: 3.3688 - acc: 0.461 - ETA: 1:18 - loss: 3.3533 - acc: 0.467 - ETA: 1:10 - loss: 3.4137 - acc: 0.459 - ETA: 1:03 - loss: 3.3887 - acc: 0.463 - ETA: 54s - loss: 3.4085 - acc: 0.465 - ETA: 46s - loss: 3.4317 - acc: 0.46 - ETA: 38s - loss: 3.4758 - acc: 0.45 - ETA: 30s - loss: 3.4643 - acc: 0.45 - ETA: 22s - loss: 3.4393 - acc: 0.46 - ETA: 13s - loss: 3.4585 - acc: 0.45 - ETA: 5s - loss: 3.4310 - acc: 0.4655 - 139s 1s/step - loss: 3.4322 - acc: 0.4646\n",
            "Epoch 5/5\n",
            "100/100 [==============================] - ETA: 2:09 - loss: 3.3168 - acc: 0.410 - ETA: 1:59 - loss: 3.4612 - acc: 0.429 - ETA: 1:51 - loss: 3.3822 - acc: 0.448 - ETA: 1:43 - loss: 3.3686 - acc: 0.448 - ETA: 1:35 - loss: 3.2933 - acc: 0.461 - ETA: 1:29 - loss: 3.2340 - acc: 0.476 - ETA: 1:20 - loss: 3.3435 - acc: 0.457 - ETA: 1:12 - loss: 3.3496 - acc: 0.461 - ETA: 1:03 - loss: 3.3868 - acc: 0.457 - ETA: 55s - loss: 3.3801 - acc: 0.460 - ETA: 47s - loss: 3.3256 - acc: 0.47 - ETA: 38s - loss: 3.3291 - acc: 0.46 - ETA: 30s - loss: 3.3470 - acc: 0.46 - ETA: 22s - loss: 3.3386 - acc: 0.46 - ETA: 13s - loss: 3.3716 - acc: 0.46 - ETA: 5s - loss: 3.3503 - acc: 0.4671 - 139s 1s/step - loss: 3.3693 - acc: 0.4646\n"
          ],
          "name": "stdout"
        }
      ]
    },
    {
      "metadata": {
        "id": "zWw6JO6nuu31",
        "colab_type": "code",
        "colab": {
          "base_uri": "https://localhost:8080/",
          "height": 735
        },
        "outputId": "97df2901-2334-476a-e590-ee78c248cabc"
      },
      "cell_type": "code",
      "source": [
        "# Plot training & validation accuracy values\n",
        "plt.plot(history.history['acc'])\n",
        "#plt.plot(history.history['val_acc'])\n",
        "plt.title('Model accuracy')\n",
        "plt.ylabel('Accuracy')\n",
        "plt.xlabel('Epoch')\n",
        "plt.legend(['Train', 'Test'], loc='upper left')\n",
        "plt.savefig('Model_Acc_Word_level_1-1_input_reversed')\n",
        "plt.show()\n",
        "\n",
        "# Plot training & validation loss values\n",
        "plt.plot(history.history['loss'])\n",
        "#plt.plot(history.history['val_loss'])\n",
        "plt.title('Model loss')\n",
        "plt.ylabel('Loss')\n",
        "plt.xlabel('Epoch')\n",
        "plt.legend(['Train', 'Test'], loc='upper left')\n",
        "plt.savefig('Model_Loss_Word_level_1-1_input_reversed')\n",
        "plt.show()"
      ],
      "execution_count": 31,
      "outputs": [
        {
          "output_type": "display_data",
          "data": {
            "image/png": "[encoded data removed]",
            "text/plain": [
              "<matplotlib.figure.Figure at 0x7f7587f06ac8>"
            ]
          },
          "metadata": {
            "tags": []
          }
        },
        {
          "output_type": "display_data",
          "data": {
            "image/png": "[encoded data removed]",
            "text/plain": [
              "<matplotlib.figure.Figure at 0x7f7587ec1a90>"
            ]
          },
          "metadata": {
            "tags": []
          }
        }
      ]
    },
    {
      "metadata": {
        "id": "N4Wcud_Tuu35",
        "colab_type": "code",
        "colab": {}
      },
      "cell_type": "code",
      "source": [
        "def decode_word_sequence(input_seq):\n",
        "    # Encode the input as state vectors.\n",
        "    states_value = encoder_model.predict(input_seq)\n",
        "\n",
        "    # Generate empty target sequence of length 1.\n",
        "    target_seq = np.zeros(( 1, 13))\n",
        "    # Populate the first character of target sequence with the start character.\n",
        "    #target_seq[0, 0] = word_to_index['\\t']\n",
        "    \n",
        "    # Sampling loop for a batch of sequences\n",
        "    # (to simplify, here we assume a batch of size 1).\n",
        "    stop_condition = False\n",
        "    decoded_sentence = ''\n",
        "    i = 0\n",
        "    while not stop_condition:\n",
        "        output_tokens, h, c = decoder_model.predict(\n",
        "            [target_seq] + states_value)\n",
        "\n",
        "        # Sample a token\n",
        "        sampled_token_index = np.argmax(output_tokens[0, 0, :])\n",
        "        sampled_word = index_to_word[sampled_token_index]\n",
        "        decoded_sentence += sampled_word + \" \"\n",
        "\n",
        "        # Exit condition: either hit max length\n",
        "        # or find stop character.\n",
        "        if (sampled_word == '\\n' or\n",
        "           len(decoded_sentence) > 41):\n",
        "            stop_condition = True\n",
        "\n",
        "        # Update the target sequence (of length 1).\n",
        "        target_seq = np.zeros((1, 13))\n",
        "        target_seq[0, i] = sampled_token_index\n",
        "        i += 1\n",
        "\n",
        "        # Update states\n",
        "        states_value = [h, c]\n",
        "\n",
        "    return decoded_sentence"
      ],
      "execution_count": 0,
      "outputs": []
    },
    {
      "metadata": {
        "id": "9SucUwNluu37",
        "colab_type": "code",
        "colab": {
          "base_uri": "https://localhost:8080/",
          "height": 717
        },
        "outputId": "07fb892e-5ad4-45ed-a3bf-44786aa5af15"
      },
      "cell_type": "code",
      "source": [
        "for seq_index in range(10):\n",
        "\n",
        "    # Take one sequence (part of the training set) for trying out decoding.\n",
        "    input_seq = X1[seq_index: seq_index + 1]\n",
        "    print(input_seq.shape)\n",
        "    decoded_sentence = decode_word_sequence(input_seq)\n",
        "\n",
        "    print('-')\n",
        "    print('Input sentence:', X[seq_index])\n",
        "    print('Decoded sentence:', decoded_sentence)"
      ],
      "execution_count": 33,
      "outputs": [
        {
          "output_type": "stream",
          "text": [
            "(1, 41)\n",
            "-\n",
            "Input sentence: australia 's current account deficit shrunk by a record # . ## billion dollars   # . ## billion us   in the june quarter due to soaring commodity prices , figures released monday showed . \n",
            "Decoded sentence: chaptal 248.1 incredible incredible incredible \n",
            "(1, 41)\n",
            "-\n",
            "Input sentence: at least two people were killed in a suspected bomb attack on a passenger bus in the strife - torn southern philippines on monday , the military said . \n",
            "Decoded sentence: 61.08 mdrv incredible incredible incredible \n",
            "(1, 41)\n",
            "-\n",
            "Input sentence: australian shares closed down # . # percent monday following a weak lead from the united states and lower commodity prices , dealers said . \n",
            "Decoded sentence: nexis x51mm incredible incredible incredible \n",
            "(1, 41)\n",
            "-\n",
            "Input sentence: south korea 's nuclear envoy kim sook urged north korea monday to restart work to disable its nuclear plants and stop its `` typical '' brinkmanship in negotiations . \n",
            "Decoded sentence: wisemen warangal incredible incredible incredible \n",
            "(1, 41)\n",
            "-\n",
            "Input sentence: south korea on monday announced sweeping tax reforms , including income and corporate tax cuts to boost growth by stimulating sluggish private consumption and business investment . \n",
            "Decoded sentence: shiozawa emotes incredible incredible incredible \n",
            "(1, 41)\n",
            "-\n",
            "Input sentence: taiwan share prices closed down # . ## percent monday on wall street weakness and lacklustre interim earnings from electronics manufacturing giant hon hai , dealers said . \n",
            "Decoded sentence: 13.36 apatosaurus incredible incredible incredible \n",
            "(1, 41)\n",
            "-\n",
            "Input sentence: australian shares closed down # . # percent monday following a weak lead from the united states and lower commodity prices , dealers said . \n",
            "Decoded sentence: nexis x51mm incredible incredible incredible \n",
            "(1, 41)\n",
            "-\n",
            "Input sentence: spanish property group colonial , struggling under huge debts , announced losses of # . ## billion euros for the first half of #### which it blamed on asset depreciation . \n",
            "Decoded sentence: daiyu disembarkation incredible incredible \n",
            "(1, 41)\n",
            "-\n",
            "Input sentence: libyan leader moamer kadhafi monday promised wide political and economic reforms that he said would see ministries dismantled and oil revenues going directly into the pockets of the people . \n",
            "Decoded sentence: vickerson katzl incredible incredible incredible \n",
            "(1, 41)\n",
            "-\n",
            "Input sentence: the united nations ' humanitarian chief john holmes arrived in ethiopia monday to tour regions affected by drought , which has left some eight million people in need of urgent food aid . \n",
            "Decoded sentence: daiyu disembarkation incredible incredible \n"
          ],
          "name": "stdout"
        }
      ]
    },
    {
      "metadata": {
        "_uuid": "c718df170fa508d6e5649cc4de3b7c728e5bad1e",
        "id": "RlZ9S7ajuu3-",
        "colab_type": "code",
        "colab": {},
        "outputId": "b5262081-a8a4-4725-8ba0-330ec2f8283e"
      },
      "cell_type": "code",
      "source": [
        "decoder_target_data[0]"
      ],
      "execution_count": 0,
      "outputs": [
        {
          "output_type": "execute_result",
          "data": {
            "text/plain": [
              "array([[0., 0., 0., ..., 0., 0., 0.],\n",
              "       [0., 0., 0., ..., 0., 0., 0.],\n",
              "       [0., 0., 0., ..., 0., 0., 0.],\n",
              "       ...,\n",
              "       [1., 0., 0., ..., 0., 0., 0.],\n",
              "       [1., 0., 0., ..., 0., 0., 0.],\n",
              "       [0., 0., 0., ..., 0., 0., 0.]])"
            ]
          },
          "metadata": {
            "tags": []
          },
          "execution_count": 121
        }
      ]
    },
    {
      "metadata": {
        "_uuid": "2895c7fbf13b49003db453dcea6d88df70ed5c90",
        "id": "2hiN0Uo7uu4A",
        "colab_type": "code",
        "colab": {},
        "outputId": "bf8921d6-097a-43f1-c1be-bff68433eac9"
      },
      "cell_type": "code",
      "source": [
        "loss, acc = model.evaluate([X1 , Y1], decoder_target_data[:,:,:])\n",
        "print(\"Accuracy\" + str(acc))"
      ],
      "execution_count": 0,
      "outputs": [
        {
          "output_type": "stream",
          "text": [
            "100/100 [==============================] - ETA: 2: - ETA: 50s - ETA: 4 - 117s 1s/step\n",
            "Accuracy0.46461538195610047\n"
          ],
          "name": "stdout"
        }
      ]
    },
    {
      "metadata": {
        "_uuid": "a73d4970b7c0b2a43da9887a763603e1d287aa0e",
        "id": "WoSdCYViuu4E",
        "colab_type": "code",
        "colab": {},
        "outputId": "4e1de3f5-d313-4598-f6dd-320977ebf5d4"
      },
      "cell_type": "code",
      "source": [
        "acc"
      ],
      "execution_count": 0,
      "outputs": [
        {
          "output_type": "execute_result",
          "data": {
            "text/plain": [
              "0.46461538195610047"
            ]
          },
          "metadata": {
            "tags": []
          },
          "execution_count": 124
        }
      ]
    },
    {
      "metadata": {
        "_uuid": "84e550cfe4bbb00ebe457f06e9475b4153b333da",
        "scrolled": true,
        "id": "BXXSWrbfuu4G",
        "colab_type": "code",
        "colab": {},
        "outputId": "a2cea8e0-d86e-4058-efb3-d58f6fed6352"
      },
      "cell_type": "code",
      "source": [
        "idx = model.predict([X1[:10,:], Y1[:10,:]], verbose = 0)\n",
        "print(idx.shape)\n",
        "print(idx)\n",
        "id1 = {}\n",
        "for i in range(idx.shape[0]):\n",
        "    id1[str(i)] = []\n",
        "    for j in range(idx.shape[1]):\n",
        "        try:\n",
        "            id1[str(i)].append(index_to_word[np.argmax(idx[i,j,:])])\n",
        "        except Exception as e:\n",
        "            id1[str(i)].append(index_to_word[np.argmax(idx[i,j,:]) + 1])\n",
        "            pass\n",
        "print(id1)"
      ],
      "execution_count": 0,
      "outputs": [
        {
          "output_type": "stream",
          "text": [
            "(10, 13, 400002)\n",
            "[[[3.9995812e-02 1.9187546e-06 1.9409463e-06 ... 1.9284203e-06\n",
            "   1.9194865e-06 1.9712222e-06]\n",
            "  [3.9996184e-02 1.9187485e-06 1.9409422e-06 ... 1.9284159e-06\n",
            "   1.9194804e-06 1.9712161e-06]\n",
            "  [3.9996240e-02 1.9187494e-06 1.9409392e-06 ... 1.9284153e-06\n",
            "   1.9194797e-06 1.9712152e-06]\n",
            "  ...\n",
            "  [3.9996248e-02 1.9187478e-06 1.9409397e-06 ... 1.9284155e-06\n",
            "   1.9194799e-06 1.9712154e-06]\n",
            "  [3.9996248e-02 1.9187496e-06 1.9409397e-06 ... 1.9284155e-06\n",
            "   1.9194799e-06 1.9712154e-06]\n",
            "  [3.9996248e-02 1.9187496e-06 1.9409397e-06 ... 1.9284155e-06\n",
            "   1.9194817e-06 1.9712154e-06]]\n",
            "\n",
            " [[3.9995898e-02 1.9187530e-06 1.9409429e-06 ... 1.9284189e-06\n",
            "   1.9194813e-06 1.9712188e-06]\n",
            "  [3.9996196e-02 1.9187489e-06 1.9409408e-06 ... 1.9284166e-06\n",
            "   1.9194811e-06 1.9712165e-06]\n",
            "  [3.9996248e-02 1.9187478e-06 1.9409397e-06 ... 1.9284155e-06\n",
            "   1.9194799e-06 1.9712154e-06]\n",
            "  ...\n",
            "  [3.9996266e-02 1.9187489e-06 1.9409406e-06 ... 1.9284166e-06\n",
            "   1.9194811e-06 1.9712165e-06]\n",
            "  [3.9996266e-02 1.9187505e-06 1.9409406e-06 ... 1.9284164e-06\n",
            "   1.9194808e-06 1.9712163e-06]\n",
            "  [3.9996266e-02 1.9187505e-06 1.9409406e-06 ... 1.9284164e-06\n",
            "   1.9194808e-06 1.9712163e-06]]\n",
            "\n",
            " [[3.9994713e-02 1.9187621e-06 1.9409540e-06 ... 1.9284334e-06\n",
            "   1.9194940e-06 1.9712320e-06]\n",
            "  [3.9995976e-02 1.9187496e-06 1.9409413e-06 ... 1.9284189e-06\n",
            "   1.9194815e-06 1.9712172e-06]\n",
            "  [3.9996218e-02 1.9187501e-06 1.9409420e-06 ... 1.9284178e-06\n",
            "   1.9194820e-06 1.9712177e-06]\n",
            "  ...\n",
            "  [3.9996266e-02 1.9187489e-06 1.9409406e-06 ... 1.9284166e-06\n",
            "   1.9194811e-06 1.9712165e-06]\n",
            "  [3.9996266e-02 1.9187487e-06 1.9409406e-06 ... 1.9284164e-06\n",
            "   1.9194808e-06 1.9712163e-06]\n",
            "  [3.9996259e-02 1.9187503e-06 1.9409401e-06 ... 1.9284162e-06\n",
            "   1.9194806e-06 1.9712161e-06]]\n",
            "\n",
            " ...\n",
            "\n",
            " [[3.9995257e-02 1.9187551e-06 1.9409490e-06 ... 1.9284248e-06\n",
            "   1.9194872e-06 1.9712229e-06]\n",
            "  [3.9996110e-02 1.9187485e-06 1.9409422e-06 ... 1.9284162e-06\n",
            "   1.9194806e-06 1.9712161e-06]\n",
            "  [3.9978333e-02 1.9188526e-06 1.9410436e-06 ... 1.9285023e-06\n",
            "   1.9195718e-06 1.9713043e-06]\n",
            "  ...\n",
            "  [3.9996147e-02 1.9187503e-06 1.9409385e-06 ... 1.9284180e-06\n",
            "   1.9194806e-06 1.9712163e-06]\n",
            "  [3.9996114e-02 1.9187487e-06 1.9409406e-06 ... 1.9284164e-06\n",
            "   1.9194811e-06 1.9712165e-06]\n",
            "  [3.9996099e-02 1.9187480e-06 1.9409397e-06 ... 1.9284155e-06\n",
            "   1.9194802e-06 1.9712156e-06]]\n",
            "\n",
            " [[3.9643925e-02 1.9195245e-06 1.9422253e-06 ... 1.9297847e-06\n",
            "   1.9206486e-06 1.9725983e-06]\n",
            "  [3.9996084e-02 1.9187491e-06 1.9409429e-06 ... 1.9284187e-06\n",
            "   1.9194813e-06 1.9712188e-06]\n",
            "  [3.9501268e-02 1.9200388e-06 1.9421213e-06 ... 1.9299173e-06\n",
            "   1.9210515e-06 1.9727411e-06]\n",
            "  ...\n",
            "  [3.9996248e-02 1.9187496e-06 1.9409397e-06 ... 1.9284155e-06\n",
            "   1.9194799e-06 1.9712154e-06]\n",
            "  [3.9996248e-02 1.9187496e-06 1.9409415e-06 ... 1.9284155e-06\n",
            "   1.9194817e-06 1.9712174e-06]\n",
            "  [3.9996210e-02 1.9187496e-06 1.9409415e-06 ... 1.9284173e-06\n",
            "   1.9194817e-06 1.9712174e-06]]\n",
            "\n",
            " [[3.9995976e-02 1.9187512e-06 1.9409431e-06 ... 1.9284189e-06\n",
            "   1.9194833e-06 1.9712172e-06]\n",
            "  [3.9996218e-02 1.9187501e-06 1.9409420e-06 ... 1.9284178e-06\n",
            "   1.9194820e-06 1.9712177e-06]\n",
            "  [3.9996266e-02 1.9187489e-06 1.9409406e-06 ... 1.9284166e-06\n",
            "   1.9194811e-06 1.9712165e-06]\n",
            "  ...\n",
            "  [3.9996248e-02 1.9187496e-06 1.9409397e-06 ... 1.9284173e-06\n",
            "   1.9194799e-06 1.9712154e-06]\n",
            "  [3.9996248e-02 1.9187514e-06 1.9409397e-06 ... 1.9284173e-06\n",
            "   1.9194799e-06 1.9712174e-06]\n",
            "  [3.9996222e-02 1.9187503e-06 1.9409404e-06 ... 1.9284180e-06\n",
            "   1.9194806e-06 1.9712181e-06]]]\n",
            "{'0': ['!', '!', '!', '!', '!', '!', '!', '!', '!', '!', '!', '!', '!'], '1': ['!', '!', '!', '!', '!', '!', '!', '!', '!', '!', '!', '!', '!'], '2': ['!', '!', '!', '!', '!', '!', '!', '!', '!', '!', '!', '!', '!'], '3': ['!', '!', '!', '!', '!', '!', '!', '!', '!', '!', '!', '!', '!'], '4': ['!', '!', '!', '!', '!', '!', '!', '!', '!', '!', '!', '!', '!'], '5': ['!', '!', '!', '!', '!', '!', '!', '!', '!', '!', '!', '!', '!'], '6': ['!', '!', '!', '!', '!', '!', '!', '!', '!', '!', '!', '!', '!'], '7': ['!', '!', '!', '!', '!', '!', '!', '!', '!', '!', '!', '!', '!'], '8': ['!', '!', '!', '!', '!', '!', '!', '!', '!', '!', '!', '!', '!'], '9': ['!', '!', '!', '!', '!', '!', '!', '!', '!', '!', '!', '!', '!']}\n"
          ],
          "name": "stdout"
        }
      ]
    },
    {
      "metadata": {
        "id": "qMmZgSVeuu4I",
        "colab_type": "code",
        "colab": {}
      },
      "cell_type": "code",
      "source": [
        ""
      ],
      "execution_count": 0,
      "outputs": []
    },
    {
      "metadata": {
        "id": "mx3pGpo1uu4K",
        "colab_type": "code",
        "colab": {}
      },
      "cell_type": "code",
      "source": [
        "for seq_index in range(5):\n",
        "\n",
        "    # Take one sequence (part of the training set) for trying out decoding.\n",
        "    input_seq = encoder_input_data[seq_index: seq_index + 1]\n",
        "    decoded_sentence = decode_sequence(input_seq)\n",
        "\n",
        "    print('-')\n",
        "    print('Input sentence:', input_texts[seq_index])\n",
        "    print('Decoded sentence:', decoded_sentence)"
      ],
      "execution_count": 0,
      "outputs": []
    },
    {
      "metadata": {
        "_uuid": "4c1aa4eaf7e7fc182a7a9cf72cf76712a81026fe",
        "id": "8D6zQ2Ckuu4L",
        "colab_type": "code",
        "colab": {}
      },
      "cell_type": "code",
      "source": [
        "idx = model.predict([X1, Y1], verbose = 0)"
      ],
      "execution_count": 0,
      "outputs": []
    },
    {
      "metadata": {
        "_uuid": "60360c9d31c4fc6d386d0890e09d58d1abcceb47",
        "id": "DrYIv7l0uu4M",
        "colab_type": "code",
        "colab": {}
      },
      "cell_type": "code",
      "source": [
        "print(idx.shape)\n",
        "id = []\n",
        "for i in range(idx.shape[0]):\n",
        "    id.append(index_to_word[np.argmax(idx[i,:])])\n"
      ],
      "execution_count": 0,
      "outputs": []
    },
    {
      "metadata": {
        "_uuid": "937a3d33385299e14f9a5408ed8e5a1d4b6c5d8b",
        "id": "f1DQ-KHtuu4O",
        "colab_type": "code",
        "colab": {}
      },
      "cell_type": "code",
      "source": [
        "id"
      ],
      "execution_count": 0,
      "outputs": []
    },
    {
      "metadata": {
        "_uuid": "8c91b0b9469281cc380b296a7d8e9543182127af",
        "id": "iYL61dv-uu4Q",
        "colab_type": "code",
        "colab": {}
      },
      "cell_type": "code",
      "source": [
        ""
      ],
      "execution_count": 0,
      "outputs": []
    }
  ]
}